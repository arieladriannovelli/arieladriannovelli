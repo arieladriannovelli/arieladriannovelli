{
 "cells": [
  {
   "cell_type": "markdown",
   "metadata": {},
   "source": [
    "# Building collaborative filtering model for recommending products to customers\n",
    "* Description: A documentation on building collaborative filtering model for recommending products to customers\n",
    "* Tech: python + turicreate + (optional) Amazon SageMaker  \n",
    "* Author: Ariel Novelli / arieladriannovelli@gmail.com\n",
    "     \n",
    "## Problem statement\n",
    "* We are building a model for recommending product items based on previously purchased items.\n",
    "* The output will be a function that searches for a recommendation list based on a speficied user.  \n",
    "Input: userID  \n",
    "Returns: ranked list of items (productIDs), that the user is most likely to want to put in her \"basket\".  \n",
    "\n",
    "## Some considerations\n",
    "* I will be using a dataset from a bookstore, but you can use a dataset from any domain.\n",
    "* The structure of the input file should be like this: userID, productID  \n",
    "* I will be using a large dataset with more than 100k users and more than 20k products.  \n",
    "* To avoid any kind of \"out of memory\" error I will be using an AWS SageMaker Notebook instance.  \n",
    "* If you are going to use a larga dataset I encorage you to do the same and launch an AWS SageMaker Notebook instance. It's easy!  \n",
    "\n",
    "## AWS SageMaker Notebook instance\n",
    "To create an Amazon SageMaker notebook instance:\n",
    "1. Open the Amazon SageMaker console at https://console.aws.amazon.com/sagemaker/.  \n",
    "2. Choose Notebook instances, then choose Create notebook instance.  \n",
    "3. On the Create notebook instance page, provide the following information:  \n",
    "a. For Notebook instance name, type a name for your notebook instance.  \n",
    "b. For Notebook instance type, choose an instance type for your notebook instance. For a list of supported instance types, see Amazon SageMaker Limits.  \n",
    "c. For Elastic Inference, choose an inference accelerator type to associate with the notebook instance if you plan to conduct inferences from the notebook instance, or choose none. For information about elastic inference, see Use Amazon SageMaker Elastic Inference (EI).  \n",
    "d. (Optional) Additional configuration lets advanced users create a shell script that can run when you create or start the instance. This script, called a lifecycle configuration script, can be used to set the environment for the notebook or to perform other functions. For information, see Customize a Notebook Instance Using a Lifecycle Configuration Script.  \n",
    "e. (Optional) Additional configuration also lets you specify the size, in GB, of the ML storage volume that is attached to the notebook instance. You can choose a size between 5 GB and 16,384 GB, in 1 GB increments. You can use the volume to clean up the training dataset or to temporarily store validation or other data.  \n",
    "f. For IAM role, choose either an existing IAM role in your account that has the necessary permissions to access Amazon SageMaker resources or choose Create a new role. If you choose Create a new role, Amazon SageMaker creates an IAM role named AmazonSageMaker-ExecutionRole-YYYYMMDDTHHmmSS. The AWS managed policy AmazonSageMakerFullAccess is attached to the role. The role provides permissions that allow the notebook instance to call Amazon SageMaker and Amazon S3.  \n",
    "g. For Root access, to enable root access for all notebook instance users, choose Enable. To disable root access for users, choose Disable.If you enable root access, all notebook instance users have administrator privileges and can access and edit all files on it.  \n",
    "h. (Optional) Encryption key lets you encrypt data on the ML storage volume attached to the notebook instance using an AWS Key Management Service (AWS KMS) key. If you plan to store sensitive information on the ML storage volume, consider encrypting the information.  \n",
    "i. (Optional) Network lets you put your notebook instance inside a Virtual Private Cloud (VPC). A VPC provides additional security and restricts access to resources in the VPC from sources outside the VPC. For more information on VPCs, see Amazon VPC User Guide.  \n",
    "To add your notebook instance to a VPC:  \n",
    "i. Choose the VPC and a SubnetId.  \n",
    "ii. For Security Group, choose your VPC's default security group.  \n",
    "iii. If you need your notebook instance to have internet access, enable direct internet access. For Direct internet access, choose Enable. Internet access can make your notebook instance less secure. For more information, see Connect a Notebook Instance to Resources in a VPC.  \n",
    "j. (Optional) To associate Git repositories with the notebook instance, choose a default repository and up to three additional repositories. For more information, see Associate Git Repositories with Amazon SageMaker Notebook Instances.  \n",
    "Choose Create notebook instance.  \n",
    "In a few minutes, Amazon SageMaker launches an ML compute instance—in this case, a notebook instance—and attaches an ML storage volume to it. The notebook instance has a preconfigured Jupyter notebook server and a set of Anaconda libraries. For more information, see the  ",
    " CreateNotebookInstance API.  \n",
    "4. When the status of the notebook instance is InService, in the console, the notebook instance is ready to use. Choose Open Jupyter next to the notebook name to open the classic Jupyter dashboard.  \n",
    "You can choose Open JupyterLab to open the JupyterLab dashboard. The dashboard provides access to your notebook instance and sample Amazon SageMaker notebooks that contain complete code walkthroughs. These walkthroughs show how to use Amazon SageMaker to perform common machine learning tasks. For more information, see Use Example Notebooks. For more information, see Access Notebook Instances.\n",
    "\n",
    "## 1. Import modules\n",
    "* `pandas` and `numpy` for data manipulation\n",
    "* `turicreate`(*) for performing model selection and evaluation\n",
    "* `sklearn` for splitting the data into train and test set  \n",
    "  \n",
    "(*) turicreate only supports apple/ linux. If you have windows follow my advise and launch an AWS SageMaker Notebook instance (see previous section).\n"
   ]
  },
  {
   "cell_type": "code",
   "execution_count": 173,
   "metadata": {},
   "outputs": [],
   "source": [
    "import pandas as pd\n",
    "import numpy as np\n",
    "import time\n",
    "import turicreate as tc\n",
    "from sklearn.model_selection import train_test_split\n",
    "\n",
    "import sys\n",
    "sys.path.append(\"..\")"
   ]
  },
  {
   "cell_type": "markdown",
   "metadata": {},
   "source": [
    "## 2. Load data\n",
    "I will be using a dataset from a bookstore that I am not allow to share.  \n",
    "You can use any dataset of your own with this format: customerId, productId  \n",
    "* `data.csv` consisting of user transactions  \n",
    "  \n",
    "The format is as follows.\n"
   ]
  },
  {
   "cell_type": "code",
   "execution_count": 174,
   "metadata": {},
   "outputs": [
    {
     "name": "stdout",
     "output_type": "stream",
     "text": [
      "(572205, 2)\n"
     ]
    },
    {
     "data": {
      "text/html": [
       "<div>\n",
       "<style scoped>\n",
       "    .dataframe tbody tr th:only-of-type {\n",
       "        vertical-align: middle;\n",
       "    }\n",
       "\n",
       "    .dataframe tbody tr th {\n",
       "        vertical-align: top;\n",
       "    }\n",
       "\n",
       "    .dataframe thead th {\n",
       "        text-align: right;\n",
       "    }\n",
       "</style>\n",
       "<table border=\"1\" class=\"dataframe\">\n",
       "  <thead>\n",
       "    <tr style=\"text-align: right;\">\n",
       "      <th></th>\n",
       "      <th>customerId</th>\n",
       "      <th>products</th>\n",
       "    </tr>\n",
       "  </thead>\n",
       "  <tbody>\n",
       "    <tr>\n",
       "      <th>0</th>\n",
       "      <td>7701</td>\n",
       "      <td>43293</td>\n",
       "    </tr>\n",
       "    <tr>\n",
       "      <th>1</th>\n",
       "      <td>7701</td>\n",
       "      <td>37268</td>\n",
       "    </tr>\n",
       "    <tr>\n",
       "      <th>2</th>\n",
       "      <td>54490</td>\n",
       "      <td>42591</td>\n",
       "    </tr>\n",
       "    <tr>\n",
       "      <th>3</th>\n",
       "      <td>64646</td>\n",
       "      <td>28661</td>\n",
       "    </tr>\n",
       "    <tr>\n",
       "      <th>4</th>\n",
       "      <td>73889</td>\n",
       "      <td>37399</td>\n",
       "    </tr>\n",
       "  </tbody>\n",
       "</table>\n",
       "</div>"
      ],
      "text/plain": [
       "   customerId  products\n",
       "0        7701     43293\n",
       "1        7701     37268\n",
       "2       54490     42591\n",
       "3       64646     28661\n",
       "4       73889     37399"
      ]
     },
     "execution_count": 174,
     "metadata": {},
     "output_type": "execute_result"
    }
   ],
   "source": [
    "transactions = pd.read_csv('data.csv', dtype={'customerId': np.int32, 'products': np.int32})\n",
    "print(transactions.shape)\n",
    "transactions.head()"
   ]
  },
  {
   "cell_type": "markdown",
   "metadata": {},
   "source": [
    "## 3. Data preparation\n",
    "### 3.1. Create a function to transform data  \n",
    "Now we have our data with this structure:  \n",
    "customerID, productID  \n",
    "1, 101  \n",
    "1, 101  \n",
    "1, 101  \n",
    "2, 101  \n",
    "2, 101  \n",
    "  \n",
    "We would like to have it with this structure:  \n",
    "customerID, productID, purchase_count  \n",
    "1, 101, 3  \n",
    "2, 101, 2  \n"
   ]
  },
  {
   "cell_type": "code",
   "execution_count": 175,
   "metadata": {},
   "outputs": [
    {
     "name": "stdout",
     "output_type": "stream",
     "text": [
      "(565725, 3)\n"
     ]
    },
    {
     "data": {
      "text/html": [
       "<div>\n",
       "<style scoped>\n",
       "    .dataframe tbody tr th:only-of-type {\n",
       "        vertical-align: middle;\n",
       "    }\n",
       "\n",
       "    .dataframe tbody tr th {\n",
       "        vertical-align: top;\n",
       "    }\n",
       "\n",
       "    .dataframe thead th {\n",
       "        text-align: right;\n",
       "    }\n",
       "</style>\n",
       "<table border=\"1\" class=\"dataframe\">\n",
       "  <thead>\n",
       "    <tr style=\"text-align: right;\">\n",
       "      <th></th>\n",
       "      <th>customerId</th>\n",
       "      <th>productId</th>\n",
       "      <th>purchase_count</th>\n",
       "    </tr>\n",
       "  </thead>\n",
       "  <tbody>\n",
       "    <tr>\n",
       "      <th>0</th>\n",
       "      <td>1</td>\n",
       "      <td>3811</td>\n",
       "      <td>1</td>\n",
       "    </tr>\n",
       "    <tr>\n",
       "      <th>1</th>\n",
       "      <td>1</td>\n",
       "      <td>4037</td>\n",
       "      <td>1</td>\n",
       "    </tr>\n",
       "    <tr>\n",
       "      <th>2</th>\n",
       "      <td>1</td>\n",
       "      <td>29040</td>\n",
       "      <td>1</td>\n",
       "    </tr>\n",
       "    <tr>\n",
       "      <th>3</th>\n",
       "      <td>1</td>\n",
       "      <td>30306</td>\n",
       "      <td>1</td>\n",
       "    </tr>\n",
       "    <tr>\n",
       "      <th>4</th>\n",
       "      <td>1</td>\n",
       "      <td>47215</td>\n",
       "      <td>1</td>\n",
       "    </tr>\n",
       "  </tbody>\n",
       "</table>\n",
       "</div>"
      ],
      "text/plain": [
       "   customerId  productId  purchase_count\n",
       "0           1       3811               1\n",
       "1           1       4037               1\n",
       "2           1      29040               1\n",
       "3           1      30306               1\n",
       "4           1      47215               1"
      ]
     },
     "execution_count": 175,
     "metadata": {},
     "output_type": "execute_result"
    }
   ],
   "source": [
    "data = pd.melt(transactions.set_index('customerId')['products'].apply(pd.Series).reset_index(), \n",
    "             id_vars=['customerId'],\n",
    "             value_name='products') \\\n",
    "    .dropna().drop(['variable'], axis=1) \\\n",
    "    .groupby(['customerId', 'products']) \\\n",
    "    .agg({'products': 'count'}) \\\n",
    "    .rename(columns={'products': 'purchase_count'}) \\\n",
    "    .reset_index() \\\n",
    "    .rename(columns={'products': 'productId'})\n",
    "data['productId'] = data['productId'].astype(np.int64)\n",
    "\n",
    "print(data.shape)\n",
    "data.head()"
   ]
  },
  {
   "cell_type": "markdown",
   "metadata": {},
   "source": [
    "### 3.2. Create column dummy\n",
    "\n",
    "* Dummy for marking whether a customer bought that item or not.  \n",
    "* If one buys an item, then purchase_dummy are marked as 1  \n",
    "* Why create a dummy?\n",
    "    * This is because in my domain (bookstore) purchase_count does not give any kind of insight about customer preferences. \n",
    "    * This could be very different in other domains. \n",
    "    * I will create models using purchase_dummy. Feel free to use purchase_count if it applies to your domain.\n"
   ]
  },
  {
   "cell_type": "code",
   "execution_count": 176,
   "metadata": {},
   "outputs": [],
   "source": [
    "def create_data_dummy(data):\n",
    "    data_dummy = data.copy()\n",
    "    data_dummy['purchase_dummy'] = 1\n",
    "    return data_dummy"
   ]
  },
  {
   "cell_type": "code",
   "execution_count": 177,
   "metadata": {},
   "outputs": [
    {
     "data": {
      "text/html": [
       "<div>\n",
       "<style scoped>\n",
       "    .dataframe tbody tr th:only-of-type {\n",
       "        vertical-align: middle;\n",
       "    }\n",
       "\n",
       "    .dataframe tbody tr th {\n",
       "        vertical-align: top;\n",
       "    }\n",
       "\n",
       "    .dataframe thead th {\n",
       "        text-align: right;\n",
       "    }\n",
       "</style>\n",
       "<table border=\"1\" class=\"dataframe\">\n",
       "  <thead>\n",
       "    <tr style=\"text-align: right;\">\n",
       "      <th></th>\n",
       "      <th>customerId</th>\n",
       "      <th>productId</th>\n",
       "      <th>purchase_count</th>\n",
       "      <th>purchase_dummy</th>\n",
       "    </tr>\n",
       "  </thead>\n",
       "  <tbody>\n",
       "    <tr>\n",
       "      <th>0</th>\n",
       "      <td>1</td>\n",
       "      <td>3811</td>\n",
       "      <td>1</td>\n",
       "      <td>1</td>\n",
       "    </tr>\n",
       "    <tr>\n",
       "      <th>1</th>\n",
       "      <td>1</td>\n",
       "      <td>4037</td>\n",
       "      <td>1</td>\n",
       "      <td>1</td>\n",
       "    </tr>\n",
       "    <tr>\n",
       "      <th>2</th>\n",
       "      <td>1</td>\n",
       "      <td>29040</td>\n",
       "      <td>1</td>\n",
       "      <td>1</td>\n",
       "    </tr>\n",
       "    <tr>\n",
       "      <th>3</th>\n",
       "      <td>1</td>\n",
       "      <td>30306</td>\n",
       "      <td>1</td>\n",
       "      <td>1</td>\n",
       "    </tr>\n",
       "    <tr>\n",
       "      <th>4</th>\n",
       "      <td>1</td>\n",
       "      <td>47215</td>\n",
       "      <td>1</td>\n",
       "      <td>1</td>\n",
       "    </tr>\n",
       "  </tbody>\n",
       "</table>\n",
       "</div>"
      ],
      "text/plain": [
       "   customerId  productId  purchase_count  purchase_dummy\n",
       "0           1       3811               1               1\n",
       "1           1       4037               1               1\n",
       "2           1      29040               1               1\n",
       "3           1      30306               1               1\n",
       "4           1      47215               1               1"
      ]
     },
     "execution_count": 177,
     "metadata": {},
     "output_type": "execute_result"
    }
   ],
   "source": [
    "data_dummy = create_data_dummy(data)\n",
    "data_dummy.head()"
   ]
  },
  {
   "cell_type": "markdown",
   "metadata": {},
   "source": [
    "## 4. Split train and test set\n",
    "* Splitting the data into training and testing sets is an important part of evaluating predictive modeling, in this case a collaborative filtering model.   \n",
    "* Typically, we use a larger portion of the data for training and a smaller portion for testing.  \n",
    "* We use 70:30 ratio for our train-test set size.  \n",
    "* Our training portion will be used to develop a predictive model, while the other to evaluate the model's performance.  \n",
    "* Now that we have two datasets with purchase counts, purchase dummy, we would like to split each.  \n"
   ]
  },
  {
   "cell_type": "code",
   "execution_count": 178,
   "metadata": {},
   "outputs": [],
   "source": [
    "# We define a split_data function for splitting data to training and test set\n",
    "\n",
    "def split_data(data, testsize):\n",
    "    '''\n",
    "    Splits dataset into training and test set.\n",
    "    \n",
    "    Args:\n",
    "        data (pandas.DataFrame)\n",
    "        \n",
    "    Returns\n",
    "        train_data (tc.SFrame)\n",
    "        test_data (tc.SFrame)\n",
    "    '''\n",
    "    train, test = train_test_split(data, test_size = testsize)\n",
    "    train_data = tc.SFrame(train)\n",
    "    test_data = tc.SFrame(test)\n",
    "    return train_data, test_data"
   ]
  },
  {
   "cell_type": "code",
   "execution_count": 179,
   "metadata": {},
   "outputs": [],
   "source": [
    "train_data, test_data = split_data(data, .3)\n",
    "train_data_dummy, test_data_dummy = split_data(data_dummy, .3)\n"
   ]
  },
  {
   "cell_type": "markdown",
   "metadata": {},
   "source": [
    "## 5. Models\n",
    "### 5.1 Baseline: popularity\n",
    "* We would like to use a baseline model to compare and evaluate collaborative filtering models.   \n",
    "* The popularity baseline model takes the most popular items for recommendation (products with the highest number of sells across all customers). \n",
    "* Since baseline typically uses a very simple approach, techniques used beyond this approach should be chosen if they show better accuracy.  \n",
    "\n",
    "### 5.2 Collaborative filtering  \n",
    "* In collaborative filtering, we would recommend items based on how similar users purchase items.   \n",
    "* In order to compute similarity we will be using three different types: cosine, pearson and jaccard.  \n",
    "#### 5.2.1 Cosine similarity\n",
    "* Similarity is the cosine of the angle between the 2 vectors of the item vectors of A and B\n",
    "* It is defined by the following formula\n",
    "![](https://wikimedia.org/api/rest_v1/media/math/render/svg/1d94e5903f7936d3c131e040ef2c51b473dd071d)\n",
    "* Closer the vectors, smaller will be the angle and larger the cosine\n",
    "\n",
    "#### 5.2.2 Pearson similarity\n",
    "* Similarity is the pearson coefficient between the two vectors.\n",
    "* It is defined by the following formula\n",
    "![](http://critical-numbers.group.shef.ac.uk/glossary/images/correlationKT1.png)\n",
    "\n",
    "#### 5.2.3 Jaccard similarity\n",
    "* Jaccard similarity is used to measure the similarity between two set of elements.  \n",
    "* In the context of recommendation, the Jaccard similarity between two items is computed as:  \n",
    "![](https://wikimedia.org/api/rest_v1/media/math/render/svg/eaef5aa86949f49e7dc6b9c8c3dd8b233332c9e7)\n"
   ]
  },
  {
   "cell_type": "markdown",
   "metadata": {},
   "source": [
    "#### Define a `model` function for model selection"
   ]
  },
  {
   "cell_type": "code",
   "execution_count": 180,
   "metadata": {},
   "outputs": [],
   "source": [
    "# Define a model function for model selection using turicreate\n",
    "\n",
    "def model(train_data, name, user_id, item_id, target, users_to_recommend, n_rec, n_display):\n",
    "    if name == 'popularity':\n",
    "        model = tc.popularity_recommender.create(train_data, \n",
    "                                                    user_id=user_id, \n",
    "                                                    item_id=item_id, \n",
    "                                                    target=target)\n",
    "    elif name == 'cosine':\n",
    "        model = tc.item_similarity_recommender.create(train_data, \n",
    "                                                    user_id=user_id, \n",
    "                                                    item_id=item_id, \n",
    "                                                    target=target, \n",
    "                                                    similarity_type='cosine')\n",
    "    elif name == 'pearson':\n",
    "        model = tc.item_similarity_recommender.create(train_data, \n",
    "                                                    user_id=user_id, \n",
    "                                                    item_id=item_id, \n",
    "                                                    target=target, \n",
    "                                                    similarity_type='pearson')        \n",
    "    elif name == 'jaccard':\n",
    "        model = tc.item_similarity_recommender.create(train_data, \n",
    "                                                    user_id=user_id, \n",
    "                                                    item_id=item_id, \n",
    "                                                    target=target, \n",
    "                                                    similarity_type='jaccard')\n",
    "        \n",
    "        \n",
    "    recom = model.recommend(users=users_to_recommend, k=n_rec)\n",
    "    recom.print_rows(n_display)\n",
    "    return model"
   ]
  },
  {
   "cell_type": "code",
   "execution_count": 181,
   "metadata": {},
   "outputs": [],
   "source": [
    "# variables to define field names\n",
    "user_id = 'customerId'\n",
    "item_id = 'productId'\n",
    "\n",
    "users_to_recommend = list(data.customerId.unique())\n",
    "n_rec = 5 # number of items to recommend\n",
    "n_display = 30 # to print the head"
   ]
  },
  {
   "cell_type": "code",
   "execution_count": 182,
   "metadata": {},
   "outputs": [
    {
     "data": {
      "text/html": [
       "<pre>Warning: Ignoring columns purchase_count;</pre>"
      ],
      "text/plain": [
       "Warning: Ignoring columns purchase_count;"
      ]
     },
     "metadata": {},
     "output_type": "display_data"
    },
    {
     "data": {
      "text/html": [
       "<pre>    To use these columns in scoring predictions, use a model that allows the use of additional features.</pre>"
      ],
      "text/plain": [
       "    To use these columns in scoring predictions, use a model that allows the use of additional features."
      ]
     },
     "metadata": {},
     "output_type": "display_data"
    },
    {
     "data": {
      "text/html": [
       "<pre>Preparing data set.</pre>"
      ],
      "text/plain": [
       "Preparing data set."
      ]
     },
     "metadata": {},
     "output_type": "display_data"
    },
    {
     "data": {
      "text/html": [
       "<pre>    Data has 396007 observations with 117786 users and 52052 items.</pre>"
      ],
      "text/plain": [
       "    Data has 396007 observations with 117786 users and 52052 items."
      ]
     },
     "metadata": {},
     "output_type": "display_data"
    },
    {
     "data": {
      "text/html": [
       "<pre>    Data prepared in: 0.181451s</pre>"
      ],
      "text/plain": [
       "    Data prepared in: 0.181451s"
      ]
     },
     "metadata": {},
     "output_type": "display_data"
    },
    {
     "data": {
      "text/html": [
       "<pre>396007 observations to process; with 52052 unique items.</pre>"
      ],
      "text/plain": [
       "396007 observations to process; with 52052 unique items."
      ]
     },
     "metadata": {},
     "output_type": "display_data"
    },
    {
     "data": {
      "text/html": [
       "<pre>recommendations finished on 1000/122533 queries. users per second: 17754.4</pre>"
      ],
      "text/plain": [
       "recommendations finished on 1000/122533 queries. users per second: 17754.4"
      ]
     },
     "metadata": {},
     "output_type": "display_data"
    },
    {
     "data": {
      "text/html": [
       "<pre>recommendations finished on 2000/122533 queries. users per second: 18834.2</pre>"
      ],
      "text/plain": [
       "recommendations finished on 2000/122533 queries. users per second: 18834.2"
      ]
     },
     "metadata": {},
     "output_type": "display_data"
    },
    {
     "data": {
      "text/html": [
       "<pre>recommendations finished on 3000/122533 queries. users per second: 19219.7</pre>"
      ],
      "text/plain": [
       "recommendations finished on 3000/122533 queries. users per second: 19219.7"
      ]
     },
     "metadata": {},
     "output_type": "display_data"
    },
    {
     "data": {
      "text/html": [
       "<pre>recommendations finished on 4000/122533 queries. users per second: 19457.9</pre>"
      ],
      "text/plain": [
       "recommendations finished on 4000/122533 queries. users per second: 19457.9"
      ]
     },
     "metadata": {},
     "output_type": "display_data"
    },
    {
     "data": {
      "text/html": [
       "<pre>recommendations finished on 5000/122533 queries. users per second: 19597.3</pre>"
      ],
      "text/plain": [
       "recommendations finished on 5000/122533 queries. users per second: 19597.3"
      ]
     },
     "metadata": {},
     "output_type": "display_data"
    },
    {
     "data": {
      "text/html": [
       "<pre>recommendations finished on 6000/122533 queries. users per second: 19692.7</pre>"
      ],
      "text/plain": [
       "recommendations finished on 6000/122533 queries. users per second: 19692.7"
      ]
     },
     "metadata": {},
     "output_type": "display_data"
    },
    {
     "data": {
      "text/html": [
       "<pre>recommendations finished on 7000/122533 queries. users per second: 19753.7</pre>"
      ],
      "text/plain": [
       "recommendations finished on 7000/122533 queries. users per second: 19753.7"
      ]
     },
     "metadata": {},
     "output_type": "display_data"
    },
    {
     "data": {
      "text/html": [
       "<pre>recommendations finished on 8000/122533 queries. users per second: 19805</pre>"
      ],
      "text/plain": [
       "recommendations finished on 8000/122533 queries. users per second: 19805"
      ]
     },
     "metadata": {},
     "output_type": "display_data"
    },
    {
     "data": {
      "text/html": [
       "<pre>recommendations finished on 9000/122533 queries. users per second: 19851.2</pre>"
      ],
      "text/plain": [
       "recommendations finished on 9000/122533 queries. users per second: 19851.2"
      ]
     },
     "metadata": {},
     "output_type": "display_data"
    },
    {
     "data": {
      "text/html": [
       "<pre>recommendations finished on 10000/122533 queries. users per second: 19889</pre>"
      ],
      "text/plain": [
       "recommendations finished on 10000/122533 queries. users per second: 19889"
      ]
     },
     "metadata": {},
     "output_type": "display_data"
    },
    {
     "data": {
      "text/html": [
       "<pre>recommendations finished on 11000/122533 queries. users per second: 19916.2</pre>"
      ],
      "text/plain": [
       "recommendations finished on 11000/122533 queries. users per second: 19916.2"
      ]
     },
     "metadata": {},
     "output_type": "display_data"
    },
    {
     "data": {
      "text/html": [
       "<pre>recommendations finished on 12000/122533 queries. users per second: 19934.5</pre>"
      ],
      "text/plain": [
       "recommendations finished on 12000/122533 queries. users per second: 19934.5"
      ]
     },
     "metadata": {},
     "output_type": "display_data"
    },
    {
     "data": {
      "text/html": [
       "<pre>recommendations finished on 13000/122533 queries. users per second: 19949.5</pre>"
      ],
      "text/plain": [
       "recommendations finished on 13000/122533 queries. users per second: 19949.5"
      ]
     },
     "metadata": {},
     "output_type": "display_data"
    },
    {
     "data": {
      "text/html": [
       "<pre>recommendations finished on 14000/122533 queries. users per second: 19956</pre>"
      ],
      "text/plain": [
       "recommendations finished on 14000/122533 queries. users per second: 19956"
      ]
     },
     "metadata": {},
     "output_type": "display_data"
    },
    {
     "data": {
      "text/html": [
       "<pre>recommendations finished on 15000/122533 queries. users per second: 19966.1</pre>"
      ],
      "text/plain": [
       "recommendations finished on 15000/122533 queries. users per second: 19966.1"
      ]
     },
     "metadata": {},
     "output_type": "display_data"
    },
    {
     "data": {
      "text/html": [
       "<pre>recommendations finished on 16000/122533 queries. users per second: 19961.6</pre>"
      ],
      "text/plain": [
       "recommendations finished on 16000/122533 queries. users per second: 19961.6"
      ]
     },
     "metadata": {},
     "output_type": "display_data"
    },
    {
     "data": {
      "text/html": [
       "<pre>recommendations finished on 17000/122533 queries. users per second: 19972.3</pre>"
      ],
      "text/plain": [
       "recommendations finished on 17000/122533 queries. users per second: 19972.3"
      ]
     },
     "metadata": {},
     "output_type": "display_data"
    },
    {
     "data": {
      "text/html": [
       "<pre>recommendations finished on 18000/122533 queries. users per second: 19984.7</pre>"
      ],
      "text/plain": [
       "recommendations finished on 18000/122533 queries. users per second: 19984.7"
      ]
     },
     "metadata": {},
     "output_type": "display_data"
    },
    {
     "data": {
      "text/html": [
       "<pre>recommendations finished on 19000/122533 queries. users per second: 19994.5</pre>"
      ],
      "text/plain": [
       "recommendations finished on 19000/122533 queries. users per second: 19994.5"
      ]
     },
     "metadata": {},
     "output_type": "display_data"
    },
    {
     "data": {
      "text/html": [
       "<pre>recommendations finished on 20000/122533 queries. users per second: 20002.2</pre>"
      ],
      "text/plain": [
       "recommendations finished on 20000/122533 queries. users per second: 20002.2"
      ]
     },
     "metadata": {},
     "output_type": "display_data"
    },
    {
     "data": {
      "text/html": [
       "<pre>recommendations finished on 21000/122533 queries. users per second: 20011.4</pre>"
      ],
      "text/plain": [
       "recommendations finished on 21000/122533 queries. users per second: 20011.4"
      ]
     },
     "metadata": {},
     "output_type": "display_data"
    },
    {
     "data": {
      "text/html": [
       "<pre>recommendations finished on 22000/122533 queries. users per second: 20019.8</pre>"
      ],
      "text/plain": [
       "recommendations finished on 22000/122533 queries. users per second: 20019.8"
      ]
     },
     "metadata": {},
     "output_type": "display_data"
    },
    {
     "data": {
      "text/html": [
       "<pre>recommendations finished on 23000/122533 queries. users per second: 20027.2</pre>"
      ],
      "text/plain": [
       "recommendations finished on 23000/122533 queries. users per second: 20027.2"
      ]
     },
     "metadata": {},
     "output_type": "display_data"
    },
    {
     "data": {
      "text/html": [
       "<pre>recommendations finished on 24000/122533 queries. users per second: 20030.8</pre>"
      ],
      "text/plain": [
       "recommendations finished on 24000/122533 queries. users per second: 20030.8"
      ]
     },
     "metadata": {},
     "output_type": "display_data"
    },
    {
     "data": {
      "text/html": [
       "<pre>recommendations finished on 25000/122533 queries. users per second: 20036.3</pre>"
      ],
      "text/plain": [
       "recommendations finished on 25000/122533 queries. users per second: 20036.3"
      ]
     },
     "metadata": {},
     "output_type": "display_data"
    },
    {
     "data": {
      "text/html": [
       "<pre>recommendations finished on 26000/122533 queries. users per second: 20036.9</pre>"
      ],
      "text/plain": [
       "recommendations finished on 26000/122533 queries. users per second: 20036.9"
      ]
     },
     "metadata": {},
     "output_type": "display_data"
    },
    {
     "data": {
      "text/html": [
       "<pre>recommendations finished on 27000/122533 queries. users per second: 20032.2</pre>"
      ],
      "text/plain": [
       "recommendations finished on 27000/122533 queries. users per second: 20032.2"
      ]
     },
     "metadata": {},
     "output_type": "display_data"
    },
    {
     "data": {
      "text/html": [
       "<pre>recommendations finished on 28000/122533 queries. users per second: 20033.1</pre>"
      ],
      "text/plain": [
       "recommendations finished on 28000/122533 queries. users per second: 20033.1"
      ]
     },
     "metadata": {},
     "output_type": "display_data"
    },
    {
     "data": {
      "text/html": [
       "<pre>recommendations finished on 29000/122533 queries. users per second: 20033.9</pre>"
      ],
      "text/plain": [
       "recommendations finished on 29000/122533 queries. users per second: 20033.9"
      ]
     },
     "metadata": {},
     "output_type": "display_data"
    },
    {
     "data": {
      "text/html": [
       "<pre>recommendations finished on 30000/122533 queries. users per second: 20032.1</pre>"
      ],
      "text/plain": [
       "recommendations finished on 30000/122533 queries. users per second: 20032.1"
      ]
     },
     "metadata": {},
     "output_type": "display_data"
    },
    {
     "data": {
      "text/html": [
       "<pre>recommendations finished on 31000/122533 queries. users per second: 20031.5</pre>"
      ],
      "text/plain": [
       "recommendations finished on 31000/122533 queries. users per second: 20031.5"
      ]
     },
     "metadata": {},
     "output_type": "display_data"
    },
    {
     "data": {
      "text/html": [
       "<pre>recommendations finished on 32000/122533 queries. users per second: 20032.2</pre>"
      ],
      "text/plain": [
       "recommendations finished on 32000/122533 queries. users per second: 20032.2"
      ]
     },
     "metadata": {},
     "output_type": "display_data"
    },
    {
     "data": {
      "text/html": [
       "<pre>recommendations finished on 33000/122533 queries. users per second: 20031.5</pre>"
      ],
      "text/plain": [
       "recommendations finished on 33000/122533 queries. users per second: 20031.5"
      ]
     },
     "metadata": {},
     "output_type": "display_data"
    },
    {
     "data": {
      "text/html": [
       "<pre>recommendations finished on 34000/122533 queries. users per second: 20033.3</pre>"
      ],
      "text/plain": [
       "recommendations finished on 34000/122533 queries. users per second: 20033.3"
      ]
     },
     "metadata": {},
     "output_type": "display_data"
    },
    {
     "data": {
      "text/html": [
       "<pre>recommendations finished on 35000/122533 queries. users per second: 20034.3</pre>"
      ],
      "text/plain": [
       "recommendations finished on 35000/122533 queries. users per second: 20034.3"
      ]
     },
     "metadata": {},
     "output_type": "display_data"
    },
    {
     "data": {
      "text/html": [
       "<pre>recommendations finished on 36000/122533 queries. users per second: 20034.4</pre>"
      ],
      "text/plain": [
       "recommendations finished on 36000/122533 queries. users per second: 20034.4"
      ]
     },
     "metadata": {},
     "output_type": "display_data"
    },
    {
     "data": {
      "text/html": [
       "<pre>recommendations finished on 37000/122533 queries. users per second: 20030.2</pre>"
      ],
      "text/plain": [
       "recommendations finished on 37000/122533 queries. users per second: 20030.2"
      ]
     },
     "metadata": {},
     "output_type": "display_data"
    },
    {
     "data": {
      "text/html": [
       "<pre>recommendations finished on 38000/122533 queries. users per second: 20030.3</pre>"
      ],
      "text/plain": [
       "recommendations finished on 38000/122533 queries. users per second: 20030.3"
      ]
     },
     "metadata": {},
     "output_type": "display_data"
    },
    {
     "data": {
      "text/html": [
       "<pre>recommendations finished on 39000/122533 queries. users per second: 20030.9</pre>"
      ],
      "text/plain": [
       "recommendations finished on 39000/122533 queries. users per second: 20030.9"
      ]
     },
     "metadata": {},
     "output_type": "display_data"
    },
    {
     "data": {
      "text/html": [
       "<pre>recommendations finished on 40000/122533 queries. users per second: 20031.9</pre>"
      ],
      "text/plain": [
       "recommendations finished on 40000/122533 queries. users per second: 20031.9"
      ]
     },
     "metadata": {},
     "output_type": "display_data"
    },
    {
     "data": {
      "text/html": [
       "<pre>recommendations finished on 41000/122533 queries. users per second: 20032.1</pre>"
      ],
      "text/plain": [
       "recommendations finished on 41000/122533 queries. users per second: 20032.1"
      ]
     },
     "metadata": {},
     "output_type": "display_data"
    },
    {
     "data": {
      "text/html": [
       "<pre>recommendations finished on 42000/122533 queries. users per second: 20033.4</pre>"
      ],
      "text/plain": [
       "recommendations finished on 42000/122533 queries. users per second: 20033.4"
      ]
     },
     "metadata": {},
     "output_type": "display_data"
    },
    {
     "data": {
      "text/html": [
       "<pre>recommendations finished on 43000/122533 queries. users per second: 20034.4</pre>"
      ],
      "text/plain": [
       "recommendations finished on 43000/122533 queries. users per second: 20034.4"
      ]
     },
     "metadata": {},
     "output_type": "display_data"
    },
    {
     "data": {
      "text/html": [
       "<pre>recommendations finished on 44000/122533 queries. users per second: 20032.8</pre>"
      ],
      "text/plain": [
       "recommendations finished on 44000/122533 queries. users per second: 20032.8"
      ]
     },
     "metadata": {},
     "output_type": "display_data"
    },
    {
     "data": {
      "text/html": [
       "<pre>recommendations finished on 45000/122533 queries. users per second: 20034</pre>"
      ],
      "text/plain": [
       "recommendations finished on 45000/122533 queries. users per second: 20034"
      ]
     },
     "metadata": {},
     "output_type": "display_data"
    },
    {
     "data": {
      "text/html": [
       "<pre>recommendations finished on 46000/122533 queries. users per second: 20034.8</pre>"
      ],
      "text/plain": [
       "recommendations finished on 46000/122533 queries. users per second: 20034.8"
      ]
     },
     "metadata": {},
     "output_type": "display_data"
    },
    {
     "data": {
      "text/html": [
       "<pre>recommendations finished on 47000/122533 queries. users per second: 20034.6</pre>"
      ],
      "text/plain": [
       "recommendations finished on 47000/122533 queries. users per second: 20034.6"
      ]
     },
     "metadata": {},
     "output_type": "display_data"
    },
    {
     "data": {
      "text/html": [
       "<pre>recommendations finished on 48000/122533 queries. users per second: 20034.8</pre>"
      ],
      "text/plain": [
       "recommendations finished on 48000/122533 queries. users per second: 20034.8"
      ]
     },
     "metadata": {},
     "output_type": "display_data"
    },
    {
     "data": {
      "text/html": [
       "<pre>recommendations finished on 49000/122533 queries. users per second: 20036</pre>"
      ],
      "text/plain": [
       "recommendations finished on 49000/122533 queries. users per second: 20036"
      ]
     },
     "metadata": {},
     "output_type": "display_data"
    },
    {
     "data": {
      "text/html": [
       "<pre>recommendations finished on 50000/122533 queries. users per second: 20036.4</pre>"
      ],
      "text/plain": [
       "recommendations finished on 50000/122533 queries. users per second: 20036.4"
      ]
     },
     "metadata": {},
     "output_type": "display_data"
    },
    {
     "data": {
      "text/html": [
       "<pre>recommendations finished on 51000/122533 queries. users per second: 20037.1</pre>"
      ],
      "text/plain": [
       "recommendations finished on 51000/122533 queries. users per second: 20037.1"
      ]
     },
     "metadata": {},
     "output_type": "display_data"
    },
    {
     "data": {
      "text/html": [
       "<pre>recommendations finished on 52000/122533 queries. users per second: 20036.8</pre>"
      ],
      "text/plain": [
       "recommendations finished on 52000/122533 queries. users per second: 20036.8"
      ]
     },
     "metadata": {},
     "output_type": "display_data"
    },
    {
     "data": {
      "text/html": [
       "<pre>recommendations finished on 53000/122533 queries. users per second: 20030.3</pre>"
      ],
      "text/plain": [
       "recommendations finished on 53000/122533 queries. users per second: 20030.3"
      ]
     },
     "metadata": {},
     "output_type": "display_data"
    },
    {
     "data": {
      "text/html": [
       "<pre>recommendations finished on 54000/122533 queries. users per second: 20029.4</pre>"
      ],
      "text/plain": [
       "recommendations finished on 54000/122533 queries. users per second: 20029.4"
      ]
     },
     "metadata": {},
     "output_type": "display_data"
    },
    {
     "data": {
      "text/html": [
       "<pre>recommendations finished on 55000/122533 queries. users per second: 20029.8</pre>"
      ],
      "text/plain": [
       "recommendations finished on 55000/122533 queries. users per second: 20029.8"
      ]
     },
     "metadata": {},
     "output_type": "display_data"
    },
    {
     "data": {
      "text/html": [
       "<pre>recommendations finished on 56000/122533 queries. users per second: 20029.2</pre>"
      ],
      "text/plain": [
       "recommendations finished on 56000/122533 queries. users per second: 20029.2"
      ]
     },
     "metadata": {},
     "output_type": "display_data"
    },
    {
     "data": {
      "text/html": [
       "<pre>recommendations finished on 57000/122533 queries. users per second: 20029.5</pre>"
      ],
      "text/plain": [
       "recommendations finished on 57000/122533 queries. users per second: 20029.5"
      ]
     },
     "metadata": {},
     "output_type": "display_data"
    },
    {
     "data": {
      "text/html": [
       "<pre>recommendations finished on 58000/122533 queries. users per second: 20029</pre>"
      ],
      "text/plain": [
       "recommendations finished on 58000/122533 queries. users per second: 20029"
      ]
     },
     "metadata": {},
     "output_type": "display_data"
    },
    {
     "data": {
      "text/html": [
       "<pre>recommendations finished on 59000/122533 queries. users per second: 20032.8</pre>"
      ],
      "text/plain": [
       "recommendations finished on 59000/122533 queries. users per second: 20032.8"
      ]
     },
     "metadata": {},
     "output_type": "display_data"
    },
    {
     "data": {
      "text/html": [
       "<pre>recommendations finished on 60000/122533 queries. users per second: 20036</pre>"
      ],
      "text/plain": [
       "recommendations finished on 60000/122533 queries. users per second: 20036"
      ]
     },
     "metadata": {},
     "output_type": "display_data"
    },
    {
     "data": {
      "text/html": [
       "<pre>recommendations finished on 61000/122533 queries. users per second: 20038</pre>"
      ],
      "text/plain": [
       "recommendations finished on 61000/122533 queries. users per second: 20038"
      ]
     },
     "metadata": {},
     "output_type": "display_data"
    },
    {
     "data": {
      "text/html": [
       "<pre>recommendations finished on 62000/122533 queries. users per second: 20039</pre>"
      ],
      "text/plain": [
       "recommendations finished on 62000/122533 queries. users per second: 20039"
      ]
     },
     "metadata": {},
     "output_type": "display_data"
    },
    {
     "data": {
      "text/html": [
       "<pre>recommendations finished on 63000/122533 queries. users per second: 20039.4</pre>"
      ],
      "text/plain": [
       "recommendations finished on 63000/122533 queries. users per second: 20039.4"
      ]
     },
     "metadata": {},
     "output_type": "display_data"
    },
    {
     "data": {
      "text/html": [
       "<pre>recommendations finished on 64000/122533 queries. users per second: 20039.2</pre>"
      ],
      "text/plain": [
       "recommendations finished on 64000/122533 queries. users per second: 20039.2"
      ]
     },
     "metadata": {},
     "output_type": "display_data"
    },
    {
     "data": {
      "text/html": [
       "<pre>recommendations finished on 65000/122533 queries. users per second: 20039.2</pre>"
      ],
      "text/plain": [
       "recommendations finished on 65000/122533 queries. users per second: 20039.2"
      ]
     },
     "metadata": {},
     "output_type": "display_data"
    },
    {
     "data": {
      "text/html": [
       "<pre>recommendations finished on 66000/122533 queries. users per second: 20039.1</pre>"
      ],
      "text/plain": [
       "recommendations finished on 66000/122533 queries. users per second: 20039.1"
      ]
     },
     "metadata": {},
     "output_type": "display_data"
    },
    {
     "data": {
      "text/html": [
       "<pre>recommendations finished on 67000/122533 queries. users per second: 20040</pre>"
      ],
      "text/plain": [
       "recommendations finished on 67000/122533 queries. users per second: 20040"
      ]
     },
     "metadata": {},
     "output_type": "display_data"
    },
    {
     "data": {
      "text/html": [
       "<pre>recommendations finished on 68000/122533 queries. users per second: 20041.2</pre>"
      ],
      "text/plain": [
       "recommendations finished on 68000/122533 queries. users per second: 20041.2"
      ]
     },
     "metadata": {},
     "output_type": "display_data"
    },
    {
     "data": {
      "text/html": [
       "<pre>recommendations finished on 69000/122533 queries. users per second: 20042.4</pre>"
      ],
      "text/plain": [
       "recommendations finished on 69000/122533 queries. users per second: 20042.4"
      ]
     },
     "metadata": {},
     "output_type": "display_data"
    },
    {
     "data": {
      "text/html": [
       "<pre>recommendations finished on 70000/122533 queries. users per second: 20044.7</pre>"
      ],
      "text/plain": [
       "recommendations finished on 70000/122533 queries. users per second: 20044.7"
      ]
     },
     "metadata": {},
     "output_type": "display_data"
    },
    {
     "data": {
      "text/html": [
       "<pre>recommendations finished on 71000/122533 queries. users per second: 20046</pre>"
      ],
      "text/plain": [
       "recommendations finished on 71000/122533 queries. users per second: 20046"
      ]
     },
     "metadata": {},
     "output_type": "display_data"
    },
    {
     "data": {
      "text/html": [
       "<pre>recommendations finished on 72000/122533 queries. users per second: 20047.7</pre>"
      ],
      "text/plain": [
       "recommendations finished on 72000/122533 queries. users per second: 20047.7"
      ]
     },
     "metadata": {},
     "output_type": "display_data"
    },
    {
     "data": {
      "text/html": [
       "<pre>recommendations finished on 73000/122533 queries. users per second: 20049.9</pre>"
      ],
      "text/plain": [
       "recommendations finished on 73000/122533 queries. users per second: 20049.9"
      ]
     },
     "metadata": {},
     "output_type": "display_data"
    },
    {
     "data": {
      "text/html": [
       "<pre>recommendations finished on 74000/122533 queries. users per second: 20051.1</pre>"
      ],
      "text/plain": [
       "recommendations finished on 74000/122533 queries. users per second: 20051.1"
      ]
     },
     "metadata": {},
     "output_type": "display_data"
    },
    {
     "data": {
      "text/html": [
       "<pre>recommendations finished on 75000/122533 queries. users per second: 20052.3</pre>"
      ],
      "text/plain": [
       "recommendations finished on 75000/122533 queries. users per second: 20052.3"
      ]
     },
     "metadata": {},
     "output_type": "display_data"
    },
    {
     "data": {
      "text/html": [
       "<pre>recommendations finished on 76000/122533 queries. users per second: 20053.9</pre>"
      ],
      "text/plain": [
       "recommendations finished on 76000/122533 queries. users per second: 20053.9"
      ]
     },
     "metadata": {},
     "output_type": "display_data"
    },
    {
     "data": {
      "text/html": [
       "<pre>recommendations finished on 77000/122533 queries. users per second: 20055.6</pre>"
      ],
      "text/plain": [
       "recommendations finished on 77000/122533 queries. users per second: 20055.6"
      ]
     },
     "metadata": {},
     "output_type": "display_data"
    },
    {
     "data": {
      "text/html": [
       "<pre>recommendations finished on 78000/122533 queries. users per second: 20058</pre>"
      ],
      "text/plain": [
       "recommendations finished on 78000/122533 queries. users per second: 20058"
      ]
     },
     "metadata": {},
     "output_type": "display_data"
    },
    {
     "data": {
      "text/html": [
       "<pre>recommendations finished on 79000/122533 queries. users per second: 20058.9</pre>"
      ],
      "text/plain": [
       "recommendations finished on 79000/122533 queries. users per second: 20058.9"
      ]
     },
     "metadata": {},
     "output_type": "display_data"
    },
    {
     "data": {
      "text/html": [
       "<pre>recommendations finished on 80000/122533 queries. users per second: 20059.2</pre>"
      ],
      "text/plain": [
       "recommendations finished on 80000/122533 queries. users per second: 20059.2"
      ]
     },
     "metadata": {},
     "output_type": "display_data"
    },
    {
     "data": {
      "text/html": [
       "<pre>recommendations finished on 81000/122533 queries. users per second: 20061.1</pre>"
      ],
      "text/plain": [
       "recommendations finished on 81000/122533 queries. users per second: 20061.1"
      ]
     },
     "metadata": {},
     "output_type": "display_data"
    },
    {
     "data": {
      "text/html": [
       "<pre>recommendations finished on 82000/122533 queries. users per second: 20062.4</pre>"
      ],
      "text/plain": [
       "recommendations finished on 82000/122533 queries. users per second: 20062.4"
      ]
     },
     "metadata": {},
     "output_type": "display_data"
    },
    {
     "data": {
      "text/html": [
       "<pre>recommendations finished on 83000/122533 queries. users per second: 20063</pre>"
      ],
      "text/plain": [
       "recommendations finished on 83000/122533 queries. users per second: 20063"
      ]
     },
     "metadata": {},
     "output_type": "display_data"
    },
    {
     "data": {
      "text/html": [
       "<pre>recommendations finished on 84000/122533 queries. users per second: 20063.3</pre>"
      ],
      "text/plain": [
       "recommendations finished on 84000/122533 queries. users per second: 20063.3"
      ]
     },
     "metadata": {},
     "output_type": "display_data"
    },
    {
     "data": {
      "text/html": [
       "<pre>recommendations finished on 85000/122533 queries. users per second: 20064.8</pre>"
      ],
      "text/plain": [
       "recommendations finished on 85000/122533 queries. users per second: 20064.8"
      ]
     },
     "metadata": {},
     "output_type": "display_data"
    },
    {
     "data": {
      "text/html": [
       "<pre>recommendations finished on 86000/122533 queries. users per second: 20066</pre>"
      ],
      "text/plain": [
       "recommendations finished on 86000/122533 queries. users per second: 20066"
      ]
     },
     "metadata": {},
     "output_type": "display_data"
    },
    {
     "data": {
      "text/html": [
       "<pre>recommendations finished on 87000/122533 queries. users per second: 20067.4</pre>"
      ],
      "text/plain": [
       "recommendations finished on 87000/122533 queries. users per second: 20067.4"
      ]
     },
     "metadata": {},
     "output_type": "display_data"
    },
    {
     "data": {
      "text/html": [
       "<pre>recommendations finished on 88000/122533 queries. users per second: 20069.2</pre>"
      ],
      "text/plain": [
       "recommendations finished on 88000/122533 queries. users per second: 20069.2"
      ]
     },
     "metadata": {},
     "output_type": "display_data"
    },
    {
     "data": {
      "text/html": [
       "<pre>recommendations finished on 89000/122533 queries. users per second: 20069.9</pre>"
      ],
      "text/plain": [
       "recommendations finished on 89000/122533 queries. users per second: 20069.9"
      ]
     },
     "metadata": {},
     "output_type": "display_data"
    },
    {
     "data": {
      "text/html": [
       "<pre>recommendations finished on 90000/122533 queries. users per second: 20070.9</pre>"
      ],
      "text/plain": [
       "recommendations finished on 90000/122533 queries. users per second: 20070.9"
      ]
     },
     "metadata": {},
     "output_type": "display_data"
    },
    {
     "data": {
      "text/html": [
       "<pre>recommendations finished on 91000/122533 queries. users per second: 20072.1</pre>"
      ],
      "text/plain": [
       "recommendations finished on 91000/122533 queries. users per second: 20072.1"
      ]
     },
     "metadata": {},
     "output_type": "display_data"
    },
    {
     "data": {
      "text/html": [
       "<pre>recommendations finished on 92000/122533 queries. users per second: 20072.6</pre>"
      ],
      "text/plain": [
       "recommendations finished on 92000/122533 queries. users per second: 20072.6"
      ]
     },
     "metadata": {},
     "output_type": "display_data"
    },
    {
     "data": {
      "text/html": [
       "<pre>recommendations finished on 93000/122533 queries. users per second: 20071.9</pre>"
      ],
      "text/plain": [
       "recommendations finished on 93000/122533 queries. users per second: 20071.9"
      ]
     },
     "metadata": {},
     "output_type": "display_data"
    },
    {
     "data": {
      "text/html": [
       "<pre>recommendations finished on 94000/122533 queries. users per second: 20073.3</pre>"
      ],
      "text/plain": [
       "recommendations finished on 94000/122533 queries. users per second: 20073.3"
      ]
     },
     "metadata": {},
     "output_type": "display_data"
    },
    {
     "data": {
      "text/html": [
       "<pre>recommendations finished on 95000/122533 queries. users per second: 20074.9</pre>"
      ],
      "text/plain": [
       "recommendations finished on 95000/122533 queries. users per second: 20074.9"
      ]
     },
     "metadata": {},
     "output_type": "display_data"
    },
    {
     "data": {
      "text/html": [
       "<pre>recommendations finished on 96000/122533 queries. users per second: 20075.7</pre>"
      ],
      "text/plain": [
       "recommendations finished on 96000/122533 queries. users per second: 20075.7"
      ]
     },
     "metadata": {},
     "output_type": "display_data"
    },
    {
     "data": {
      "text/html": [
       "<pre>recommendations finished on 97000/122533 queries. users per second: 20075.1</pre>"
      ],
      "text/plain": [
       "recommendations finished on 97000/122533 queries. users per second: 20075.1"
      ]
     },
     "metadata": {},
     "output_type": "display_data"
    },
    {
     "data": {
      "text/html": [
       "<pre>recommendations finished on 98000/122533 queries. users per second: 20075.9</pre>"
      ],
      "text/plain": [
       "recommendations finished on 98000/122533 queries. users per second: 20075.9"
      ]
     },
     "metadata": {},
     "output_type": "display_data"
    },
    {
     "data": {
      "text/html": [
       "<pre>recommendations finished on 99000/122533 queries. users per second: 20076.3</pre>"
      ],
      "text/plain": [
       "recommendations finished on 99000/122533 queries. users per second: 20076.3"
      ]
     },
     "metadata": {},
     "output_type": "display_data"
    },
    {
     "data": {
      "text/html": [
       "<pre>recommendations finished on 100000/122533 queries. users per second: 20077.2</pre>"
      ],
      "text/plain": [
       "recommendations finished on 100000/122533 queries. users per second: 20077.2"
      ]
     },
     "metadata": {},
     "output_type": "display_data"
    },
    {
     "data": {
      "text/html": [
       "<pre>recommendations finished on 101000/122533 queries. users per second: 20077.4</pre>"
      ],
      "text/plain": [
       "recommendations finished on 101000/122533 queries. users per second: 20077.4"
      ]
     },
     "metadata": {},
     "output_type": "display_data"
    },
    {
     "data": {
      "text/html": [
       "<pre>recommendations finished on 102000/122533 queries. users per second: 20077.8</pre>"
      ],
      "text/plain": [
       "recommendations finished on 102000/122533 queries. users per second: 20077.8"
      ]
     },
     "metadata": {},
     "output_type": "display_data"
    },
    {
     "data": {
      "text/html": [
       "<pre>recommendations finished on 103000/122533 queries. users per second: 20079.7</pre>"
      ],
      "text/plain": [
       "recommendations finished on 103000/122533 queries. users per second: 20079.7"
      ]
     },
     "metadata": {},
     "output_type": "display_data"
    },
    {
     "data": {
      "text/html": [
       "<pre>recommendations finished on 104000/122533 queries. users per second: 20080.9</pre>"
      ],
      "text/plain": [
       "recommendations finished on 104000/122533 queries. users per second: 20080.9"
      ]
     },
     "metadata": {},
     "output_type": "display_data"
    },
    {
     "data": {
      "text/html": [
       "<pre>recommendations finished on 105000/122533 queries. users per second: 20074.3</pre>"
      ],
      "text/plain": [
       "recommendations finished on 105000/122533 queries. users per second: 20074.3"
      ]
     },
     "metadata": {},
     "output_type": "display_data"
    },
    {
     "data": {
      "text/html": [
       "<pre>recommendations finished on 106000/122533 queries. users per second: 20070.8</pre>"
      ],
      "text/plain": [
       "recommendations finished on 106000/122533 queries. users per second: 20070.8"
      ]
     },
     "metadata": {},
     "output_type": "display_data"
    },
    {
     "data": {
      "text/html": [
       "<pre>recommendations finished on 107000/122533 queries. users per second: 20071.4</pre>"
      ],
      "text/plain": [
       "recommendations finished on 107000/122533 queries. users per second: 20071.4"
      ]
     },
     "metadata": {},
     "output_type": "display_data"
    },
    {
     "data": {
      "text/html": [
       "<pre>recommendations finished on 108000/122533 queries. users per second: 20073</pre>"
      ],
      "text/plain": [
       "recommendations finished on 108000/122533 queries. users per second: 20073"
      ]
     },
     "metadata": {},
     "output_type": "display_data"
    },
    {
     "data": {
      "text/html": [
       "<pre>recommendations finished on 109000/122533 queries. users per second: 20073.4</pre>"
      ],
      "text/plain": [
       "recommendations finished on 109000/122533 queries. users per second: 20073.4"
      ]
     },
     "metadata": {},
     "output_type": "display_data"
    },
    {
     "data": {
      "text/html": [
       "<pre>recommendations finished on 110000/122533 queries. users per second: 20074.3</pre>"
      ],
      "text/plain": [
       "recommendations finished on 110000/122533 queries. users per second: 20074.3"
      ]
     },
     "metadata": {},
     "output_type": "display_data"
    },
    {
     "data": {
      "text/html": [
       "<pre>recommendations finished on 111000/122533 queries. users per second: 20074.9</pre>"
      ],
      "text/plain": [
       "recommendations finished on 111000/122533 queries. users per second: 20074.9"
      ]
     },
     "metadata": {},
     "output_type": "display_data"
    },
    {
     "data": {
      "text/html": [
       "<pre>recommendations finished on 112000/122533 queries. users per second: 20076.2</pre>"
      ],
      "text/plain": [
       "recommendations finished on 112000/122533 queries. users per second: 20076.2"
      ]
     },
     "metadata": {},
     "output_type": "display_data"
    },
    {
     "data": {
      "text/html": [
       "<pre>recommendations finished on 113000/122533 queries. users per second: 20077.3</pre>"
      ],
      "text/plain": [
       "recommendations finished on 113000/122533 queries. users per second: 20077.3"
      ]
     },
     "metadata": {},
     "output_type": "display_data"
    },
    {
     "data": {
      "text/html": [
       "<pre>recommendations finished on 114000/122533 queries. users per second: 20078.8</pre>"
      ],
      "text/plain": [
       "recommendations finished on 114000/122533 queries. users per second: 20078.8"
      ]
     },
     "metadata": {},
     "output_type": "display_data"
    },
    {
     "data": {
      "text/html": [
       "<pre>recommendations finished on 115000/122533 queries. users per second: 20080.4</pre>"
      ],
      "text/plain": [
       "recommendations finished on 115000/122533 queries. users per second: 20080.4"
      ]
     },
     "metadata": {},
     "output_type": "display_data"
    },
    {
     "data": {
      "text/html": [
       "<pre>recommendations finished on 116000/122533 queries. users per second: 20081.1</pre>"
      ],
      "text/plain": [
       "recommendations finished on 116000/122533 queries. users per second: 20081.1"
      ]
     },
     "metadata": {},
     "output_type": "display_data"
    },
    {
     "data": {
      "text/html": [
       "<pre>recommendations finished on 117000/122533 queries. users per second: 20082</pre>"
      ],
      "text/plain": [
       "recommendations finished on 117000/122533 queries. users per second: 20082"
      ]
     },
     "metadata": {},
     "output_type": "display_data"
    },
    {
     "data": {
      "text/html": [
       "<pre>recommendations finished on 118000/122533 queries. users per second: 20083.2</pre>"
      ],
      "text/plain": [
       "recommendations finished on 118000/122533 queries. users per second: 20083.2"
      ]
     },
     "metadata": {},
     "output_type": "display_data"
    },
    {
     "data": {
      "text/html": [
       "<pre>recommendations finished on 119000/122533 queries. users per second: 20084.5</pre>"
      ],
      "text/plain": [
       "recommendations finished on 119000/122533 queries. users per second: 20084.5"
      ]
     },
     "metadata": {},
     "output_type": "display_data"
    },
    {
     "data": {
      "text/html": [
       "<pre>recommendations finished on 120000/122533 queries. users per second: 20086.1</pre>"
      ],
      "text/plain": [
       "recommendations finished on 120000/122533 queries. users per second: 20086.1"
      ]
     },
     "metadata": {},
     "output_type": "display_data"
    },
    {
     "data": {
      "text/html": [
       "<pre>recommendations finished on 121000/122533 queries. users per second: 20085.8</pre>"
      ],
      "text/plain": [
       "recommendations finished on 121000/122533 queries. users per second: 20085.8"
      ]
     },
     "metadata": {},
     "output_type": "display_data"
    },
    {
     "data": {
      "text/html": [
       "<pre>recommendations finished on 122000/122533 queries. users per second: 20073</pre>"
      ],
      "text/plain": [
       "recommendations finished on 122000/122533 queries. users per second: 20073"
      ]
     },
     "metadata": {},
     "output_type": "display_data"
    },
    {
     "name": "stdout",
     "output_type": "stream",
     "text": [
      "+------------+-----------+-------+------+\n",
      "| customerId | productId | score | rank |\n",
      "+------------+-----------+-------+------+\n",
      "|     1      |   29441   |  1.0  |  1   |\n",
      "|     1      |   19250   |  1.0  |  2   |\n",
      "|     1      |   31536   |  1.0  |  3   |\n",
      "|     1      |   25292   |  1.0  |  4   |\n",
      "|     1      |   32880   |  1.0  |  5   |\n",
      "|     2      |   29441   |  1.0  |  1   |\n",
      "|     2      |   19250   |  1.0  |  2   |\n",
      "|     2      |   31536   |  1.0  |  3   |\n",
      "|     2      |   25292   |  1.0  |  4   |\n",
      "|     2      |   32880   |  1.0  |  5   |\n",
      "|     3      |   29441   |  1.0  |  1   |\n",
      "|     3      |   19250   |  1.0  |  2   |\n",
      "|     3      |   31536   |  1.0  |  3   |\n",
      "|     3      |   25292   |  1.0  |  4   |\n",
      "|     3      |   32880   |  1.0  |  5   |\n",
      "|     4      |   29441   |  1.0  |  1   |\n",
      "|     4      |   19250   |  1.0  |  2   |\n",
      "|     4      |   31536   |  1.0  |  3   |\n",
      "|     4      |   25292   |  1.0  |  4   |\n",
      "|     4      |   32880   |  1.0  |  5   |\n",
      "|     5      |   29441   |  1.0  |  1   |\n",
      "|     5      |   19250   |  1.0  |  2   |\n",
      "|     5      |   31536   |  1.0  |  3   |\n",
      "|     5      |   25292   |  1.0  |  4   |\n",
      "|     5      |   32880   |  1.0  |  5   |\n",
      "|     6      |   29441   |  1.0  |  1   |\n",
      "|     6      |   19250   |  1.0  |  2   |\n",
      "|     6      |   31536   |  1.0  |  3   |\n",
      "|     6      |   25292   |  1.0  |  4   |\n",
      "|     6      |   32880   |  1.0  |  5   |\n",
      "+------------+-----------+-------+------+\n",
      "[612665 rows x 4 columns]\n",
      "\n"
     ]
    }
   ],
   "source": [
    "# Baseline: popularity over purchase_dummy\n",
    "# feel free to use purchase_count\n",
    "name = 'popularity'\n",
    "target = 'purchase_dummy'\n",
    "#target = 'purchase_count'\n",
    "pop_dummy = model(train_data_dummy, name, user_id, item_id, target, users_to_recommend, n_rec, n_display)"
   ]
  },
  {
   "cell_type": "code",
   "execution_count": 183,
   "metadata": {},
   "outputs": [
    {
     "data": {
      "text/html": [
       "<pre>Warning: Ignoring columns purchase_count;</pre>"
      ],
      "text/plain": [
       "Warning: Ignoring columns purchase_count;"
      ]
     },
     "metadata": {},
     "output_type": "display_data"
    },
    {
     "data": {
      "text/html": [
       "<pre>    To use these columns in scoring predictions, use a model that allows the use of additional features.</pre>"
      ],
      "text/plain": [
       "    To use these columns in scoring predictions, use a model that allows the use of additional features."
      ]
     },
     "metadata": {},
     "output_type": "display_data"
    },
    {
     "data": {
      "text/html": [
       "<pre>Preparing data set.</pre>"
      ],
      "text/plain": [
       "Preparing data set."
      ]
     },
     "metadata": {},
     "output_type": "display_data"
    },
    {
     "data": {
      "text/html": [
       "<pre>    Data has 396007 observations with 117786 users and 52052 items.</pre>"
      ],
      "text/plain": [
       "    Data has 396007 observations with 117786 users and 52052 items."
      ]
     },
     "metadata": {},
     "output_type": "display_data"
    },
    {
     "data": {
      "text/html": [
       "<pre>    Data prepared in: 0.176618s</pre>"
      ],
      "text/plain": [
       "    Data prepared in: 0.176618s"
      ]
     },
     "metadata": {},
     "output_type": "display_data"
    },
    {
     "data": {
      "text/html": [
       "<pre>Training model from provided data.</pre>"
      ],
      "text/plain": [
       "Training model from provided data."
      ]
     },
     "metadata": {},
     "output_type": "display_data"
    },
    {
     "data": {
      "text/html": [
       "<pre>Gathering per-item and per-user statistics.</pre>"
      ],
      "text/plain": [
       "Gathering per-item and per-user statistics."
      ]
     },
     "metadata": {},
     "output_type": "display_data"
    },
    {
     "data": {
      "text/html": [
       "<pre>+--------------------------------+------------+</pre>"
      ],
      "text/plain": [
       "+--------------------------------+------------+"
      ]
     },
     "metadata": {},
     "output_type": "display_data"
    },
    {
     "data": {
      "text/html": [
       "<pre>| Elapsed Time (Item Statistics) | % Complete |</pre>"
      ],
      "text/plain": [
       "| Elapsed Time (Item Statistics) | % Complete |"
      ]
     },
     "metadata": {},
     "output_type": "display_data"
    },
    {
     "data": {
      "text/html": [
       "<pre>+--------------------------------+------------+</pre>"
      ],
      "text/plain": [
       "+--------------------------------+------------+"
      ]
     },
     "metadata": {},
     "output_type": "display_data"
    },
    {
     "data": {
      "text/html": [
       "<pre>| 670us                          | 0.75       |</pre>"
      ],
      "text/plain": [
       "| 670us                          | 0.75       |"
      ]
     },
     "metadata": {},
     "output_type": "display_data"
    },
    {
     "data": {
      "text/html": [
       "<pre>| 15.649ms                       | 100        |</pre>"
      ],
      "text/plain": [
       "| 15.649ms                       | 100        |"
      ]
     },
     "metadata": {},
     "output_type": "display_data"
    },
    {
     "data": {
      "text/html": [
       "<pre>+--------------------------------+------------+</pre>"
      ],
      "text/plain": [
       "+--------------------------------+------------+"
      ]
     },
     "metadata": {},
     "output_type": "display_data"
    },
    {
     "data": {
      "text/html": [
       "<pre>Setting up lookup tables.</pre>"
      ],
      "text/plain": [
       "Setting up lookup tables."
      ]
     },
     "metadata": {},
     "output_type": "display_data"
    },
    {
     "data": {
      "text/html": [
       "<pre>Processing data in 2 passes using dense lookup tables.</pre>"
      ],
      "text/plain": [
       "Processing data in 2 passes using dense lookup tables."
      ]
     },
     "metadata": {},
     "output_type": "display_data"
    },
    {
     "data": {
      "text/html": [
       "<pre>+-------------------------------------+------------------+-----------------+</pre>"
      ],
      "text/plain": [
       "+-------------------------------------+------------------+-----------------+"
      ]
     },
     "metadata": {},
     "output_type": "display_data"
    },
    {
     "data": {
      "text/html": [
       "<pre>| Elapsed Time (Constructing Lookups) | Total % Complete | Items Processed |</pre>"
      ],
      "text/plain": [
       "| Elapsed Time (Constructing Lookups) | Total % Complete | Items Processed |"
      ]
     },
     "metadata": {},
     "output_type": "display_data"
    },
    {
     "data": {
      "text/html": [
       "<pre>+-------------------------------------+------------------+-----------------+</pre>"
      ],
      "text/plain": [
       "+-------------------------------------+------------------+-----------------+"
      ]
     },
     "metadata": {},
     "output_type": "display_data"
    },
    {
     "data": {
      "text/html": [
       "<pre>| 4.74s                               | 0                | 0               |</pre>"
      ],
      "text/plain": [
       "| 4.74s                               | 0                | 0               |"
      ]
     },
     "metadata": {},
     "output_type": "display_data"
    },
    {
     "data": {
      "text/html": [
       "<pre>| 9.10s                               | 49.75            | 26025           |</pre>"
      ],
      "text/plain": [
       "| 9.10s                               | 49.75            | 26025           |"
      ]
     },
     "metadata": {},
     "output_type": "display_data"
    },
    {
     "data": {
      "text/html": [
       "<pre>| 10.07s                              | 100              | 52052           |</pre>"
      ],
      "text/plain": [
       "| 10.07s                              | 100              | 52052           |"
      ]
     },
     "metadata": {},
     "output_type": "display_data"
    },
    {
     "data": {
      "text/html": [
       "<pre>+-------------------------------------+------------------+-----------------+</pre>"
      ],
      "text/plain": [
       "+-------------------------------------+------------------+-----------------+"
      ]
     },
     "metadata": {},
     "output_type": "display_data"
    },
    {
     "data": {
      "text/html": [
       "<pre>Finalizing lookup tables.</pre>"
      ],
      "text/plain": [
       "Finalizing lookup tables."
      ]
     },
     "metadata": {},
     "output_type": "display_data"
    },
    {
     "data": {
      "text/html": [
       "<pre>Generating candidate set for working with new users.</pre>"
      ],
      "text/plain": [
       "Generating candidate set for working with new users."
      ]
     },
     "metadata": {},
     "output_type": "display_data"
    },
    {
     "data": {
      "text/html": [
       "<pre>Finished training in 10.1071s</pre>"
      ],
      "text/plain": [
       "Finished training in 10.1071s"
      ]
     },
     "metadata": {},
     "output_type": "display_data"
    },
    {
     "data": {
      "text/html": [
       "<pre>recommendations finished on 1000/122533 queries. users per second: 15320.7</pre>"
      ],
      "text/plain": [
       "recommendations finished on 1000/122533 queries. users per second: 15320.7"
      ]
     },
     "metadata": {},
     "output_type": "display_data"
    },
    {
     "data": {
      "text/html": [
       "<pre>recommendations finished on 2000/122533 queries. users per second: 15769</pre>"
      ],
      "text/plain": [
       "recommendations finished on 2000/122533 queries. users per second: 15769"
      ]
     },
     "metadata": {},
     "output_type": "display_data"
    },
    {
     "data": {
      "text/html": [
       "<pre>recommendations finished on 3000/122533 queries. users per second: 15915.5</pre>"
      ],
      "text/plain": [
       "recommendations finished on 3000/122533 queries. users per second: 15915.5"
      ]
     },
     "metadata": {},
     "output_type": "display_data"
    },
    {
     "data": {
      "text/html": [
       "<pre>recommendations finished on 4000/122533 queries. users per second: 15953.4</pre>"
      ],
      "text/plain": [
       "recommendations finished on 4000/122533 queries. users per second: 15953.4"
      ]
     },
     "metadata": {},
     "output_type": "display_data"
    },
    {
     "data": {
      "text/html": [
       "<pre>recommendations finished on 5000/122533 queries. users per second: 16026.2</pre>"
      ],
      "text/plain": [
       "recommendations finished on 5000/122533 queries. users per second: 16026.2"
      ]
     },
     "metadata": {},
     "output_type": "display_data"
    },
    {
     "data": {
      "text/html": [
       "<pre>recommendations finished on 6000/122533 queries. users per second: 16071.9</pre>"
      ],
      "text/plain": [
       "recommendations finished on 6000/122533 queries. users per second: 16071.9"
      ]
     },
     "metadata": {},
     "output_type": "display_data"
    },
    {
     "data": {
      "text/html": [
       "<pre>recommendations finished on 7000/122533 queries. users per second: 16091</pre>"
      ],
      "text/plain": [
       "recommendations finished on 7000/122533 queries. users per second: 16091"
      ]
     },
     "metadata": {},
     "output_type": "display_data"
    },
    {
     "data": {
      "text/html": [
       "<pre>recommendations finished on 8000/122533 queries. users per second: 16117.4</pre>"
      ],
      "text/plain": [
       "recommendations finished on 8000/122533 queries. users per second: 16117.4"
      ]
     },
     "metadata": {},
     "output_type": "display_data"
    },
    {
     "data": {
      "text/html": [
       "<pre>recommendations finished on 9000/122533 queries. users per second: 16135</pre>"
      ],
      "text/plain": [
       "recommendations finished on 9000/122533 queries. users per second: 16135"
      ]
     },
     "metadata": {},
     "output_type": "display_data"
    },
    {
     "data": {
      "text/html": [
       "<pre>recommendations finished on 10000/122533 queries. users per second: 16153.7</pre>"
      ],
      "text/plain": [
       "recommendations finished on 10000/122533 queries. users per second: 16153.7"
      ]
     },
     "metadata": {},
     "output_type": "display_data"
    },
    {
     "data": {
      "text/html": [
       "<pre>recommendations finished on 11000/122533 queries. users per second: 16172.7</pre>"
      ],
      "text/plain": [
       "recommendations finished on 11000/122533 queries. users per second: 16172.7"
      ]
     },
     "metadata": {},
     "output_type": "display_data"
    },
    {
     "data": {
      "text/html": [
       "<pre>recommendations finished on 12000/122533 queries. users per second: 16186.2</pre>"
      ],
      "text/plain": [
       "recommendations finished on 12000/122533 queries. users per second: 16186.2"
      ]
     },
     "metadata": {},
     "output_type": "display_data"
    },
    {
     "data": {
      "text/html": [
       "<pre>recommendations finished on 13000/122533 queries. users per second: 16194.3</pre>"
      ],
      "text/plain": [
       "recommendations finished on 13000/122533 queries. users per second: 16194.3"
      ]
     },
     "metadata": {},
     "output_type": "display_data"
    },
    {
     "data": {
      "text/html": [
       "<pre>recommendations finished on 14000/122533 queries. users per second: 16196.8</pre>"
      ],
      "text/plain": [
       "recommendations finished on 14000/122533 queries. users per second: 16196.8"
      ]
     },
     "metadata": {},
     "output_type": "display_data"
    },
    {
     "data": {
      "text/html": [
       "<pre>recommendations finished on 15000/122533 queries. users per second: 16202.5</pre>"
      ],
      "text/plain": [
       "recommendations finished on 15000/122533 queries. users per second: 16202.5"
      ]
     },
     "metadata": {},
     "output_type": "display_data"
    },
    {
     "data": {
      "text/html": [
       "<pre>recommendations finished on 16000/122533 queries. users per second: 16203.5</pre>"
      ],
      "text/plain": [
       "recommendations finished on 16000/122533 queries. users per second: 16203.5"
      ]
     },
     "metadata": {},
     "output_type": "display_data"
    },
    {
     "data": {
      "text/html": [
       "<pre>recommendations finished on 17000/122533 queries. users per second: 16212.8</pre>"
      ],
      "text/plain": [
       "recommendations finished on 17000/122533 queries. users per second: 16212.8"
      ]
     },
     "metadata": {},
     "output_type": "display_data"
    },
    {
     "data": {
      "text/html": [
       "<pre>recommendations finished on 18000/122533 queries. users per second: 16216.6</pre>"
      ],
      "text/plain": [
       "recommendations finished on 18000/122533 queries. users per second: 16216.6"
      ]
     },
     "metadata": {},
     "output_type": "display_data"
    },
    {
     "data": {
      "text/html": [
       "<pre>recommendations finished on 19000/122533 queries. users per second: 16222.3</pre>"
      ],
      "text/plain": [
       "recommendations finished on 19000/122533 queries. users per second: 16222.3"
      ]
     },
     "metadata": {},
     "output_type": "display_data"
    },
    {
     "data": {
      "text/html": [
       "<pre>recommendations finished on 20000/122533 queries. users per second: 16226.6</pre>"
      ],
      "text/plain": [
       "recommendations finished on 20000/122533 queries. users per second: 16226.6"
      ]
     },
     "metadata": {},
     "output_type": "display_data"
    },
    {
     "data": {
      "text/html": [
       "<pre>recommendations finished on 21000/122533 queries. users per second: 16216.9</pre>"
      ],
      "text/plain": [
       "recommendations finished on 21000/122533 queries. users per second: 16216.9"
      ]
     },
     "metadata": {},
     "output_type": "display_data"
    },
    {
     "data": {
      "text/html": [
       "<pre>recommendations finished on 22000/122533 queries. users per second: 16224.4</pre>"
      ],
      "text/plain": [
       "recommendations finished on 22000/122533 queries. users per second: 16224.4"
      ]
     },
     "metadata": {},
     "output_type": "display_data"
    },
    {
     "data": {
      "text/html": [
       "<pre>recommendations finished on 23000/122533 queries. users per second: 16233.5</pre>"
      ],
      "text/plain": [
       "recommendations finished on 23000/122533 queries. users per second: 16233.5"
      ]
     },
     "metadata": {},
     "output_type": "display_data"
    },
    {
     "data": {
      "text/html": [
       "<pre>recommendations finished on 24000/122533 queries. users per second: 16239.8</pre>"
      ],
      "text/plain": [
       "recommendations finished on 24000/122533 queries. users per second: 16239.8"
      ]
     },
     "metadata": {},
     "output_type": "display_data"
    },
    {
     "data": {
      "text/html": [
       "<pre>recommendations finished on 25000/122533 queries. users per second: 16243.9</pre>"
      ],
      "text/plain": [
       "recommendations finished on 25000/122533 queries. users per second: 16243.9"
      ]
     },
     "metadata": {},
     "output_type": "display_data"
    },
    {
     "data": {
      "text/html": [
       "<pre>recommendations finished on 26000/122533 queries. users per second: 16246.6</pre>"
      ],
      "text/plain": [
       "recommendations finished on 26000/122533 queries. users per second: 16246.6"
      ]
     },
     "metadata": {},
     "output_type": "display_data"
    },
    {
     "data": {
      "text/html": [
       "<pre>recommendations finished on 27000/122533 queries. users per second: 16246.1</pre>"
      ],
      "text/plain": [
       "recommendations finished on 27000/122533 queries. users per second: 16246.1"
      ]
     },
     "metadata": {},
     "output_type": "display_data"
    },
    {
     "data": {
      "text/html": [
       "<pre>recommendations finished on 28000/122533 queries. users per second: 16252.4</pre>"
      ],
      "text/plain": [
       "recommendations finished on 28000/122533 queries. users per second: 16252.4"
      ]
     },
     "metadata": {},
     "output_type": "display_data"
    },
    {
     "data": {
      "text/html": [
       "<pre>recommendations finished on 29000/122533 queries. users per second: 16258.7</pre>"
      ],
      "text/plain": [
       "recommendations finished on 29000/122533 queries. users per second: 16258.7"
      ]
     },
     "metadata": {},
     "output_type": "display_data"
    },
    {
     "data": {
      "text/html": [
       "<pre>recommendations finished on 30000/122533 queries. users per second: 16262.3</pre>"
      ],
      "text/plain": [
       "recommendations finished on 30000/122533 queries. users per second: 16262.3"
      ]
     },
     "metadata": {},
     "output_type": "display_data"
    },
    {
     "data": {
      "text/html": [
       "<pre>recommendations finished on 31000/122533 queries. users per second: 16261.2</pre>"
      ],
      "text/plain": [
       "recommendations finished on 31000/122533 queries. users per second: 16261.2"
      ]
     },
     "metadata": {},
     "output_type": "display_data"
    },
    {
     "data": {
      "text/html": [
       "<pre>recommendations finished on 32000/122533 queries. users per second: 16262.8</pre>"
      ],
      "text/plain": [
       "recommendations finished on 32000/122533 queries. users per second: 16262.8"
      ]
     },
     "metadata": {},
     "output_type": "display_data"
    },
    {
     "data": {
      "text/html": [
       "<pre>recommendations finished on 33000/122533 queries. users per second: 16262.1</pre>"
      ],
      "text/plain": [
       "recommendations finished on 33000/122533 queries. users per second: 16262.1"
      ]
     },
     "metadata": {},
     "output_type": "display_data"
    },
    {
     "data": {
      "text/html": [
       "<pre>recommendations finished on 34000/122533 queries. users per second: 16264.8</pre>"
      ],
      "text/plain": [
       "recommendations finished on 34000/122533 queries. users per second: 16264.8"
      ]
     },
     "metadata": {},
     "output_type": "display_data"
    },
    {
     "data": {
      "text/html": [
       "<pre>recommendations finished on 35000/122533 queries. users per second: 16267.1</pre>"
      ],
      "text/plain": [
       "recommendations finished on 35000/122533 queries. users per second: 16267.1"
      ]
     },
     "metadata": {},
     "output_type": "display_data"
    },
    {
     "data": {
      "text/html": [
       "<pre>recommendations finished on 36000/122533 queries. users per second: 16270.2</pre>"
      ],
      "text/plain": [
       "recommendations finished on 36000/122533 queries. users per second: 16270.2"
      ]
     },
     "metadata": {},
     "output_type": "display_data"
    },
    {
     "data": {
      "text/html": [
       "<pre>recommendations finished on 37000/122533 queries. users per second: 16274.8</pre>"
      ],
      "text/plain": [
       "recommendations finished on 37000/122533 queries. users per second: 16274.8"
      ]
     },
     "metadata": {},
     "output_type": "display_data"
    },
    {
     "data": {
      "text/html": [
       "<pre>recommendations finished on 38000/122533 queries. users per second: 16275.9</pre>"
      ],
      "text/plain": [
       "recommendations finished on 38000/122533 queries. users per second: 16275.9"
      ]
     },
     "metadata": {},
     "output_type": "display_data"
    },
    {
     "data": {
      "text/html": [
       "<pre>recommendations finished on 39000/122533 queries. users per second: 16276.7</pre>"
      ],
      "text/plain": [
       "recommendations finished on 39000/122533 queries. users per second: 16276.7"
      ]
     },
     "metadata": {},
     "output_type": "display_data"
    },
    {
     "data": {
      "text/html": [
       "<pre>recommendations finished on 40000/122533 queries. users per second: 16280.3</pre>"
      ],
      "text/plain": [
       "recommendations finished on 40000/122533 queries. users per second: 16280.3"
      ]
     },
     "metadata": {},
     "output_type": "display_data"
    },
    {
     "data": {
      "text/html": [
       "<pre>recommendations finished on 41000/122533 queries. users per second: 16278.8</pre>"
      ],
      "text/plain": [
       "recommendations finished on 41000/122533 queries. users per second: 16278.8"
      ]
     },
     "metadata": {},
     "output_type": "display_data"
    },
    {
     "data": {
      "text/html": [
       "<pre>recommendations finished on 42000/122533 queries. users per second: 16280</pre>"
      ],
      "text/plain": [
       "recommendations finished on 42000/122533 queries. users per second: 16280"
      ]
     },
     "metadata": {},
     "output_type": "display_data"
    },
    {
     "data": {
      "text/html": [
       "<pre>recommendations finished on 43000/122533 queries. users per second: 16281.8</pre>"
      ],
      "text/plain": [
       "recommendations finished on 43000/122533 queries. users per second: 16281.8"
      ]
     },
     "metadata": {},
     "output_type": "display_data"
    },
    {
     "data": {
      "text/html": [
       "<pre>recommendations finished on 44000/122533 queries. users per second: 16284.3</pre>"
      ],
      "text/plain": [
       "recommendations finished on 44000/122533 queries. users per second: 16284.3"
      ]
     },
     "metadata": {},
     "output_type": "display_data"
    },
    {
     "data": {
      "text/html": [
       "<pre>recommendations finished on 45000/122533 queries. users per second: 16287.8</pre>"
      ],
      "text/plain": [
       "recommendations finished on 45000/122533 queries. users per second: 16287.8"
      ]
     },
     "metadata": {},
     "output_type": "display_data"
    },
    {
     "data": {
      "text/html": [
       "<pre>recommendations finished on 46000/122533 queries. users per second: 16290.1</pre>"
      ],
      "text/plain": [
       "recommendations finished on 46000/122533 queries. users per second: 16290.1"
      ]
     },
     "metadata": {},
     "output_type": "display_data"
    },
    {
     "data": {
      "text/html": [
       "<pre>recommendations finished on 47000/122533 queries. users per second: 16289.4</pre>"
      ],
      "text/plain": [
       "recommendations finished on 47000/122533 queries. users per second: 16289.4"
      ]
     },
     "metadata": {},
     "output_type": "display_data"
    },
    {
     "data": {
      "text/html": [
       "<pre>recommendations finished on 48000/122533 queries. users per second: 16290.3</pre>"
      ],
      "text/plain": [
       "recommendations finished on 48000/122533 queries. users per second: 16290.3"
      ]
     },
     "metadata": {},
     "output_type": "display_data"
    },
    {
     "data": {
      "text/html": [
       "<pre>recommendations finished on 49000/122533 queries. users per second: 16289.9</pre>"
      ],
      "text/plain": [
       "recommendations finished on 49000/122533 queries. users per second: 16289.9"
      ]
     },
     "metadata": {},
     "output_type": "display_data"
    },
    {
     "data": {
      "text/html": [
       "<pre>recommendations finished on 50000/122533 queries. users per second: 16290.5</pre>"
      ],
      "text/plain": [
       "recommendations finished on 50000/122533 queries. users per second: 16290.5"
      ]
     },
     "metadata": {},
     "output_type": "display_data"
    },
    {
     "data": {
      "text/html": [
       "<pre>recommendations finished on 51000/122533 queries. users per second: 16292.7</pre>"
      ],
      "text/plain": [
       "recommendations finished on 51000/122533 queries. users per second: 16292.7"
      ]
     },
     "metadata": {},
     "output_type": "display_data"
    },
    {
     "data": {
      "text/html": [
       "<pre>recommendations finished on 52000/122533 queries. users per second: 16295.1</pre>"
      ],
      "text/plain": [
       "recommendations finished on 52000/122533 queries. users per second: 16295.1"
      ]
     },
     "metadata": {},
     "output_type": "display_data"
    },
    {
     "data": {
      "text/html": [
       "<pre>recommendations finished on 53000/122533 queries. users per second: 16293.5</pre>"
      ],
      "text/plain": [
       "recommendations finished on 53000/122533 queries. users per second: 16293.5"
      ]
     },
     "metadata": {},
     "output_type": "display_data"
    },
    {
     "data": {
      "text/html": [
       "<pre>recommendations finished on 54000/122533 queries. users per second: 16294.6</pre>"
      ],
      "text/plain": [
       "recommendations finished on 54000/122533 queries. users per second: 16294.6"
      ]
     },
     "metadata": {},
     "output_type": "display_data"
    },
    {
     "data": {
      "text/html": [
       "<pre>recommendations finished on 55000/122533 queries. users per second: 16293.8</pre>"
      ],
      "text/plain": [
       "recommendations finished on 55000/122533 queries. users per second: 16293.8"
      ]
     },
     "metadata": {},
     "output_type": "display_data"
    },
    {
     "data": {
      "text/html": [
       "<pre>recommendations finished on 56000/122533 queries. users per second: 16291.2</pre>"
      ],
      "text/plain": [
       "recommendations finished on 56000/122533 queries. users per second: 16291.2"
      ]
     },
     "metadata": {},
     "output_type": "display_data"
    },
    {
     "data": {
      "text/html": [
       "<pre>recommendations finished on 57000/122533 queries. users per second: 16290.8</pre>"
      ],
      "text/plain": [
       "recommendations finished on 57000/122533 queries. users per second: 16290.8"
      ]
     },
     "metadata": {},
     "output_type": "display_data"
    },
    {
     "data": {
      "text/html": [
       "<pre>recommendations finished on 58000/122533 queries. users per second: 16291.4</pre>"
      ],
      "text/plain": [
       "recommendations finished on 58000/122533 queries. users per second: 16291.4"
      ]
     },
     "metadata": {},
     "output_type": "display_data"
    },
    {
     "data": {
      "text/html": [
       "<pre>recommendations finished on 59000/122533 queries. users per second: 16290.7</pre>"
      ],
      "text/plain": [
       "recommendations finished on 59000/122533 queries. users per second: 16290.7"
      ]
     },
     "metadata": {},
     "output_type": "display_data"
    },
    {
     "data": {
      "text/html": [
       "<pre>recommendations finished on 60000/122533 queries. users per second: 16291.1</pre>"
      ],
      "text/plain": [
       "recommendations finished on 60000/122533 queries. users per second: 16291.1"
      ]
     },
     "metadata": {},
     "output_type": "display_data"
    },
    {
     "data": {
      "text/html": [
       "<pre>recommendations finished on 61000/122533 queries. users per second: 16289.5</pre>"
      ],
      "text/plain": [
       "recommendations finished on 61000/122533 queries. users per second: 16289.5"
      ]
     },
     "metadata": {},
     "output_type": "display_data"
    },
    {
     "data": {
      "text/html": [
       "<pre>recommendations finished on 62000/122533 queries. users per second: 16291.2</pre>"
      ],
      "text/plain": [
       "recommendations finished on 62000/122533 queries. users per second: 16291.2"
      ]
     },
     "metadata": {},
     "output_type": "display_data"
    },
    {
     "data": {
      "text/html": [
       "<pre>recommendations finished on 63000/122533 queries. users per second: 16293.1</pre>"
      ],
      "text/plain": [
       "recommendations finished on 63000/122533 queries. users per second: 16293.1"
      ]
     },
     "metadata": {},
     "output_type": "display_data"
    },
    {
     "data": {
      "text/html": [
       "<pre>recommendations finished on 64000/122533 queries. users per second: 16294.9</pre>"
      ],
      "text/plain": [
       "recommendations finished on 64000/122533 queries. users per second: 16294.9"
      ]
     },
     "metadata": {},
     "output_type": "display_data"
    },
    {
     "data": {
      "text/html": [
       "<pre>recommendations finished on 65000/122533 queries. users per second: 16294.6</pre>"
      ],
      "text/plain": [
       "recommendations finished on 65000/122533 queries. users per second: 16294.6"
      ]
     },
     "metadata": {},
     "output_type": "display_data"
    },
    {
     "data": {
      "text/html": [
       "<pre>recommendations finished on 66000/122533 queries. users per second: 16294.6</pre>"
      ],
      "text/plain": [
       "recommendations finished on 66000/122533 queries. users per second: 16294.6"
      ]
     },
     "metadata": {},
     "output_type": "display_data"
    },
    {
     "data": {
      "text/html": [
       "<pre>recommendations finished on 67000/122533 queries. users per second: 16295.3</pre>"
      ],
      "text/plain": [
       "recommendations finished on 67000/122533 queries. users per second: 16295.3"
      ]
     },
     "metadata": {},
     "output_type": "display_data"
    },
    {
     "data": {
      "text/html": [
       "<pre>recommendations finished on 68000/122533 queries. users per second: 16296</pre>"
      ],
      "text/plain": [
       "recommendations finished on 68000/122533 queries. users per second: 16296"
      ]
     },
     "metadata": {},
     "output_type": "display_data"
    },
    {
     "data": {
      "text/html": [
       "<pre>recommendations finished on 69000/122533 queries. users per second: 16297.9</pre>"
      ],
      "text/plain": [
       "recommendations finished on 69000/122533 queries. users per second: 16297.9"
      ]
     },
     "metadata": {},
     "output_type": "display_data"
    },
    {
     "data": {
      "text/html": [
       "<pre>recommendations finished on 70000/122533 queries. users per second: 16298.4</pre>"
      ],
      "text/plain": [
       "recommendations finished on 70000/122533 queries. users per second: 16298.4"
      ]
     },
     "metadata": {},
     "output_type": "display_data"
    },
    {
     "data": {
      "text/html": [
       "<pre>recommendations finished on 71000/122533 queries. users per second: 16297.8</pre>"
      ],
      "text/plain": [
       "recommendations finished on 71000/122533 queries. users per second: 16297.8"
      ]
     },
     "metadata": {},
     "output_type": "display_data"
    },
    {
     "data": {
      "text/html": [
       "<pre>recommendations finished on 72000/122533 queries. users per second: 16297</pre>"
      ],
      "text/plain": [
       "recommendations finished on 72000/122533 queries. users per second: 16297"
      ]
     },
     "metadata": {},
     "output_type": "display_data"
    },
    {
     "data": {
      "text/html": [
       "<pre>recommendations finished on 73000/122533 queries. users per second: 16294.7</pre>"
      ],
      "text/plain": [
       "recommendations finished on 73000/122533 queries. users per second: 16294.7"
      ]
     },
     "metadata": {},
     "output_type": "display_data"
    },
    {
     "data": {
      "text/html": [
       "<pre>recommendations finished on 74000/122533 queries. users per second: 16292.9</pre>"
      ],
      "text/plain": [
       "recommendations finished on 74000/122533 queries. users per second: 16292.9"
      ]
     },
     "metadata": {},
     "output_type": "display_data"
    },
    {
     "data": {
      "text/html": [
       "<pre>recommendations finished on 75000/122533 queries. users per second: 16292.7</pre>"
      ],
      "text/plain": [
       "recommendations finished on 75000/122533 queries. users per second: 16292.7"
      ]
     },
     "metadata": {},
     "output_type": "display_data"
    },
    {
     "data": {
      "text/html": [
       "<pre>recommendations finished on 76000/122533 queries. users per second: 16293.3</pre>"
      ],
      "text/plain": [
       "recommendations finished on 76000/122533 queries. users per second: 16293.3"
      ]
     },
     "metadata": {},
     "output_type": "display_data"
    },
    {
     "data": {
      "text/html": [
       "<pre>recommendations finished on 77000/122533 queries. users per second: 16295</pre>"
      ],
      "text/plain": [
       "recommendations finished on 77000/122533 queries. users per second: 16295"
      ]
     },
     "metadata": {},
     "output_type": "display_data"
    },
    {
     "data": {
      "text/html": [
       "<pre>recommendations finished on 78000/122533 queries. users per second: 16296.6</pre>"
      ],
      "text/plain": [
       "recommendations finished on 78000/122533 queries. users per second: 16296.6"
      ]
     },
     "metadata": {},
     "output_type": "display_data"
    },
    {
     "data": {
      "text/html": [
       "<pre>recommendations finished on 79000/122533 queries. users per second: 16297</pre>"
      ],
      "text/plain": [
       "recommendations finished on 79000/122533 queries. users per second: 16297"
      ]
     },
     "metadata": {},
     "output_type": "display_data"
    },
    {
     "data": {
      "text/html": [
       "<pre>recommendations finished on 80000/122533 queries. users per second: 16298.5</pre>"
      ],
      "text/plain": [
       "recommendations finished on 80000/122533 queries. users per second: 16298.5"
      ]
     },
     "metadata": {},
     "output_type": "display_data"
    },
    {
     "data": {
      "text/html": [
       "<pre>recommendations finished on 81000/122533 queries. users per second: 16298.7</pre>"
      ],
      "text/plain": [
       "recommendations finished on 81000/122533 queries. users per second: 16298.7"
      ]
     },
     "metadata": {},
     "output_type": "display_data"
    },
    {
     "data": {
      "text/html": [
       "<pre>recommendations finished on 82000/122533 queries. users per second: 16298</pre>"
      ],
      "text/plain": [
       "recommendations finished on 82000/122533 queries. users per second: 16298"
      ]
     },
     "metadata": {},
     "output_type": "display_data"
    },
    {
     "data": {
      "text/html": [
       "<pre>recommendations finished on 83000/122533 queries. users per second: 16298.5</pre>"
      ],
      "text/plain": [
       "recommendations finished on 83000/122533 queries. users per second: 16298.5"
      ]
     },
     "metadata": {},
     "output_type": "display_data"
    },
    {
     "data": {
      "text/html": [
       "<pre>recommendations finished on 84000/122533 queries. users per second: 16298.8</pre>"
      ],
      "text/plain": [
       "recommendations finished on 84000/122533 queries. users per second: 16298.8"
      ]
     },
     "metadata": {},
     "output_type": "display_data"
    },
    {
     "data": {
      "text/html": [
       "<pre>recommendations finished on 85000/122533 queries. users per second: 16298.3</pre>"
      ],
      "text/plain": [
       "recommendations finished on 85000/122533 queries. users per second: 16298.3"
      ]
     },
     "metadata": {},
     "output_type": "display_data"
    },
    {
     "data": {
      "text/html": [
       "<pre>recommendations finished on 86000/122533 queries. users per second: 16298.8</pre>"
      ],
      "text/plain": [
       "recommendations finished on 86000/122533 queries. users per second: 16298.8"
      ]
     },
     "metadata": {},
     "output_type": "display_data"
    },
    {
     "data": {
      "text/html": [
       "<pre>recommendations finished on 87000/122533 queries. users per second: 16299.8</pre>"
      ],
      "text/plain": [
       "recommendations finished on 87000/122533 queries. users per second: 16299.8"
      ]
     },
     "metadata": {},
     "output_type": "display_data"
    },
    {
     "data": {
      "text/html": [
       "<pre>recommendations finished on 88000/122533 queries. users per second: 16299.4</pre>"
      ],
      "text/plain": [
       "recommendations finished on 88000/122533 queries. users per second: 16299.4"
      ]
     },
     "metadata": {},
     "output_type": "display_data"
    },
    {
     "data": {
      "text/html": [
       "<pre>recommendations finished on 89000/122533 queries. users per second: 16300.3</pre>"
      ],
      "text/plain": [
       "recommendations finished on 89000/122533 queries. users per second: 16300.3"
      ]
     },
     "metadata": {},
     "output_type": "display_data"
    },
    {
     "data": {
      "text/html": [
       "<pre>recommendations finished on 90000/122533 queries. users per second: 16299</pre>"
      ],
      "text/plain": [
       "recommendations finished on 90000/122533 queries. users per second: 16299"
      ]
     },
     "metadata": {},
     "output_type": "display_data"
    },
    {
     "data": {
      "text/html": [
       "<pre>recommendations finished on 91000/122533 queries. users per second: 16297.6</pre>"
      ],
      "text/plain": [
       "recommendations finished on 91000/122533 queries. users per second: 16297.6"
      ]
     },
     "metadata": {},
     "output_type": "display_data"
    },
    {
     "data": {
      "text/html": [
       "<pre>recommendations finished on 92000/122533 queries. users per second: 16297.4</pre>"
      ],
      "text/plain": [
       "recommendations finished on 92000/122533 queries. users per second: 16297.4"
      ]
     },
     "metadata": {},
     "output_type": "display_data"
    },
    {
     "data": {
      "text/html": [
       "<pre>recommendations finished on 93000/122533 queries. users per second: 16298.1</pre>"
      ],
      "text/plain": [
       "recommendations finished on 93000/122533 queries. users per second: 16298.1"
      ]
     },
     "metadata": {},
     "output_type": "display_data"
    },
    {
     "data": {
      "text/html": [
       "<pre>recommendations finished on 94000/122533 queries. users per second: 16299.5</pre>"
      ],
      "text/plain": [
       "recommendations finished on 94000/122533 queries. users per second: 16299.5"
      ]
     },
     "metadata": {},
     "output_type": "display_data"
    },
    {
     "data": {
      "text/html": [
       "<pre>recommendations finished on 95000/122533 queries. users per second: 16300.5</pre>"
      ],
      "text/plain": [
       "recommendations finished on 95000/122533 queries. users per second: 16300.5"
      ]
     },
     "metadata": {},
     "output_type": "display_data"
    },
    {
     "data": {
      "text/html": [
       "<pre>recommendations finished on 96000/122533 queries. users per second: 16301.5</pre>"
      ],
      "text/plain": [
       "recommendations finished on 96000/122533 queries. users per second: 16301.5"
      ]
     },
     "metadata": {},
     "output_type": "display_data"
    },
    {
     "data": {
      "text/html": [
       "<pre>recommendations finished on 97000/122533 queries. users per second: 16302.8</pre>"
      ],
      "text/plain": [
       "recommendations finished on 97000/122533 queries. users per second: 16302.8"
      ]
     },
     "metadata": {},
     "output_type": "display_data"
    },
    {
     "data": {
      "text/html": [
       "<pre>recommendations finished on 98000/122533 queries. users per second: 16303.4</pre>"
      ],
      "text/plain": [
       "recommendations finished on 98000/122533 queries. users per second: 16303.4"
      ]
     },
     "metadata": {},
     "output_type": "display_data"
    },
    {
     "data": {
      "text/html": [
       "<pre>recommendations finished on 99000/122533 queries. users per second: 16304.2</pre>"
      ],
      "text/plain": [
       "recommendations finished on 99000/122533 queries. users per second: 16304.2"
      ]
     },
     "metadata": {},
     "output_type": "display_data"
    },
    {
     "data": {
      "text/html": [
       "<pre>recommendations finished on 100000/122533 queries. users per second: 16303.9</pre>"
      ],
      "text/plain": [
       "recommendations finished on 100000/122533 queries. users per second: 16303.9"
      ]
     },
     "metadata": {},
     "output_type": "display_data"
    },
    {
     "data": {
      "text/html": [
       "<pre>recommendations finished on 101000/122533 queries. users per second: 16304.7</pre>"
      ],
      "text/plain": [
       "recommendations finished on 101000/122533 queries. users per second: 16304.7"
      ]
     },
     "metadata": {},
     "output_type": "display_data"
    },
    {
     "data": {
      "text/html": [
       "<pre>recommendations finished on 102000/122533 queries. users per second: 16305.3</pre>"
      ],
      "text/plain": [
       "recommendations finished on 102000/122533 queries. users per second: 16305.3"
      ]
     },
     "metadata": {},
     "output_type": "display_data"
    },
    {
     "data": {
      "text/html": [
       "<pre>recommendations finished on 103000/122533 queries. users per second: 16306.3</pre>"
      ],
      "text/plain": [
       "recommendations finished on 103000/122533 queries. users per second: 16306.3"
      ]
     },
     "metadata": {},
     "output_type": "display_data"
    },
    {
     "data": {
      "text/html": [
       "<pre>recommendations finished on 104000/122533 queries. users per second: 16306.9</pre>"
      ],
      "text/plain": [
       "recommendations finished on 104000/122533 queries. users per second: 16306.9"
      ]
     },
     "metadata": {},
     "output_type": "display_data"
    },
    {
     "data": {
      "text/html": [
       "<pre>recommendations finished on 105000/122533 queries. users per second: 16305.2</pre>"
      ],
      "text/plain": [
       "recommendations finished on 105000/122533 queries. users per second: 16305.2"
      ]
     },
     "metadata": {},
     "output_type": "display_data"
    },
    {
     "data": {
      "text/html": [
       "<pre>recommendations finished on 106000/122533 queries. users per second: 16304.6</pre>"
      ],
      "text/plain": [
       "recommendations finished on 106000/122533 queries. users per second: 16304.6"
      ]
     },
     "metadata": {},
     "output_type": "display_data"
    },
    {
     "data": {
      "text/html": [
       "<pre>recommendations finished on 107000/122533 queries. users per second: 16302.6</pre>"
      ],
      "text/plain": [
       "recommendations finished on 107000/122533 queries. users per second: 16302.6"
      ]
     },
     "metadata": {},
     "output_type": "display_data"
    },
    {
     "data": {
      "text/html": [
       "<pre>recommendations finished on 108000/122533 queries. users per second: 16302.1</pre>"
      ],
      "text/plain": [
       "recommendations finished on 108000/122533 queries. users per second: 16302.1"
      ]
     },
     "metadata": {},
     "output_type": "display_data"
    },
    {
     "data": {
      "text/html": [
       "<pre>recommendations finished on 109000/122533 queries. users per second: 16303.1</pre>"
      ],
      "text/plain": [
       "recommendations finished on 109000/122533 queries. users per second: 16303.1"
      ]
     },
     "metadata": {},
     "output_type": "display_data"
    },
    {
     "data": {
      "text/html": [
       "<pre>recommendations finished on 110000/122533 queries. users per second: 16304.1</pre>"
      ],
      "text/plain": [
       "recommendations finished on 110000/122533 queries. users per second: 16304.1"
      ]
     },
     "metadata": {},
     "output_type": "display_data"
    },
    {
     "data": {
      "text/html": [
       "<pre>recommendations finished on 111000/122533 queries. users per second: 16304.1</pre>"
      ],
      "text/plain": [
       "recommendations finished on 111000/122533 queries. users per second: 16304.1"
      ]
     },
     "metadata": {},
     "output_type": "display_data"
    },
    {
     "data": {
      "text/html": [
       "<pre>recommendations finished on 112000/122533 queries. users per second: 16304.9</pre>"
      ],
      "text/plain": [
       "recommendations finished on 112000/122533 queries. users per second: 16304.9"
      ]
     },
     "metadata": {},
     "output_type": "display_data"
    },
    {
     "data": {
      "text/html": [
       "<pre>recommendations finished on 113000/122533 queries. users per second: 16305</pre>"
      ],
      "text/plain": [
       "recommendations finished on 113000/122533 queries. users per second: 16305"
      ]
     },
     "metadata": {},
     "output_type": "display_data"
    },
    {
     "data": {
      "text/html": [
       "<pre>recommendations finished on 114000/122533 queries. users per second: 16305.2</pre>"
      ],
      "text/plain": [
       "recommendations finished on 114000/122533 queries. users per second: 16305.2"
      ]
     },
     "metadata": {},
     "output_type": "display_data"
    },
    {
     "data": {
      "text/html": [
       "<pre>recommendations finished on 115000/122533 queries. users per second: 16305.6</pre>"
      ],
      "text/plain": [
       "recommendations finished on 115000/122533 queries. users per second: 16305.6"
      ]
     },
     "metadata": {},
     "output_type": "display_data"
    },
    {
     "data": {
      "text/html": [
       "<pre>recommendations finished on 116000/122533 queries. users per second: 16305.8</pre>"
      ],
      "text/plain": [
       "recommendations finished on 116000/122533 queries. users per second: 16305.8"
      ]
     },
     "metadata": {},
     "output_type": "display_data"
    },
    {
     "data": {
      "text/html": [
       "<pre>recommendations finished on 117000/122533 queries. users per second: 16306.1</pre>"
      ],
      "text/plain": [
       "recommendations finished on 117000/122533 queries. users per second: 16306.1"
      ]
     },
     "metadata": {},
     "output_type": "display_data"
    },
    {
     "data": {
      "text/html": [
       "<pre>recommendations finished on 118000/122533 queries. users per second: 16306.3</pre>"
      ],
      "text/plain": [
       "recommendations finished on 118000/122533 queries. users per second: 16306.3"
      ]
     },
     "metadata": {},
     "output_type": "display_data"
    },
    {
     "data": {
      "text/html": [
       "<pre>recommendations finished on 119000/122533 queries. users per second: 16306.4</pre>"
      ],
      "text/plain": [
       "recommendations finished on 119000/122533 queries. users per second: 16306.4"
      ]
     },
     "metadata": {},
     "output_type": "display_data"
    },
    {
     "data": {
      "text/html": [
       "<pre>recommendations finished on 120000/122533 queries. users per second: 16306.7</pre>"
      ],
      "text/plain": [
       "recommendations finished on 120000/122533 queries. users per second: 16306.7"
      ]
     },
     "metadata": {},
     "output_type": "display_data"
    },
    {
     "data": {
      "text/html": [
       "<pre>recommendations finished on 121000/122533 queries. users per second: 16306.2</pre>"
      ],
      "text/plain": [
       "recommendations finished on 121000/122533 queries. users per second: 16306.2"
      ]
     },
     "metadata": {},
     "output_type": "display_data"
    },
    {
     "data": {
      "text/html": [
       "<pre>recommendations finished on 122000/122533 queries. users per second: 16301.1</pre>"
      ],
      "text/plain": [
       "recommendations finished on 122000/122533 queries. users per second: 16301.1"
      ]
     },
     "metadata": {},
     "output_type": "display_data"
    },
    {
     "name": "stdout",
     "output_type": "stream",
     "text": [
      "+------------+-----------+----------------------+------+\n",
      "| customerId | productId |        score         | rank |\n",
      "+------------+-----------+----------------------+------+\n",
      "|     1      |   17440   | 0.09622504313786824  |  1   |\n",
      "|     1      |   43977   | 0.09622504313786824  |  2   |\n",
      "|     1      |    6034   | 0.04811253150304159  |  3   |\n",
      "|     1      |   15145   | 0.04811253150304159  |  4   |\n",
      "|     1      |    595    | 0.04303314288457235  |  5   |\n",
      "|     2      |   32738   | 0.047377943992614746 |  1   |\n",
      "|     2      |   55484   |  0.0370370348294576  |  2   |\n",
      "|     2      |    5678   |  0.0370370348294576  |  3   |\n",
      "|     2      |   22268   |  0.0370370348294576  |  4   |\n",
      "|     2      |   55744   |  0.0370370348294576  |  5   |\n",
      "|     3      |    9861   | 0.020689308643341064 |  1   |\n",
      "|     3      |    1825   | 0.02044650912284851  |  2   |\n",
      "|     3      |   42787   | 0.01811191439628601  |  3   |\n",
      "|     3      |   41231   | 0.01669451594352722  |  4   |\n",
      "|     3      |   56688   | 0.01669451594352722  |  5   |\n",
      "|     4      |   10277   | 0.08219948410987854  |  1   |\n",
      "|     4      |   58322   | 0.08219948410987854  |  2   |\n",
      "|     4      |   51223   | 0.08219948410987854  |  3   |\n",
      "|     4      |   27126   | 0.08219948410987854  |  4   |\n",
      "|     4      |   15330   | 0.08219948410987854  |  5   |\n",
      "|     5      |    5386   |  0.1666666567325592  |  1   |\n",
      "|     5      |   14798   | 0.09622505307197571  |  2   |\n",
      "|     5      |   45484   | 0.09622505307197571  |  3   |\n",
      "|     5      |   31795   |  0.0833333432674408  |  4   |\n",
      "|     5      |   15238   |  0.0833333432674408  |  5   |\n",
      "|     6      |    6808   | 0.052486387166109955 |  1   |\n",
      "|     6      |   33029   | 0.03711348230188543  |  2   |\n",
      "|     6      |   58456   | 0.03711348230188543  |  3   |\n",
      "|     6      |   56403   | 0.034977604042400016 |  4   |\n",
      "|     6      |   50717   | 0.03214121948588978  |  5   |\n",
      "+------------+-----------+----------------------+------+\n",
      "[612665 rows x 4 columns]\n",
      "\n"
     ]
    }
   ],
   "source": [
    "# Cosine\n",
    "name = 'cosine'\n",
    "target = 'purchase_dummy'\n",
    "#target = 'purchase_count'\n",
    "cos_dummy = model(train_data_dummy, name, user_id, item_id, target, users_to_recommend, n_rec, n_display)"
   ]
  },
  {
   "cell_type": "code",
   "execution_count": 187,
   "metadata": {},
   "outputs": [
    {
     "data": {
      "text/html": [
       "<pre>Warning: Ignoring columns purchase_count;</pre>"
      ],
      "text/plain": [
       "Warning: Ignoring columns purchase_count;"
      ]
     },
     "metadata": {},
     "output_type": "display_data"
    },
    {
     "data": {
      "text/html": [
       "<pre>    To use these columns in scoring predictions, use a model that allows the use of additional features.</pre>"
      ],
      "text/plain": [
       "    To use these columns in scoring predictions, use a model that allows the use of additional features."
      ]
     },
     "metadata": {},
     "output_type": "display_data"
    },
    {
     "data": {
      "text/html": [
       "<pre>Preparing data set.</pre>"
      ],
      "text/plain": [
       "Preparing data set."
      ]
     },
     "metadata": {},
     "output_type": "display_data"
    },
    {
     "data": {
      "text/html": [
       "<pre>    Data has 396007 observations with 117786 users and 52052 items.</pre>"
      ],
      "text/plain": [
       "    Data has 396007 observations with 117786 users and 52052 items."
      ]
     },
     "metadata": {},
     "output_type": "display_data"
    },
    {
     "data": {
      "text/html": [
       "<pre>    Data prepared in: 0.179484s</pre>"
      ],
      "text/plain": [
       "    Data prepared in: 0.179484s"
      ]
     },
     "metadata": {},
     "output_type": "display_data"
    },
    {
     "data": {
      "text/html": [
       "<pre>Training model from provided data.</pre>"
      ],
      "text/plain": [
       "Training model from provided data."
      ]
     },
     "metadata": {},
     "output_type": "display_data"
    },
    {
     "data": {
      "text/html": [
       "<pre>Gathering per-item and per-user statistics.</pre>"
      ],
      "text/plain": [
       "Gathering per-item and per-user statistics."
      ]
     },
     "metadata": {},
     "output_type": "display_data"
    },
    {
     "data": {
      "text/html": [
       "<pre>+--------------------------------+------------+</pre>"
      ],
      "text/plain": [
       "+--------------------------------+------------+"
      ]
     },
     "metadata": {},
     "output_type": "display_data"
    },
    {
     "data": {
      "text/html": [
       "<pre>| Elapsed Time (Item Statistics) | % Complete |</pre>"
      ],
      "text/plain": [
       "| Elapsed Time (Item Statistics) | % Complete |"
      ]
     },
     "metadata": {},
     "output_type": "display_data"
    },
    {
     "data": {
      "text/html": [
       "<pre>+--------------------------------+------------+</pre>"
      ],
      "text/plain": [
       "+--------------------------------+------------+"
      ]
     },
     "metadata": {},
     "output_type": "display_data"
    },
    {
     "data": {
      "text/html": [
       "<pre>| 753us                          | 0.75       |</pre>"
      ],
      "text/plain": [
       "| 753us                          | 0.75       |"
      ]
     },
     "metadata": {},
     "output_type": "display_data"
    },
    {
     "data": {
      "text/html": [
       "<pre>| 17.89ms                        | 100        |</pre>"
      ],
      "text/plain": [
       "| 17.89ms                        | 100        |"
      ]
     },
     "metadata": {},
     "output_type": "display_data"
    },
    {
     "data": {
      "text/html": [
       "<pre>+--------------------------------+------------+</pre>"
      ],
      "text/plain": [
       "+--------------------------------+------------+"
      ]
     },
     "metadata": {},
     "output_type": "display_data"
    },
    {
     "data": {
      "text/html": [
       "<pre>Setting up lookup tables.</pre>"
      ],
      "text/plain": [
       "Setting up lookup tables."
      ]
     },
     "metadata": {},
     "output_type": "display_data"
    },
    {
     "data": {
      "text/html": [
       "<pre>Processing data in 2 passes using dense lookup tables.</pre>"
      ],
      "text/plain": [
       "Processing data in 2 passes using dense lookup tables."
      ]
     },
     "metadata": {},
     "output_type": "display_data"
    },
    {
     "data": {
      "text/html": [
       "<pre>+-------------------------------------+------------------+-----------------+</pre>"
      ],
      "text/plain": [
       "+-------------------------------------+------------------+-----------------+"
      ]
     },
     "metadata": {},
     "output_type": "display_data"
    },
    {
     "data": {
      "text/html": [
       "<pre>| Elapsed Time (Constructing Lookups) | Total % Complete | Items Processed |</pre>"
      ],
      "text/plain": [
       "| Elapsed Time (Constructing Lookups) | Total % Complete | Items Processed |"
      ]
     },
     "metadata": {},
     "output_type": "display_data"
    },
    {
     "data": {
      "text/html": [
       "<pre>+-------------------------------------+------------------+-----------------+</pre>"
      ],
      "text/plain": [
       "+-------------------------------------+------------------+-----------------+"
      ]
     },
     "metadata": {},
     "output_type": "display_data"
    },
    {
     "data": {
      "text/html": [
       "<pre>| 4.72s                               | 0                | 0               |</pre>"
      ],
      "text/plain": [
       "| 4.72s                               | 0                | 0               |"
      ]
     },
     "metadata": {},
     "output_type": "display_data"
    },
    {
     "data": {
      "text/html": [
       "<pre>| 8.50s                               | 49.75            | 26025           |</pre>"
      ],
      "text/plain": [
       "| 8.50s                               | 49.75            | 26025           |"
      ]
     },
     "metadata": {},
     "output_type": "display_data"
    },
    {
     "data": {
      "text/html": [
       "<pre>| 9.38s                               | 100              | 52052           |</pre>"
      ],
      "text/plain": [
       "| 9.38s                               | 100              | 52052           |"
      ]
     },
     "metadata": {},
     "output_type": "display_data"
    },
    {
     "data": {
      "text/html": [
       "<pre>+-------------------------------------+------------------+-----------------+</pre>"
      ],
      "text/plain": [
       "+-------------------------------------+------------------+-----------------+"
      ]
     },
     "metadata": {},
     "output_type": "display_data"
    },
    {
     "data": {
      "text/html": [
       "<pre>Finalizing lookup tables.</pre>"
      ],
      "text/plain": [
       "Finalizing lookup tables."
      ]
     },
     "metadata": {},
     "output_type": "display_data"
    },
    {
     "data": {
      "text/html": [
       "<pre>Generating candidate set for working with new users.</pre>"
      ],
      "text/plain": [
       "Generating candidate set for working with new users."
      ]
     },
     "metadata": {},
     "output_type": "display_data"
    },
    {
     "data": {
      "text/html": [
       "<pre>Finished training in 9.40656s</pre>"
      ],
      "text/plain": [
       "Finished training in 9.40656s"
      ]
     },
     "metadata": {},
     "output_type": "display_data"
    },
    {
     "data": {
      "text/html": [
       "<pre>recommendations finished on 1000/122533 queries. users per second: 10038.3</pre>"
      ],
      "text/plain": [
       "recommendations finished on 1000/122533 queries. users per second: 10038.3"
      ]
     },
     "metadata": {},
     "output_type": "display_data"
    },
    {
     "data": {
      "text/html": [
       "<pre>recommendations finished on 2000/122533 queries. users per second: 10240.1</pre>"
      ],
      "text/plain": [
       "recommendations finished on 2000/122533 queries. users per second: 10240.1"
      ]
     },
     "metadata": {},
     "output_type": "display_data"
    },
    {
     "data": {
      "text/html": [
       "<pre>recommendations finished on 3000/122533 queries. users per second: 10333.7</pre>"
      ],
      "text/plain": [
       "recommendations finished on 3000/122533 queries. users per second: 10333.7"
      ]
     },
     "metadata": {},
     "output_type": "display_data"
    },
    {
     "data": {
      "text/html": [
       "<pre>recommendations finished on 4000/122533 queries. users per second: 10200.6</pre>"
      ],
      "text/plain": [
       "recommendations finished on 4000/122533 queries. users per second: 10200.6"
      ]
     },
     "metadata": {},
     "output_type": "display_data"
    },
    {
     "data": {
      "text/html": [
       "<pre>recommendations finished on 5000/122533 queries. users per second: 10133.7</pre>"
      ],
      "text/plain": [
       "recommendations finished on 5000/122533 queries. users per second: 10133.7"
      ]
     },
     "metadata": {},
     "output_type": "display_data"
    },
    {
     "data": {
      "text/html": [
       "<pre>recommendations finished on 6000/122533 queries. users per second: 9983.36</pre>"
      ],
      "text/plain": [
       "recommendations finished on 6000/122533 queries. users per second: 9983.36"
      ]
     },
     "metadata": {},
     "output_type": "display_data"
    },
    {
     "data": {
      "text/html": [
       "<pre>recommendations finished on 7000/122533 queries. users per second: 9864.96</pre>"
      ],
      "text/plain": [
       "recommendations finished on 7000/122533 queries. users per second: 9864.96"
      ]
     },
     "metadata": {},
     "output_type": "display_data"
    },
    {
     "data": {
      "text/html": [
       "<pre>recommendations finished on 8000/122533 queries. users per second: 9849.9</pre>"
      ],
      "text/plain": [
       "recommendations finished on 8000/122533 queries. users per second: 9849.9"
      ]
     },
     "metadata": {},
     "output_type": "display_data"
    },
    {
     "data": {
      "text/html": [
       "<pre>recommendations finished on 9000/122533 queries. users per second: 9860.2</pre>"
      ],
      "text/plain": [
       "recommendations finished on 9000/122533 queries. users per second: 9860.2"
      ]
     },
     "metadata": {},
     "output_type": "display_data"
    },
    {
     "data": {
      "text/html": [
       "<pre>recommendations finished on 10000/122533 queries. users per second: 9861.83</pre>"
      ],
      "text/plain": [
       "recommendations finished on 10000/122533 queries. users per second: 9861.83"
      ]
     },
     "metadata": {},
     "output_type": "display_data"
    },
    {
     "data": {
      "text/html": [
       "<pre>recommendations finished on 11000/122533 queries. users per second: 9822.02</pre>"
      ],
      "text/plain": [
       "recommendations finished on 11000/122533 queries. users per second: 9822.02"
      ]
     },
     "metadata": {},
     "output_type": "display_data"
    },
    {
     "data": {
      "text/html": [
       "<pre>recommendations finished on 12000/122533 queries. users per second: 9872.98</pre>"
      ],
      "text/plain": [
       "recommendations finished on 12000/122533 queries. users per second: 9872.98"
      ]
     },
     "metadata": {},
     "output_type": "display_data"
    },
    {
     "data": {
      "text/html": [
       "<pre>recommendations finished on 13000/122533 queries. users per second: 9914.21</pre>"
      ],
      "text/plain": [
       "recommendations finished on 13000/122533 queries. users per second: 9914.21"
      ]
     },
     "metadata": {},
     "output_type": "display_data"
    },
    {
     "data": {
      "text/html": [
       "<pre>recommendations finished on 14000/122533 queries. users per second: 9953.86</pre>"
      ],
      "text/plain": [
       "recommendations finished on 14000/122533 queries. users per second: 9953.86"
      ]
     },
     "metadata": {},
     "output_type": "display_data"
    },
    {
     "data": {
      "text/html": [
       "<pre>recommendations finished on 15000/122533 queries. users per second: 9989.82</pre>"
      ],
      "text/plain": [
       "recommendations finished on 15000/122533 queries. users per second: 9989.82"
      ]
     },
     "metadata": {},
     "output_type": "display_data"
    },
    {
     "data": {
      "text/html": [
       "<pre>recommendations finished on 16000/122533 queries. users per second: 10021.2</pre>"
      ],
      "text/plain": [
       "recommendations finished on 16000/122533 queries. users per second: 10021.2"
      ]
     },
     "metadata": {},
     "output_type": "display_data"
    },
    {
     "data": {
      "text/html": [
       "<pre>recommendations finished on 17000/122533 queries. users per second: 10048.6</pre>"
      ],
      "text/plain": [
       "recommendations finished on 17000/122533 queries. users per second: 10048.6"
      ]
     },
     "metadata": {},
     "output_type": "display_data"
    },
    {
     "data": {
      "text/html": [
       "<pre>recommendations finished on 18000/122533 queries. users per second: 10077.2</pre>"
      ],
      "text/plain": [
       "recommendations finished on 18000/122533 queries. users per second: 10077.2"
      ]
     },
     "metadata": {},
     "output_type": "display_data"
    },
    {
     "data": {
      "text/html": [
       "<pre>recommendations finished on 19000/122533 queries. users per second: 10103.7</pre>"
      ],
      "text/plain": [
       "recommendations finished on 19000/122533 queries. users per second: 10103.7"
      ]
     },
     "metadata": {},
     "output_type": "display_data"
    },
    {
     "data": {
      "text/html": [
       "<pre>recommendations finished on 20000/122533 queries. users per second: 10124.7</pre>"
      ],
      "text/plain": [
       "recommendations finished on 20000/122533 queries. users per second: 10124.7"
      ]
     },
     "metadata": {},
     "output_type": "display_data"
    },
    {
     "data": {
      "text/html": [
       "<pre>recommendations finished on 21000/122533 queries. users per second: 10142.3</pre>"
      ],
      "text/plain": [
       "recommendations finished on 21000/122533 queries. users per second: 10142.3"
      ]
     },
     "metadata": {},
     "output_type": "display_data"
    },
    {
     "data": {
      "text/html": [
       "<pre>recommendations finished on 22000/122533 queries. users per second: 10157.6</pre>"
      ],
      "text/plain": [
       "recommendations finished on 22000/122533 queries. users per second: 10157.6"
      ]
     },
     "metadata": {},
     "output_type": "display_data"
    },
    {
     "data": {
      "text/html": [
       "<pre>recommendations finished on 23000/122533 queries. users per second: 10173.3</pre>"
      ],
      "text/plain": [
       "recommendations finished on 23000/122533 queries. users per second: 10173.3"
      ]
     },
     "metadata": {},
     "output_type": "display_data"
    },
    {
     "data": {
      "text/html": [
       "<pre>recommendations finished on 24000/122533 queries. users per second: 10187.9</pre>"
      ],
      "text/plain": [
       "recommendations finished on 24000/122533 queries. users per second: 10187.9"
      ]
     },
     "metadata": {},
     "output_type": "display_data"
    },
    {
     "data": {
      "text/html": [
       "<pre>recommendations finished on 25000/122533 queries. users per second: 10201.2</pre>"
      ],
      "text/plain": [
       "recommendations finished on 25000/122533 queries. users per second: 10201.2"
      ]
     },
     "metadata": {},
     "output_type": "display_data"
    },
    {
     "data": {
      "text/html": [
       "<pre>recommendations finished on 26000/122533 queries. users per second: 10212.9</pre>"
      ],
      "text/plain": [
       "recommendations finished on 26000/122533 queries. users per second: 10212.9"
      ]
     },
     "metadata": {},
     "output_type": "display_data"
    },
    {
     "data": {
      "text/html": [
       "<pre>recommendations finished on 27000/122533 queries. users per second: 10223.3</pre>"
      ],
      "text/plain": [
       "recommendations finished on 27000/122533 queries. users per second: 10223.3"
      ]
     },
     "metadata": {},
     "output_type": "display_data"
    },
    {
     "data": {
      "text/html": [
       "<pre>recommendations finished on 28000/122533 queries. users per second: 10233.5</pre>"
      ],
      "text/plain": [
       "recommendations finished on 28000/122533 queries. users per second: 10233.5"
      ]
     },
     "metadata": {},
     "output_type": "display_data"
    },
    {
     "data": {
      "text/html": [
       "<pre>recommendations finished on 29000/122533 queries. users per second: 10243.8</pre>"
      ],
      "text/plain": [
       "recommendations finished on 29000/122533 queries. users per second: 10243.8"
      ]
     },
     "metadata": {},
     "output_type": "display_data"
    },
    {
     "data": {
      "text/html": [
       "<pre>recommendations finished on 30000/122533 queries. users per second: 10253.1</pre>"
      ],
      "text/plain": [
       "recommendations finished on 30000/122533 queries. users per second: 10253.1"
      ]
     },
     "metadata": {},
     "output_type": "display_data"
    },
    {
     "data": {
      "text/html": [
       "<pre>recommendations finished on 31000/122533 queries. users per second: 10262.1</pre>"
      ],
      "text/plain": [
       "recommendations finished on 31000/122533 queries. users per second: 10262.1"
      ]
     },
     "metadata": {},
     "output_type": "display_data"
    },
    {
     "data": {
      "text/html": [
       "<pre>recommendations finished on 32000/122533 queries. users per second: 10269.6</pre>"
      ],
      "text/plain": [
       "recommendations finished on 32000/122533 queries. users per second: 10269.6"
      ]
     },
     "metadata": {},
     "output_type": "display_data"
    },
    {
     "data": {
      "text/html": [
       "<pre>recommendations finished on 33000/122533 queries. users per second: 10277.3</pre>"
      ],
      "text/plain": [
       "recommendations finished on 33000/122533 queries. users per second: 10277.3"
      ]
     },
     "metadata": {},
     "output_type": "display_data"
    },
    {
     "data": {
      "text/html": [
       "<pre>recommendations finished on 34000/122533 queries. users per second: 10255.3</pre>"
      ],
      "text/plain": [
       "recommendations finished on 34000/122533 queries. users per second: 10255.3"
      ]
     },
     "metadata": {},
     "output_type": "display_data"
    },
    {
     "data": {
      "text/html": [
       "<pre>recommendations finished on 35000/122533 queries. users per second: 10245.2</pre>"
      ],
      "text/plain": [
       "recommendations finished on 35000/122533 queries. users per second: 10245.2"
      ]
     },
     "metadata": {},
     "output_type": "display_data"
    },
    {
     "data": {
      "text/html": [
       "<pre>recommendations finished on 36000/122533 queries. users per second: 10243.9</pre>"
      ],
      "text/plain": [
       "recommendations finished on 36000/122533 queries. users per second: 10243.9"
      ]
     },
     "metadata": {},
     "output_type": "display_data"
    },
    {
     "data": {
      "text/html": [
       "<pre>recommendations finished on 37000/122533 queries. users per second: 10248</pre>"
      ],
      "text/plain": [
       "recommendations finished on 37000/122533 queries. users per second: 10248"
      ]
     },
     "metadata": {},
     "output_type": "display_data"
    },
    {
     "data": {
      "text/html": [
       "<pre>recommendations finished on 38000/122533 queries. users per second: 10254.6</pre>"
      ],
      "text/plain": [
       "recommendations finished on 38000/122533 queries. users per second: 10254.6"
      ]
     },
     "metadata": {},
     "output_type": "display_data"
    },
    {
     "data": {
      "text/html": [
       "<pre>recommendations finished on 39000/122533 queries. users per second: 10257</pre>"
      ],
      "text/plain": [
       "recommendations finished on 39000/122533 queries. users per second: 10257"
      ]
     },
     "metadata": {},
     "output_type": "display_data"
    },
    {
     "data": {
      "text/html": [
       "<pre>recommendations finished on 40000/122533 queries. users per second: 10263.7</pre>"
      ],
      "text/plain": [
       "recommendations finished on 40000/122533 queries. users per second: 10263.7"
      ]
     },
     "metadata": {},
     "output_type": "display_data"
    },
    {
     "data": {
      "text/html": [
       "<pre>recommendations finished on 41000/122533 queries. users per second: 10269.2</pre>"
      ],
      "text/plain": [
       "recommendations finished on 41000/122533 queries. users per second: 10269.2"
      ]
     },
     "metadata": {},
     "output_type": "display_data"
    },
    {
     "data": {
      "text/html": [
       "<pre>recommendations finished on 42000/122533 queries. users per second: 10272.3</pre>"
      ],
      "text/plain": [
       "recommendations finished on 42000/122533 queries. users per second: 10272.3"
      ]
     },
     "metadata": {},
     "output_type": "display_data"
    },
    {
     "data": {
      "text/html": [
       "<pre>recommendations finished on 43000/122533 queries. users per second: 10276</pre>"
      ],
      "text/plain": [
       "recommendations finished on 43000/122533 queries. users per second: 10276"
      ]
     },
     "metadata": {},
     "output_type": "display_data"
    },
    {
     "data": {
      "text/html": [
       "<pre>recommendations finished on 44000/122533 queries. users per second: 10282</pre>"
      ],
      "text/plain": [
       "recommendations finished on 44000/122533 queries. users per second: 10282"
      ]
     },
     "metadata": {},
     "output_type": "display_data"
    },
    {
     "data": {
      "text/html": [
       "<pre>recommendations finished on 45000/122533 queries. users per second: 10287.8</pre>"
      ],
      "text/plain": [
       "recommendations finished on 45000/122533 queries. users per second: 10287.8"
      ]
     },
     "metadata": {},
     "output_type": "display_data"
    },
    {
     "data": {
      "text/html": [
       "<pre>recommendations finished on 46000/122533 queries. users per second: 10293</pre>"
      ],
      "text/plain": [
       "recommendations finished on 46000/122533 queries. users per second: 10293"
      ]
     },
     "metadata": {},
     "output_type": "display_data"
    },
    {
     "data": {
      "text/html": [
       "<pre>recommendations finished on 47000/122533 queries. users per second: 10298.4</pre>"
      ],
      "text/plain": [
       "recommendations finished on 47000/122533 queries. users per second: 10298.4"
      ]
     },
     "metadata": {},
     "output_type": "display_data"
    },
    {
     "data": {
      "text/html": [
       "<pre>recommendations finished on 48000/122533 queries. users per second: 10302.1</pre>"
      ],
      "text/plain": [
       "recommendations finished on 48000/122533 queries. users per second: 10302.1"
      ]
     },
     "metadata": {},
     "output_type": "display_data"
    },
    {
     "data": {
      "text/html": [
       "<pre>recommendations finished on 49000/122533 queries. users per second: 10307</pre>"
      ],
      "text/plain": [
       "recommendations finished on 49000/122533 queries. users per second: 10307"
      ]
     },
     "metadata": {},
     "output_type": "display_data"
    },
    {
     "data": {
      "text/html": [
       "<pre>recommendations finished on 50000/122533 queries. users per second: 10311.3</pre>"
      ],
      "text/plain": [
       "recommendations finished on 50000/122533 queries. users per second: 10311.3"
      ]
     },
     "metadata": {},
     "output_type": "display_data"
    },
    {
     "data": {
      "text/html": [
       "<pre>recommendations finished on 51000/122533 queries. users per second: 10316.5</pre>"
      ],
      "text/plain": [
       "recommendations finished on 51000/122533 queries. users per second: 10316.5"
      ]
     },
     "metadata": {},
     "output_type": "display_data"
    },
    {
     "data": {
      "text/html": [
       "<pre>recommendations finished on 52000/122533 queries. users per second: 10319.4</pre>"
      ],
      "text/plain": [
       "recommendations finished on 52000/122533 queries. users per second: 10319.4"
      ]
     },
     "metadata": {},
     "output_type": "display_data"
    },
    {
     "data": {
      "text/html": [
       "<pre>recommendations finished on 53000/122533 queries. users per second: 10323.2</pre>"
      ],
      "text/plain": [
       "recommendations finished on 53000/122533 queries. users per second: 10323.2"
      ]
     },
     "metadata": {},
     "output_type": "display_data"
    },
    {
     "data": {
      "text/html": [
       "<pre>recommendations finished on 54000/122533 queries. users per second: 10322.9</pre>"
      ],
      "text/plain": [
       "recommendations finished on 54000/122533 queries. users per second: 10322.9"
      ]
     },
     "metadata": {},
     "output_type": "display_data"
    },
    {
     "data": {
      "text/html": [
       "<pre>recommendations finished on 55000/122533 queries. users per second: 10326.3</pre>"
      ],
      "text/plain": [
       "recommendations finished on 55000/122533 queries. users per second: 10326.3"
      ]
     },
     "metadata": {},
     "output_type": "display_data"
    },
    {
     "data": {
      "text/html": [
       "<pre>recommendations finished on 56000/122533 queries. users per second: 10329.1</pre>"
      ],
      "text/plain": [
       "recommendations finished on 56000/122533 queries. users per second: 10329.1"
      ]
     },
     "metadata": {},
     "output_type": "display_data"
    },
    {
     "data": {
      "text/html": [
       "<pre>recommendations finished on 57000/122533 queries. users per second: 10332.3</pre>"
      ],
      "text/plain": [
       "recommendations finished on 57000/122533 queries. users per second: 10332.3"
      ]
     },
     "metadata": {},
     "output_type": "display_data"
    },
    {
     "data": {
      "text/html": [
       "<pre>recommendations finished on 58000/122533 queries. users per second: 10336.4</pre>"
      ],
      "text/plain": [
       "recommendations finished on 58000/122533 queries. users per second: 10336.4"
      ]
     },
     "metadata": {},
     "output_type": "display_data"
    },
    {
     "data": {
      "text/html": [
       "<pre>recommendations finished on 59000/122533 queries. users per second: 10340.2</pre>"
      ],
      "text/plain": [
       "recommendations finished on 59000/122533 queries. users per second: 10340.2"
      ]
     },
     "metadata": {},
     "output_type": "display_data"
    },
    {
     "data": {
      "text/html": [
       "<pre>recommendations finished on 60000/122533 queries. users per second: 10344.1</pre>"
      ],
      "text/plain": [
       "recommendations finished on 60000/122533 queries. users per second: 10344.1"
      ]
     },
     "metadata": {},
     "output_type": "display_data"
    },
    {
     "data": {
      "text/html": [
       "<pre>recommendations finished on 61000/122533 queries. users per second: 10347.3</pre>"
      ],
      "text/plain": [
       "recommendations finished on 61000/122533 queries. users per second: 10347.3"
      ]
     },
     "metadata": {},
     "output_type": "display_data"
    },
    {
     "data": {
      "text/html": [
       "<pre>recommendations finished on 62000/122533 queries. users per second: 10351</pre>"
      ],
      "text/plain": [
       "recommendations finished on 62000/122533 queries. users per second: 10351"
      ]
     },
     "metadata": {},
     "output_type": "display_data"
    },
    {
     "data": {
      "text/html": [
       "<pre>recommendations finished on 63000/122533 queries. users per second: 10354.4</pre>"
      ],
      "text/plain": [
       "recommendations finished on 63000/122533 queries. users per second: 10354.4"
      ]
     },
     "metadata": {},
     "output_type": "display_data"
    },
    {
     "data": {
      "text/html": [
       "<pre>recommendations finished on 64000/122533 queries. users per second: 10356.8</pre>"
      ],
      "text/plain": [
       "recommendations finished on 64000/122533 queries. users per second: 10356.8"
      ]
     },
     "metadata": {},
     "output_type": "display_data"
    },
    {
     "data": {
      "text/html": [
       "<pre>recommendations finished on 65000/122533 queries. users per second: 10359.3</pre>"
      ],
      "text/plain": [
       "recommendations finished on 65000/122533 queries. users per second: 10359.3"
      ]
     },
     "metadata": {},
     "output_type": "display_data"
    },
    {
     "data": {
      "text/html": [
       "<pre>recommendations finished on 66000/122533 queries. users per second: 10361.5</pre>"
      ],
      "text/plain": [
       "recommendations finished on 66000/122533 queries. users per second: 10361.5"
      ]
     },
     "metadata": {},
     "output_type": "display_data"
    },
    {
     "data": {
      "text/html": [
       "<pre>recommendations finished on 67000/122533 queries. users per second: 10364.1</pre>"
      ],
      "text/plain": [
       "recommendations finished on 67000/122533 queries. users per second: 10364.1"
      ]
     },
     "metadata": {},
     "output_type": "display_data"
    },
    {
     "data": {
      "text/html": [
       "<pre>recommendations finished on 68000/122533 queries. users per second: 10367.1</pre>"
      ],
      "text/plain": [
       "recommendations finished on 68000/122533 queries. users per second: 10367.1"
      ]
     },
     "metadata": {},
     "output_type": "display_data"
    },
    {
     "data": {
      "text/html": [
       "<pre>recommendations finished on 69000/122533 queries. users per second: 10369.6</pre>"
      ],
      "text/plain": [
       "recommendations finished on 69000/122533 queries. users per second: 10369.6"
      ]
     },
     "metadata": {},
     "output_type": "display_data"
    },
    {
     "data": {
      "text/html": [
       "<pre>recommendations finished on 70000/122533 queries. users per second: 10371.8</pre>"
      ],
      "text/plain": [
       "recommendations finished on 70000/122533 queries. users per second: 10371.8"
      ]
     },
     "metadata": {},
     "output_type": "display_data"
    },
    {
     "data": {
      "text/html": [
       "<pre>recommendations finished on 71000/122533 queries. users per second: 10373.9</pre>"
      ],
      "text/plain": [
       "recommendations finished on 71000/122533 queries. users per second: 10373.9"
      ]
     },
     "metadata": {},
     "output_type": "display_data"
    },
    {
     "data": {
      "text/html": [
       "<pre>recommendations finished on 72000/122533 queries. users per second: 10376</pre>"
      ],
      "text/plain": [
       "recommendations finished on 72000/122533 queries. users per second: 10376"
      ]
     },
     "metadata": {},
     "output_type": "display_data"
    },
    {
     "data": {
      "text/html": [
       "<pre>recommendations finished on 73000/122533 queries. users per second: 10378.1</pre>"
      ],
      "text/plain": [
       "recommendations finished on 73000/122533 queries. users per second: 10378.1"
      ]
     },
     "metadata": {},
     "output_type": "display_data"
    },
    {
     "data": {
      "text/html": [
       "<pre>recommendations finished on 74000/122533 queries. users per second: 10380.2</pre>"
      ],
      "text/plain": [
       "recommendations finished on 74000/122533 queries. users per second: 10380.2"
      ]
     },
     "metadata": {},
     "output_type": "display_data"
    },
    {
     "data": {
      "text/html": [
       "<pre>recommendations finished on 75000/122533 queries. users per second: 10382.4</pre>"
      ],
      "text/plain": [
       "recommendations finished on 75000/122533 queries. users per second: 10382.4"
      ]
     },
     "metadata": {},
     "output_type": "display_data"
    },
    {
     "data": {
      "text/html": [
       "<pre>recommendations finished on 76000/122533 queries. users per second: 10384.4</pre>"
      ],
      "text/plain": [
       "recommendations finished on 76000/122533 queries. users per second: 10384.4"
      ]
     },
     "metadata": {},
     "output_type": "display_data"
    },
    {
     "data": {
      "text/html": [
       "<pre>recommendations finished on 77000/122533 queries. users per second: 10385.4</pre>"
      ],
      "text/plain": [
       "recommendations finished on 77000/122533 queries. users per second: 10385.4"
      ]
     },
     "metadata": {},
     "output_type": "display_data"
    },
    {
     "data": {
      "text/html": [
       "<pre>recommendations finished on 78000/122533 queries. users per second: 10387.1</pre>"
      ],
      "text/plain": [
       "recommendations finished on 78000/122533 queries. users per second: 10387.1"
      ]
     },
     "metadata": {},
     "output_type": "display_data"
    },
    {
     "data": {
      "text/html": [
       "<pre>recommendations finished on 79000/122533 queries. users per second: 10388.7</pre>"
      ],
      "text/plain": [
       "recommendations finished on 79000/122533 queries. users per second: 10388.7"
      ]
     },
     "metadata": {},
     "output_type": "display_data"
    },
    {
     "data": {
      "text/html": [
       "<pre>recommendations finished on 80000/122533 queries. users per second: 10390.6</pre>"
      ],
      "text/plain": [
       "recommendations finished on 80000/122533 queries. users per second: 10390.6"
      ]
     },
     "metadata": {},
     "output_type": "display_data"
    },
    {
     "data": {
      "text/html": [
       "<pre>recommendations finished on 81000/122533 queries. users per second: 10392.6</pre>"
      ],
      "text/plain": [
       "recommendations finished on 81000/122533 queries. users per second: 10392.6"
      ]
     },
     "metadata": {},
     "output_type": "display_data"
    },
    {
     "data": {
      "text/html": [
       "<pre>recommendations finished on 82000/122533 queries. users per second: 10394.7</pre>"
      ],
      "text/plain": [
       "recommendations finished on 82000/122533 queries. users per second: 10394.7"
      ]
     },
     "metadata": {},
     "output_type": "display_data"
    },
    {
     "data": {
      "text/html": [
       "<pre>recommendations finished on 83000/122533 queries. users per second: 10396.4</pre>"
      ],
      "text/plain": [
       "recommendations finished on 83000/122533 queries. users per second: 10396.4"
      ]
     },
     "metadata": {},
     "output_type": "display_data"
    },
    {
     "data": {
      "text/html": [
       "<pre>recommendations finished on 84000/122533 queries. users per second: 10398.7</pre>"
      ],
      "text/plain": [
       "recommendations finished on 84000/122533 queries. users per second: 10398.7"
      ]
     },
     "metadata": {},
     "output_type": "display_data"
    },
    {
     "data": {
      "text/html": [
       "<pre>recommendations finished on 85000/122533 queries. users per second: 10400.2</pre>"
      ],
      "text/plain": [
       "recommendations finished on 85000/122533 queries. users per second: 10400.2"
      ]
     },
     "metadata": {},
     "output_type": "display_data"
    },
    {
     "data": {
      "text/html": [
       "<pre>recommendations finished on 86000/122533 queries. users per second: 10401.3</pre>"
      ],
      "text/plain": [
       "recommendations finished on 86000/122533 queries. users per second: 10401.3"
      ]
     },
     "metadata": {},
     "output_type": "display_data"
    },
    {
     "data": {
      "text/html": [
       "<pre>recommendations finished on 87000/122533 queries. users per second: 10402.9</pre>"
      ],
      "text/plain": [
       "recommendations finished on 87000/122533 queries. users per second: 10402.9"
      ]
     },
     "metadata": {},
     "output_type": "display_data"
    },
    {
     "data": {
      "text/html": [
       "<pre>recommendations finished on 88000/122533 queries. users per second: 10403.5</pre>"
      ],
      "text/plain": [
       "recommendations finished on 88000/122533 queries. users per second: 10403.5"
      ]
     },
     "metadata": {},
     "output_type": "display_data"
    },
    {
     "data": {
      "text/html": [
       "<pre>recommendations finished on 89000/122533 queries. users per second: 10404.9</pre>"
      ],
      "text/plain": [
       "recommendations finished on 89000/122533 queries. users per second: 10404.9"
      ]
     },
     "metadata": {},
     "output_type": "display_data"
    },
    {
     "data": {
      "text/html": [
       "<pre>recommendations finished on 90000/122533 queries. users per second: 10406.6</pre>"
      ],
      "text/plain": [
       "recommendations finished on 90000/122533 queries. users per second: 10406.6"
      ]
     },
     "metadata": {},
     "output_type": "display_data"
    },
    {
     "data": {
      "text/html": [
       "<pre>recommendations finished on 91000/122533 queries. users per second: 10408.5</pre>"
      ],
      "text/plain": [
       "recommendations finished on 91000/122533 queries. users per second: 10408.5"
      ]
     },
     "metadata": {},
     "output_type": "display_data"
    },
    {
     "data": {
      "text/html": [
       "<pre>recommendations finished on 92000/122533 queries. users per second: 10410.3</pre>"
      ],
      "text/plain": [
       "recommendations finished on 92000/122533 queries. users per second: 10410.3"
      ]
     },
     "metadata": {},
     "output_type": "display_data"
    },
    {
     "data": {
      "text/html": [
       "<pre>recommendations finished on 93000/122533 queries. users per second: 10411.9</pre>"
      ],
      "text/plain": [
       "recommendations finished on 93000/122533 queries. users per second: 10411.9"
      ]
     },
     "metadata": {},
     "output_type": "display_data"
    },
    {
     "data": {
      "text/html": [
       "<pre>recommendations finished on 94000/122533 queries. users per second: 10413.8</pre>"
      ],
      "text/plain": [
       "recommendations finished on 94000/122533 queries. users per second: 10413.8"
      ]
     },
     "metadata": {},
     "output_type": "display_data"
    },
    {
     "data": {
      "text/html": [
       "<pre>recommendations finished on 95000/122533 queries. users per second: 10415.4</pre>"
      ],
      "text/plain": [
       "recommendations finished on 95000/122533 queries. users per second: 10415.4"
      ]
     },
     "metadata": {},
     "output_type": "display_data"
    },
    {
     "data": {
      "text/html": [
       "<pre>recommendations finished on 96000/122533 queries. users per second: 10416.4</pre>"
      ],
      "text/plain": [
       "recommendations finished on 96000/122533 queries. users per second: 10416.4"
      ]
     },
     "metadata": {},
     "output_type": "display_data"
    },
    {
     "data": {
      "text/html": [
       "<pre>recommendations finished on 97000/122533 queries. users per second: 10418</pre>"
      ],
      "text/plain": [
       "recommendations finished on 97000/122533 queries. users per second: 10418"
      ]
     },
     "metadata": {},
     "output_type": "display_data"
    },
    {
     "data": {
      "text/html": [
       "<pre>recommendations finished on 98000/122533 queries. users per second: 10418.5</pre>"
      ],
      "text/plain": [
       "recommendations finished on 98000/122533 queries. users per second: 10418.5"
      ]
     },
     "metadata": {},
     "output_type": "display_data"
    },
    {
     "data": {
      "text/html": [
       "<pre>recommendations finished on 99000/122533 queries. users per second: 10419.2</pre>"
      ],
      "text/plain": [
       "recommendations finished on 99000/122533 queries. users per second: 10419.2"
      ]
     },
     "metadata": {},
     "output_type": "display_data"
    },
    {
     "data": {
      "text/html": [
       "<pre>recommendations finished on 100000/122533 queries. users per second: 10420.5</pre>"
      ],
      "text/plain": [
       "recommendations finished on 100000/122533 queries. users per second: 10420.5"
      ]
     },
     "metadata": {},
     "output_type": "display_data"
    },
    {
     "data": {
      "text/html": [
       "<pre>recommendations finished on 101000/122533 queries. users per second: 10421.6</pre>"
      ],
      "text/plain": [
       "recommendations finished on 101000/122533 queries. users per second: 10421.6"
      ]
     },
     "metadata": {},
     "output_type": "display_data"
    },
    {
     "data": {
      "text/html": [
       "<pre>recommendations finished on 102000/122533 queries. users per second: 10423</pre>"
      ],
      "text/plain": [
       "recommendations finished on 102000/122533 queries. users per second: 10423"
      ]
     },
     "metadata": {},
     "output_type": "display_data"
    },
    {
     "data": {
      "text/html": [
       "<pre>recommendations finished on 103000/122533 queries. users per second: 10424</pre>"
      ],
      "text/plain": [
       "recommendations finished on 103000/122533 queries. users per second: 10424"
      ]
     },
     "metadata": {},
     "output_type": "display_data"
    },
    {
     "data": {
      "text/html": [
       "<pre>recommendations finished on 104000/122533 queries. users per second: 10425.2</pre>"
      ],
      "text/plain": [
       "recommendations finished on 104000/122533 queries. users per second: 10425.2"
      ]
     },
     "metadata": {},
     "output_type": "display_data"
    },
    {
     "data": {
      "text/html": [
       "<pre>recommendations finished on 105000/122533 queries. users per second: 10425.2</pre>"
      ],
      "text/plain": [
       "recommendations finished on 105000/122533 queries. users per second: 10425.2"
      ]
     },
     "metadata": {},
     "output_type": "display_data"
    },
    {
     "data": {
      "text/html": [
       "<pre>recommendations finished on 106000/122533 queries. users per second: 10425.8</pre>"
      ],
      "text/plain": [
       "recommendations finished on 106000/122533 queries. users per second: 10425.8"
      ]
     },
     "metadata": {},
     "output_type": "display_data"
    },
    {
     "data": {
      "text/html": [
       "<pre>recommendations finished on 107000/122533 queries. users per second: 10427.1</pre>"
      ],
      "text/plain": [
       "recommendations finished on 107000/122533 queries. users per second: 10427.1"
      ]
     },
     "metadata": {},
     "output_type": "display_data"
    },
    {
     "data": {
      "text/html": [
       "<pre>recommendations finished on 108000/122533 queries. users per second: 10427.9</pre>"
      ],
      "text/plain": [
       "recommendations finished on 108000/122533 queries. users per second: 10427.9"
      ]
     },
     "metadata": {},
     "output_type": "display_data"
    },
    {
     "data": {
      "text/html": [
       "<pre>recommendations finished on 109000/122533 queries. users per second: 10429.1</pre>"
      ],
      "text/plain": [
       "recommendations finished on 109000/122533 queries. users per second: 10429.1"
      ]
     },
     "metadata": {},
     "output_type": "display_data"
    },
    {
     "data": {
      "text/html": [
       "<pre>recommendations finished on 110000/122533 queries. users per second: 10429.7</pre>"
      ],
      "text/plain": [
       "recommendations finished on 110000/122533 queries. users per second: 10429.7"
      ]
     },
     "metadata": {},
     "output_type": "display_data"
    },
    {
     "data": {
      "text/html": [
       "<pre>recommendations finished on 111000/122533 queries. users per second: 10431.1</pre>"
      ],
      "text/plain": [
       "recommendations finished on 111000/122533 queries. users per second: 10431.1"
      ]
     },
     "metadata": {},
     "output_type": "display_data"
    },
    {
     "data": {
      "text/html": [
       "<pre>recommendations finished on 112000/122533 queries. users per second: 10431.7</pre>"
      ],
      "text/plain": [
       "recommendations finished on 112000/122533 queries. users per second: 10431.7"
      ]
     },
     "metadata": {},
     "output_type": "display_data"
    },
    {
     "data": {
      "text/html": [
       "<pre>recommendations finished on 113000/122533 queries. users per second: 10433.2</pre>"
      ],
      "text/plain": [
       "recommendations finished on 113000/122533 queries. users per second: 10433.2"
      ]
     },
     "metadata": {},
     "output_type": "display_data"
    },
    {
     "data": {
      "text/html": [
       "<pre>recommendations finished on 114000/122533 queries. users per second: 10434.2</pre>"
      ],
      "text/plain": [
       "recommendations finished on 114000/122533 queries. users per second: 10434.2"
      ]
     },
     "metadata": {},
     "output_type": "display_data"
    },
    {
     "data": {
      "text/html": [
       "<pre>recommendations finished on 115000/122533 queries. users per second: 10435.4</pre>"
      ],
      "text/plain": [
       "recommendations finished on 115000/122533 queries. users per second: 10435.4"
      ]
     },
     "metadata": {},
     "output_type": "display_data"
    },
    {
     "data": {
      "text/html": [
       "<pre>recommendations finished on 116000/122533 queries. users per second: 10436.5</pre>"
      ],
      "text/plain": [
       "recommendations finished on 116000/122533 queries. users per second: 10436.5"
      ]
     },
     "metadata": {},
     "output_type": "display_data"
    },
    {
     "data": {
      "text/html": [
       "<pre>recommendations finished on 117000/122533 queries. users per second: 10437</pre>"
      ],
      "text/plain": [
       "recommendations finished on 117000/122533 queries. users per second: 10437"
      ]
     },
     "metadata": {},
     "output_type": "display_data"
    },
    {
     "data": {
      "text/html": [
       "<pre>recommendations finished on 118000/122533 queries. users per second: 10438</pre>"
      ],
      "text/plain": [
       "recommendations finished on 118000/122533 queries. users per second: 10438"
      ]
     },
     "metadata": {},
     "output_type": "display_data"
    },
    {
     "data": {
      "text/html": [
       "<pre>recommendations finished on 119000/122533 queries. users per second: 10438.8</pre>"
      ],
      "text/plain": [
       "recommendations finished on 119000/122533 queries. users per second: 10438.8"
      ]
     },
     "metadata": {},
     "output_type": "display_data"
    },
    {
     "data": {
      "text/html": [
       "<pre>recommendations finished on 120000/122533 queries. users per second: 10439.6</pre>"
      ],
      "text/plain": [
       "recommendations finished on 120000/122533 queries. users per second: 10439.6"
      ]
     },
     "metadata": {},
     "output_type": "display_data"
    },
    {
     "data": {
      "text/html": [
       "<pre>recommendations finished on 121000/122533 queries. users per second: 10440</pre>"
      ],
      "text/plain": [
       "recommendations finished on 121000/122533 queries. users per second: 10440"
      ]
     },
     "metadata": {},
     "output_type": "display_data"
    },
    {
     "data": {
      "text/html": [
       "<pre>recommendations finished on 122000/122533 queries. users per second: 10423.4</pre>"
      ],
      "text/plain": [
       "recommendations finished on 122000/122533 queries. users per second: 10423.4"
      ]
     },
     "metadata": {},
     "output_type": "display_data"
    },
    {
     "name": "stdout",
     "output_type": "stream",
     "text": [
      "+------------+-----------+-------+------+\n",
      "| customerId | productId | score | rank |\n",
      "+------------+-----------+-------+------+\n",
      "|     1      |   29441   |  0.0  |  1   |\n",
      "|     1      |   19250   |  0.0  |  2   |\n",
      "|     1      |   31536   |  0.0  |  3   |\n",
      "|     1      |   25292   |  0.0  |  4   |\n",
      "|     1      |   32880   |  0.0  |  5   |\n",
      "|     2      |   29441   |  0.0  |  1   |\n",
      "|     2      |   19250   |  0.0  |  2   |\n",
      "|     2      |   31536   |  0.0  |  3   |\n",
      "|     2      |   25292   |  0.0  |  4   |\n",
      "|     2      |   32880   |  0.0  |  5   |\n",
      "|     3      |   29441   |  0.0  |  1   |\n",
      "|     3      |   19250   |  0.0  |  2   |\n",
      "|     3      |   31536   |  0.0  |  3   |\n",
      "|     3      |   25292   |  0.0  |  4   |\n",
      "|     3      |   32880   |  0.0  |  5   |\n",
      "|     4      |   29441   |  0.0  |  1   |\n",
      "|     4      |   19250   |  0.0  |  2   |\n",
      "|     4      |   31536   |  0.0  |  3   |\n",
      "|     4      |   25292   |  0.0  |  4   |\n",
      "|     4      |   32880   |  0.0  |  5   |\n",
      "|     5      |   29441   |  0.0  |  1   |\n",
      "|     5      |   19250   |  0.0  |  2   |\n",
      "|     5      |   31536   |  0.0  |  3   |\n",
      "|     5      |   25292   |  0.0  |  4   |\n",
      "|     5      |   32880   |  0.0  |  5   |\n",
      "|     6      |   29441   |  0.0  |  1   |\n",
      "|     6      |   19250   |  0.0  |  2   |\n",
      "|     6      |   31536   |  0.0  |  3   |\n",
      "|     6      |   25292   |  0.0  |  4   |\n",
      "|     6      |   32880   |  0.0  |  5   |\n",
      "+------------+-----------+-------+------+\n",
      "[612665 rows x 4 columns]\n",
      "\n"
     ]
    }
   ],
   "source": [
    "# Pearson\n",
    "name = 'pearson'\n",
    "target = 'purchase_dummy'\n",
    "#target = 'purchase_count'\n",
    "pear_dummy = model(train_data_dummy, name, user_id, item_id, target, users_to_recommend, n_rec, n_display)"
   ]
  },
  {
   "cell_type": "code",
   "execution_count": 188,
   "metadata": {},
   "outputs": [
    {
     "data": {
      "text/html": [
       "<pre>Warning: Ignoring columns purchase_count;</pre>"
      ],
      "text/plain": [
       "Warning: Ignoring columns purchase_count;"
      ]
     },
     "metadata": {},
     "output_type": "display_data"
    },
    {
     "data": {
      "text/html": [
       "<pre>    To use these columns in scoring predictions, use a model that allows the use of additional features.</pre>"
      ],
      "text/plain": [
       "    To use these columns in scoring predictions, use a model that allows the use of additional features."
      ]
     },
     "metadata": {},
     "output_type": "display_data"
    },
    {
     "data": {
      "text/html": [
       "<pre>Preparing data set.</pre>"
      ],
      "text/plain": [
       "Preparing data set."
      ]
     },
     "metadata": {},
     "output_type": "display_data"
    },
    {
     "data": {
      "text/html": [
       "<pre>    Data has 396007 observations with 117786 users and 52052 items.</pre>"
      ],
      "text/plain": [
       "    Data has 396007 observations with 117786 users and 52052 items."
      ]
     },
     "metadata": {},
     "output_type": "display_data"
    },
    {
     "data": {
      "text/html": [
       "<pre>    Data prepared in: 0.187898s</pre>"
      ],
      "text/plain": [
       "    Data prepared in: 0.187898s"
      ]
     },
     "metadata": {},
     "output_type": "display_data"
    },
    {
     "data": {
      "text/html": [
       "<pre>Training model from provided data.</pre>"
      ],
      "text/plain": [
       "Training model from provided data."
      ]
     },
     "metadata": {},
     "output_type": "display_data"
    },
    {
     "data": {
      "text/html": [
       "<pre>Gathering per-item and per-user statistics.</pre>"
      ],
      "text/plain": [
       "Gathering per-item and per-user statistics."
      ]
     },
     "metadata": {},
     "output_type": "display_data"
    },
    {
     "data": {
      "text/html": [
       "<pre>+--------------------------------+------------+</pre>"
      ],
      "text/plain": [
       "+--------------------------------+------------+"
      ]
     },
     "metadata": {},
     "output_type": "display_data"
    },
    {
     "data": {
      "text/html": [
       "<pre>| Elapsed Time (Item Statistics) | % Complete |</pre>"
      ],
      "text/plain": [
       "| Elapsed Time (Item Statistics) | % Complete |"
      ]
     },
     "metadata": {},
     "output_type": "display_data"
    },
    {
     "data": {
      "text/html": [
       "<pre>+--------------------------------+------------+</pre>"
      ],
      "text/plain": [
       "+--------------------------------+------------+"
      ]
     },
     "metadata": {},
     "output_type": "display_data"
    },
    {
     "data": {
      "text/html": [
       "<pre>| 609us                          | 0.75       |</pre>"
      ],
      "text/plain": [
       "| 609us                          | 0.75       |"
      ]
     },
     "metadata": {},
     "output_type": "display_data"
    },
    {
     "data": {
      "text/html": [
       "<pre>| 15.43ms                        | 100        |</pre>"
      ],
      "text/plain": [
       "| 15.43ms                        | 100        |"
      ]
     },
     "metadata": {},
     "output_type": "display_data"
    },
    {
     "data": {
      "text/html": [
       "<pre>+--------------------------------+------------+</pre>"
      ],
      "text/plain": [
       "+--------------------------------+------------+"
      ]
     },
     "metadata": {},
     "output_type": "display_data"
    },
    {
     "data": {
      "text/html": [
       "<pre>Setting up lookup tables.</pre>"
      ],
      "text/plain": [
       "Setting up lookup tables."
      ]
     },
     "metadata": {},
     "output_type": "display_data"
    },
    {
     "data": {
      "text/html": [
       "<pre>Processing data in 2 passes using dense lookup tables.</pre>"
      ],
      "text/plain": [
       "Processing data in 2 passes using dense lookup tables."
      ]
     },
     "metadata": {},
     "output_type": "display_data"
    },
    {
     "data": {
      "text/html": [
       "<pre>+-------------------------------------+------------------+-----------------+</pre>"
      ],
      "text/plain": [
       "+-------------------------------------+------------------+-----------------+"
      ]
     },
     "metadata": {},
     "output_type": "display_data"
    },
    {
     "data": {
      "text/html": [
       "<pre>| Elapsed Time (Constructing Lookups) | Total % Complete | Items Processed |</pre>"
      ],
      "text/plain": [
       "| Elapsed Time (Constructing Lookups) | Total % Complete | Items Processed |"
      ]
     },
     "metadata": {},
     "output_type": "display_data"
    },
    {
     "data": {
      "text/html": [
       "<pre>+-------------------------------------+------------------+-----------------+</pre>"
      ],
      "text/plain": [
       "+-------------------------------------+------------------+-----------------+"
      ]
     },
     "metadata": {},
     "output_type": "display_data"
    },
    {
     "data": {
      "text/html": [
       "<pre>| 4.72s                               | 0                | 0               |</pre>"
      ],
      "text/plain": [
       "| 4.72s                               | 0                | 0               |"
      ]
     },
     "metadata": {},
     "output_type": "display_data"
    },
    {
     "data": {
      "text/html": [
       "<pre>| 9.26s                               | 49.75            | 26025           |</pre>"
      ],
      "text/plain": [
       "| 9.26s                               | 49.75            | 26025           |"
      ]
     },
     "metadata": {},
     "output_type": "display_data"
    },
    {
     "data": {
      "text/html": [
       "<pre>| 10.23s                              | 100              | 52052           |</pre>"
      ],
      "text/plain": [
       "| 10.23s                              | 100              | 52052           |"
      ]
     },
     "metadata": {},
     "output_type": "display_data"
    },
    {
     "data": {
      "text/html": [
       "<pre>+-------------------------------------+------------------+-----------------+</pre>"
      ],
      "text/plain": [
       "+-------------------------------------+------------------+-----------------+"
      ]
     },
     "metadata": {},
     "output_type": "display_data"
    },
    {
     "data": {
      "text/html": [
       "<pre>Finalizing lookup tables.</pre>"
      ],
      "text/plain": [
       "Finalizing lookup tables."
      ]
     },
     "metadata": {},
     "output_type": "display_data"
    },
    {
     "data": {
      "text/html": [
       "<pre>Generating candidate set for working with new users.</pre>"
      ],
      "text/plain": [
       "Generating candidate set for working with new users."
      ]
     },
     "metadata": {},
     "output_type": "display_data"
    },
    {
     "data": {
      "text/html": [
       "<pre>Finished training in 10.2688s</pre>"
      ],
      "text/plain": [
       "Finished training in 10.2688s"
      ]
     },
     "metadata": {},
     "output_type": "display_data"
    },
    {
     "data": {
      "text/html": [
       "<pre>recommendations finished on 1000/122533 queries. users per second: 14900.9</pre>"
      ],
      "text/plain": [
       "recommendations finished on 1000/122533 queries. users per second: 14900.9"
      ]
     },
     "metadata": {},
     "output_type": "display_data"
    },
    {
     "data": {
      "text/html": [
       "<pre>recommendations finished on 2000/122533 queries. users per second: 15385.2</pre>"
      ],
      "text/plain": [
       "recommendations finished on 2000/122533 queries. users per second: 15385.2"
      ]
     },
     "metadata": {},
     "output_type": "display_data"
    },
    {
     "data": {
      "text/html": [
       "<pre>recommendations finished on 3000/122533 queries. users per second: 15578.5</pre>"
      ],
      "text/plain": [
       "recommendations finished on 3000/122533 queries. users per second: 15578.5"
      ]
     },
     "metadata": {},
     "output_type": "display_data"
    },
    {
     "data": {
      "text/html": [
       "<pre>recommendations finished on 4000/122533 queries. users per second: 15664.4</pre>"
      ],
      "text/plain": [
       "recommendations finished on 4000/122533 queries. users per second: 15664.4"
      ]
     },
     "metadata": {},
     "output_type": "display_data"
    },
    {
     "data": {
      "text/html": [
       "<pre>recommendations finished on 5000/122533 queries. users per second: 15721.3</pre>"
      ],
      "text/plain": [
       "recommendations finished on 5000/122533 queries. users per second: 15721.3"
      ]
     },
     "metadata": {},
     "output_type": "display_data"
    },
    {
     "data": {
      "text/html": [
       "<pre>recommendations finished on 6000/122533 queries. users per second: 15763.7</pre>"
      ],
      "text/plain": [
       "recommendations finished on 6000/122533 queries. users per second: 15763.7"
      ]
     },
     "metadata": {},
     "output_type": "display_data"
    },
    {
     "data": {
      "text/html": [
       "<pre>recommendations finished on 7000/122533 queries. users per second: 15783.4</pre>"
      ],
      "text/plain": [
       "recommendations finished on 7000/122533 queries. users per second: 15783.4"
      ]
     },
     "metadata": {},
     "output_type": "display_data"
    },
    {
     "data": {
      "text/html": [
       "<pre>recommendations finished on 8000/122533 queries. users per second: 15801.1</pre>"
      ],
      "text/plain": [
       "recommendations finished on 8000/122533 queries. users per second: 15801.1"
      ]
     },
     "metadata": {},
     "output_type": "display_data"
    },
    {
     "data": {
      "text/html": [
       "<pre>recommendations finished on 9000/122533 queries. users per second: 15811.6</pre>"
      ],
      "text/plain": [
       "recommendations finished on 9000/122533 queries. users per second: 15811.6"
      ]
     },
     "metadata": {},
     "output_type": "display_data"
    },
    {
     "data": {
      "text/html": [
       "<pre>recommendations finished on 10000/122533 queries. users per second: 15828.2</pre>"
      ],
      "text/plain": [
       "recommendations finished on 10000/122533 queries. users per second: 15828.2"
      ]
     },
     "metadata": {},
     "output_type": "display_data"
    },
    {
     "data": {
      "text/html": [
       "<pre>recommendations finished on 11000/122533 queries. users per second: 15839.6</pre>"
      ],
      "text/plain": [
       "recommendations finished on 11000/122533 queries. users per second: 15839.6"
      ]
     },
     "metadata": {},
     "output_type": "display_data"
    },
    {
     "data": {
      "text/html": [
       "<pre>recommendations finished on 12000/122533 queries. users per second: 15846.8</pre>"
      ],
      "text/plain": [
       "recommendations finished on 12000/122533 queries. users per second: 15846.8"
      ]
     },
     "metadata": {},
     "output_type": "display_data"
    },
    {
     "data": {
      "text/html": [
       "<pre>recommendations finished on 13000/122533 queries. users per second: 15848.6</pre>"
      ],
      "text/plain": [
       "recommendations finished on 13000/122533 queries. users per second: 15848.6"
      ]
     },
     "metadata": {},
     "output_type": "display_data"
    },
    {
     "data": {
      "text/html": [
       "<pre>recommendations finished on 14000/122533 queries. users per second: 15855.5</pre>"
      ],
      "text/plain": [
       "recommendations finished on 14000/122533 queries. users per second: 15855.5"
      ]
     },
     "metadata": {},
     "output_type": "display_data"
    },
    {
     "data": {
      "text/html": [
       "<pre>recommendations finished on 15000/122533 queries. users per second: 15863.9</pre>"
      ],
      "text/plain": [
       "recommendations finished on 15000/122533 queries. users per second: 15863.9"
      ]
     },
     "metadata": {},
     "output_type": "display_data"
    },
    {
     "data": {
      "text/html": [
       "<pre>recommendations finished on 16000/122533 queries. users per second: 15866.5</pre>"
      ],
      "text/plain": [
       "recommendations finished on 16000/122533 queries. users per second: 15866.5"
      ]
     },
     "metadata": {},
     "output_type": "display_data"
    },
    {
     "data": {
      "text/html": [
       "<pre>recommendations finished on 17000/122533 queries. users per second: 15877.2</pre>"
      ],
      "text/plain": [
       "recommendations finished on 17000/122533 queries. users per second: 15877.2"
      ]
     },
     "metadata": {},
     "output_type": "display_data"
    },
    {
     "data": {
      "text/html": [
       "<pre>recommendations finished on 18000/122533 queries. users per second: 15882.8</pre>"
      ],
      "text/plain": [
       "recommendations finished on 18000/122533 queries. users per second: 15882.8"
      ]
     },
     "metadata": {},
     "output_type": "display_data"
    },
    {
     "data": {
      "text/html": [
       "<pre>recommendations finished on 19000/122533 queries. users per second: 15885.9</pre>"
      ],
      "text/plain": [
       "recommendations finished on 19000/122533 queries. users per second: 15885.9"
      ]
     },
     "metadata": {},
     "output_type": "display_data"
    },
    {
     "data": {
      "text/html": [
       "<pre>recommendations finished on 20000/122533 queries. users per second: 15886.1</pre>"
      ],
      "text/plain": [
       "recommendations finished on 20000/122533 queries. users per second: 15886.1"
      ]
     },
     "metadata": {},
     "output_type": "display_data"
    },
    {
     "data": {
      "text/html": [
       "<pre>recommendations finished on 21000/122533 queries. users per second: 15883.5</pre>"
      ],
      "text/plain": [
       "recommendations finished on 21000/122533 queries. users per second: 15883.5"
      ]
     },
     "metadata": {},
     "output_type": "display_data"
    },
    {
     "data": {
      "text/html": [
       "<pre>recommendations finished on 22000/122533 queries. users per second: 15885.7</pre>"
      ],
      "text/plain": [
       "recommendations finished on 22000/122533 queries. users per second: 15885.7"
      ]
     },
     "metadata": {},
     "output_type": "display_data"
    },
    {
     "data": {
      "text/html": [
       "<pre>recommendations finished on 23000/122533 queries. users per second: 15888.3</pre>"
      ],
      "text/plain": [
       "recommendations finished on 23000/122533 queries. users per second: 15888.3"
      ]
     },
     "metadata": {},
     "output_type": "display_data"
    },
    {
     "data": {
      "text/html": [
       "<pre>recommendations finished on 24000/122533 queries. users per second: 15887.9</pre>"
      ],
      "text/plain": [
       "recommendations finished on 24000/122533 queries. users per second: 15887.9"
      ]
     },
     "metadata": {},
     "output_type": "display_data"
    },
    {
     "data": {
      "text/html": [
       "<pre>recommendations finished on 25000/122533 queries. users per second: 15890</pre>"
      ],
      "text/plain": [
       "recommendations finished on 25000/122533 queries. users per second: 15890"
      ]
     },
     "metadata": {},
     "output_type": "display_data"
    },
    {
     "data": {
      "text/html": [
       "<pre>recommendations finished on 26000/122533 queries. users per second: 15890</pre>"
      ],
      "text/plain": [
       "recommendations finished on 26000/122533 queries. users per second: 15890"
      ]
     },
     "metadata": {},
     "output_type": "display_data"
    },
    {
     "data": {
      "text/html": [
       "<pre>recommendations finished on 27000/122533 queries. users per second: 15882.2</pre>"
      ],
      "text/plain": [
       "recommendations finished on 27000/122533 queries. users per second: 15882.2"
      ]
     },
     "metadata": {},
     "output_type": "display_data"
    },
    {
     "data": {
      "text/html": [
       "<pre>recommendations finished on 28000/122533 queries. users per second: 15883.5</pre>"
      ],
      "text/plain": [
       "recommendations finished on 28000/122533 queries. users per second: 15883.5"
      ]
     },
     "metadata": {},
     "output_type": "display_data"
    },
    {
     "data": {
      "text/html": [
       "<pre>recommendations finished on 29000/122533 queries. users per second: 15884.4</pre>"
      ],
      "text/plain": [
       "recommendations finished on 29000/122533 queries. users per second: 15884.4"
      ]
     },
     "metadata": {},
     "output_type": "display_data"
    },
    {
     "data": {
      "text/html": [
       "<pre>recommendations finished on 30000/122533 queries. users per second: 15882.5</pre>"
      ],
      "text/plain": [
       "recommendations finished on 30000/122533 queries. users per second: 15882.5"
      ]
     },
     "metadata": {},
     "output_type": "display_data"
    },
    {
     "data": {
      "text/html": [
       "<pre>recommendations finished on 31000/122533 queries. users per second: 15884.3</pre>"
      ],
      "text/plain": [
       "recommendations finished on 31000/122533 queries. users per second: 15884.3"
      ]
     },
     "metadata": {},
     "output_type": "display_data"
    },
    {
     "data": {
      "text/html": [
       "<pre>recommendations finished on 32000/122533 queries. users per second: 15884.8</pre>"
      ],
      "text/plain": [
       "recommendations finished on 32000/122533 queries. users per second: 15884.8"
      ]
     },
     "metadata": {},
     "output_type": "display_data"
    },
    {
     "data": {
      "text/html": [
       "<pre>recommendations finished on 33000/122533 queries. users per second: 15888</pre>"
      ],
      "text/plain": [
       "recommendations finished on 33000/122533 queries. users per second: 15888"
      ]
     },
     "metadata": {},
     "output_type": "display_data"
    },
    {
     "data": {
      "text/html": [
       "<pre>recommendations finished on 34000/122533 queries. users per second: 15890.3</pre>"
      ],
      "text/plain": [
       "recommendations finished on 34000/122533 queries. users per second: 15890.3"
      ]
     },
     "metadata": {},
     "output_type": "display_data"
    },
    {
     "data": {
      "text/html": [
       "<pre>recommendations finished on 35000/122533 queries. users per second: 15892.3</pre>"
      ],
      "text/plain": [
       "recommendations finished on 35000/122533 queries. users per second: 15892.3"
      ]
     },
     "metadata": {},
     "output_type": "display_data"
    },
    {
     "data": {
      "text/html": [
       "<pre>recommendations finished on 36000/122533 queries. users per second: 15892.9</pre>"
      ],
      "text/plain": [
       "recommendations finished on 36000/122533 queries. users per second: 15892.9"
      ]
     },
     "metadata": {},
     "output_type": "display_data"
    },
    {
     "data": {
      "text/html": [
       "<pre>recommendations finished on 37000/122533 queries. users per second: 15894.6</pre>"
      ],
      "text/plain": [
       "recommendations finished on 37000/122533 queries. users per second: 15894.6"
      ]
     },
     "metadata": {},
     "output_type": "display_data"
    },
    {
     "data": {
      "text/html": [
       "<pre>recommendations finished on 38000/122533 queries. users per second: 15897.1</pre>"
      ],
      "text/plain": [
       "recommendations finished on 38000/122533 queries. users per second: 15897.1"
      ]
     },
     "metadata": {},
     "output_type": "display_data"
    },
    {
     "data": {
      "text/html": [
       "<pre>recommendations finished on 39000/122533 queries. users per second: 15898.9</pre>"
      ],
      "text/plain": [
       "recommendations finished on 39000/122533 queries. users per second: 15898.9"
      ]
     },
     "metadata": {},
     "output_type": "display_data"
    },
    {
     "data": {
      "text/html": [
       "<pre>recommendations finished on 40000/122533 queries. users per second: 15901.3</pre>"
      ],
      "text/plain": [
       "recommendations finished on 40000/122533 queries. users per second: 15901.3"
      ]
     },
     "metadata": {},
     "output_type": "display_data"
    },
    {
     "data": {
      "text/html": [
       "<pre>recommendations finished on 41000/122533 queries. users per second: 15904</pre>"
      ],
      "text/plain": [
       "recommendations finished on 41000/122533 queries. users per second: 15904"
      ]
     },
     "metadata": {},
     "output_type": "display_data"
    },
    {
     "data": {
      "text/html": [
       "<pre>recommendations finished on 42000/122533 queries. users per second: 15905.7</pre>"
      ],
      "text/plain": [
       "recommendations finished on 42000/122533 queries. users per second: 15905.7"
      ]
     },
     "metadata": {},
     "output_type": "display_data"
    },
    {
     "data": {
      "text/html": [
       "<pre>recommendations finished on 43000/122533 queries. users per second: 15906.5</pre>"
      ],
      "text/plain": [
       "recommendations finished on 43000/122533 queries. users per second: 15906.5"
      ]
     },
     "metadata": {},
     "output_type": "display_data"
    },
    {
     "data": {
      "text/html": [
       "<pre>recommendations finished on 44000/122533 queries. users per second: 15909.2</pre>"
      ],
      "text/plain": [
       "recommendations finished on 44000/122533 queries. users per second: 15909.2"
      ]
     },
     "metadata": {},
     "output_type": "display_data"
    },
    {
     "data": {
      "text/html": [
       "<pre>recommendations finished on 45000/122533 queries. users per second: 15909.4</pre>"
      ],
      "text/plain": [
       "recommendations finished on 45000/122533 queries. users per second: 15909.4"
      ]
     },
     "metadata": {},
     "output_type": "display_data"
    },
    {
     "data": {
      "text/html": [
       "<pre>recommendations finished on 46000/122533 queries. users per second: 15907</pre>"
      ],
      "text/plain": [
       "recommendations finished on 46000/122533 queries. users per second: 15907"
      ]
     },
     "metadata": {},
     "output_type": "display_data"
    },
    {
     "data": {
      "text/html": [
       "<pre>recommendations finished on 47000/122533 queries. users per second: 15904.4</pre>"
      ],
      "text/plain": [
       "recommendations finished on 47000/122533 queries. users per second: 15904.4"
      ]
     },
     "metadata": {},
     "output_type": "display_data"
    },
    {
     "data": {
      "text/html": [
       "<pre>recommendations finished on 48000/122533 queries. users per second: 15904.7</pre>"
      ],
      "text/plain": [
       "recommendations finished on 48000/122533 queries. users per second: 15904.7"
      ]
     },
     "metadata": {},
     "output_type": "display_data"
    },
    {
     "data": {
      "text/html": [
       "<pre>recommendations finished on 49000/122533 queries. users per second: 15906.2</pre>"
      ],
      "text/plain": [
       "recommendations finished on 49000/122533 queries. users per second: 15906.2"
      ]
     },
     "metadata": {},
     "output_type": "display_data"
    },
    {
     "data": {
      "text/html": [
       "<pre>recommendations finished on 50000/122533 queries. users per second: 15908.1</pre>"
      ],
      "text/plain": [
       "recommendations finished on 50000/122533 queries. users per second: 15908.1"
      ]
     },
     "metadata": {},
     "output_type": "display_data"
    },
    {
     "data": {
      "text/html": [
       "<pre>recommendations finished on 51000/122533 queries. users per second: 15910.5</pre>"
      ],
      "text/plain": [
       "recommendations finished on 51000/122533 queries. users per second: 15910.5"
      ]
     },
     "metadata": {},
     "output_type": "display_data"
    },
    {
     "data": {
      "text/html": [
       "<pre>recommendations finished on 52000/122533 queries. users per second: 15911.4</pre>"
      ],
      "text/plain": [
       "recommendations finished on 52000/122533 queries. users per second: 15911.4"
      ]
     },
     "metadata": {},
     "output_type": "display_data"
    },
    {
     "data": {
      "text/html": [
       "<pre>recommendations finished on 53000/122533 queries. users per second: 15907.9</pre>"
      ],
      "text/plain": [
       "recommendations finished on 53000/122533 queries. users per second: 15907.9"
      ]
     },
     "metadata": {},
     "output_type": "display_data"
    },
    {
     "data": {
      "text/html": [
       "<pre>recommendations finished on 54000/122533 queries. users per second: 15908.5</pre>"
      ],
      "text/plain": [
       "recommendations finished on 54000/122533 queries. users per second: 15908.5"
      ]
     },
     "metadata": {},
     "output_type": "display_data"
    },
    {
     "data": {
      "text/html": [
       "<pre>recommendations finished on 55000/122533 queries. users per second: 15909.1</pre>"
      ],
      "text/plain": [
       "recommendations finished on 55000/122533 queries. users per second: 15909.1"
      ]
     },
     "metadata": {},
     "output_type": "display_data"
    },
    {
     "data": {
      "text/html": [
       "<pre>recommendations finished on 56000/122533 queries. users per second: 15909.4</pre>"
      ],
      "text/plain": [
       "recommendations finished on 56000/122533 queries. users per second: 15909.4"
      ]
     },
     "metadata": {},
     "output_type": "display_data"
    },
    {
     "data": {
      "text/html": [
       "<pre>recommendations finished on 57000/122533 queries. users per second: 15910.1</pre>"
      ],
      "text/plain": [
       "recommendations finished on 57000/122533 queries. users per second: 15910.1"
      ]
     },
     "metadata": {},
     "output_type": "display_data"
    },
    {
     "data": {
      "text/html": [
       "<pre>recommendations finished on 58000/122533 queries. users per second: 15911.6</pre>"
      ],
      "text/plain": [
       "recommendations finished on 58000/122533 queries. users per second: 15911.6"
      ]
     },
     "metadata": {},
     "output_type": "display_data"
    },
    {
     "data": {
      "text/html": [
       "<pre>recommendations finished on 59000/122533 queries. users per second: 15913.3</pre>"
      ],
      "text/plain": [
       "recommendations finished on 59000/122533 queries. users per second: 15913.3"
      ]
     },
     "metadata": {},
     "output_type": "display_data"
    },
    {
     "data": {
      "text/html": [
       "<pre>recommendations finished on 60000/122533 queries. users per second: 15913.3</pre>"
      ],
      "text/plain": [
       "recommendations finished on 60000/122533 queries. users per second: 15913.3"
      ]
     },
     "metadata": {},
     "output_type": "display_data"
    },
    {
     "data": {
      "text/html": [
       "<pre>recommendations finished on 61000/122533 queries. users per second: 15913.6</pre>"
      ],
      "text/plain": [
       "recommendations finished on 61000/122533 queries. users per second: 15913.6"
      ]
     },
     "metadata": {},
     "output_type": "display_data"
    },
    {
     "data": {
      "text/html": [
       "<pre>recommendations finished on 62000/122533 queries. users per second: 15913.7</pre>"
      ],
      "text/plain": [
       "recommendations finished on 62000/122533 queries. users per second: 15913.7"
      ]
     },
     "metadata": {},
     "output_type": "display_data"
    },
    {
     "data": {
      "text/html": [
       "<pre>recommendations finished on 63000/122533 queries. users per second: 15913.2</pre>"
      ],
      "text/plain": [
       "recommendations finished on 63000/122533 queries. users per second: 15913.2"
      ]
     },
     "metadata": {},
     "output_type": "display_data"
    },
    {
     "data": {
      "text/html": [
       "<pre>recommendations finished on 64000/122533 queries. users per second: 15911.7</pre>"
      ],
      "text/plain": [
       "recommendations finished on 64000/122533 queries. users per second: 15911.7"
      ]
     },
     "metadata": {},
     "output_type": "display_data"
    },
    {
     "data": {
      "text/html": [
       "<pre>recommendations finished on 65000/122533 queries. users per second: 15912.5</pre>"
      ],
      "text/plain": [
       "recommendations finished on 65000/122533 queries. users per second: 15912.5"
      ]
     },
     "metadata": {},
     "output_type": "display_data"
    },
    {
     "data": {
      "text/html": [
       "<pre>recommendations finished on 66000/122533 queries. users per second: 15913.9</pre>"
      ],
      "text/plain": [
       "recommendations finished on 66000/122533 queries. users per second: 15913.9"
      ]
     },
     "metadata": {},
     "output_type": "display_data"
    },
    {
     "data": {
      "text/html": [
       "<pre>recommendations finished on 67000/122533 queries. users per second: 15915.2</pre>"
      ],
      "text/plain": [
       "recommendations finished on 67000/122533 queries. users per second: 15915.2"
      ]
     },
     "metadata": {},
     "output_type": "display_data"
    },
    {
     "data": {
      "text/html": [
       "<pre>recommendations finished on 68000/122533 queries. users per second: 15915.2</pre>"
      ],
      "text/plain": [
       "recommendations finished on 68000/122533 queries. users per second: 15915.2"
      ]
     },
     "metadata": {},
     "output_type": "display_data"
    },
    {
     "data": {
      "text/html": [
       "<pre>recommendations finished on 69000/122533 queries. users per second: 15915.1</pre>"
      ],
      "text/plain": [
       "recommendations finished on 69000/122533 queries. users per second: 15915.1"
      ]
     },
     "metadata": {},
     "output_type": "display_data"
    },
    {
     "data": {
      "text/html": [
       "<pre>recommendations finished on 70000/122533 queries. users per second: 15915.9</pre>"
      ],
      "text/plain": [
       "recommendations finished on 70000/122533 queries. users per second: 15915.9"
      ]
     },
     "metadata": {},
     "output_type": "display_data"
    },
    {
     "data": {
      "text/html": [
       "<pre>recommendations finished on 71000/122533 queries. users per second: 15916.3</pre>"
      ],
      "text/plain": [
       "recommendations finished on 71000/122533 queries. users per second: 15916.3"
      ]
     },
     "metadata": {},
     "output_type": "display_data"
    },
    {
     "data": {
      "text/html": [
       "<pre>recommendations finished on 72000/122533 queries. users per second: 15916.2</pre>"
      ],
      "text/plain": [
       "recommendations finished on 72000/122533 queries. users per second: 15916.2"
      ]
     },
     "metadata": {},
     "output_type": "display_data"
    },
    {
     "data": {
      "text/html": [
       "<pre>recommendations finished on 73000/122533 queries. users per second: 15916.4</pre>"
      ],
      "text/plain": [
       "recommendations finished on 73000/122533 queries. users per second: 15916.4"
      ]
     },
     "metadata": {},
     "output_type": "display_data"
    },
    {
     "data": {
      "text/html": [
       "<pre>recommendations finished on 74000/122533 queries. users per second: 15917.2</pre>"
      ],
      "text/plain": [
       "recommendations finished on 74000/122533 queries. users per second: 15917.2"
      ]
     },
     "metadata": {},
     "output_type": "display_data"
    },
    {
     "data": {
      "text/html": [
       "<pre>recommendations finished on 75000/122533 queries. users per second: 15917.3</pre>"
      ],
      "text/plain": [
       "recommendations finished on 75000/122533 queries. users per second: 15917.3"
      ]
     },
     "metadata": {},
     "output_type": "display_data"
    },
    {
     "data": {
      "text/html": [
       "<pre>recommendations finished on 76000/122533 queries. users per second: 15919.2</pre>"
      ],
      "text/plain": [
       "recommendations finished on 76000/122533 queries. users per second: 15919.2"
      ]
     },
     "metadata": {},
     "output_type": "display_data"
    },
    {
     "data": {
      "text/html": [
       "<pre>recommendations finished on 77000/122533 queries. users per second: 15920.1</pre>"
      ],
      "text/plain": [
       "recommendations finished on 77000/122533 queries. users per second: 15920.1"
      ]
     },
     "metadata": {},
     "output_type": "display_data"
    },
    {
     "data": {
      "text/html": [
       "<pre>recommendations finished on 78000/122533 queries. users per second: 15921.3</pre>"
      ],
      "text/plain": [
       "recommendations finished on 78000/122533 queries. users per second: 15921.3"
      ]
     },
     "metadata": {},
     "output_type": "display_data"
    },
    {
     "data": {
      "text/html": [
       "<pre>recommendations finished on 79000/122533 queries. users per second: 15921.4</pre>"
      ],
      "text/plain": [
       "recommendations finished on 79000/122533 queries. users per second: 15921.4"
      ]
     },
     "metadata": {},
     "output_type": "display_data"
    },
    {
     "data": {
      "text/html": [
       "<pre>recommendations finished on 80000/122533 queries. users per second: 15918.6</pre>"
      ],
      "text/plain": [
       "recommendations finished on 80000/122533 queries. users per second: 15918.6"
      ]
     },
     "metadata": {},
     "output_type": "display_data"
    },
    {
     "data": {
      "text/html": [
       "<pre>recommendations finished on 81000/122533 queries. users per second: 15919</pre>"
      ],
      "text/plain": [
       "recommendations finished on 81000/122533 queries. users per second: 15919"
      ]
     },
     "metadata": {},
     "output_type": "display_data"
    },
    {
     "data": {
      "text/html": [
       "<pre>recommendations finished on 82000/122533 queries. users per second: 15920.5</pre>"
      ],
      "text/plain": [
       "recommendations finished on 82000/122533 queries. users per second: 15920.5"
      ]
     },
     "metadata": {},
     "output_type": "display_data"
    },
    {
     "data": {
      "text/html": [
       "<pre>recommendations finished on 83000/122533 queries. users per second: 15921.7</pre>"
      ],
      "text/plain": [
       "recommendations finished on 83000/122533 queries. users per second: 15921.7"
      ]
     },
     "metadata": {},
     "output_type": "display_data"
    },
    {
     "data": {
      "text/html": [
       "<pre>recommendations finished on 84000/122533 queries. users per second: 15922.4</pre>"
      ],
      "text/plain": [
       "recommendations finished on 84000/122533 queries. users per second: 15922.4"
      ]
     },
     "metadata": {},
     "output_type": "display_data"
    },
    {
     "data": {
      "text/html": [
       "<pre>recommendations finished on 85000/122533 queries. users per second: 15923.3</pre>"
      ],
      "text/plain": [
       "recommendations finished on 85000/122533 queries. users per second: 15923.3"
      ]
     },
     "metadata": {},
     "output_type": "display_data"
    },
    {
     "data": {
      "text/html": [
       "<pre>recommendations finished on 86000/122533 queries. users per second: 15924.1</pre>"
      ],
      "text/plain": [
       "recommendations finished on 86000/122533 queries. users per second: 15924.1"
      ]
     },
     "metadata": {},
     "output_type": "display_data"
    },
    {
     "data": {
      "text/html": [
       "<pre>recommendations finished on 87000/122533 queries. users per second: 15924.8</pre>"
      ],
      "text/plain": [
       "recommendations finished on 87000/122533 queries. users per second: 15924.8"
      ]
     },
     "metadata": {},
     "output_type": "display_data"
    },
    {
     "data": {
      "text/html": [
       "<pre>recommendations finished on 88000/122533 queries. users per second: 15925.1</pre>"
      ],
      "text/plain": [
       "recommendations finished on 88000/122533 queries. users per second: 15925.1"
      ]
     },
     "metadata": {},
     "output_type": "display_data"
    },
    {
     "data": {
      "text/html": [
       "<pre>recommendations finished on 89000/122533 queries. users per second: 15925.8</pre>"
      ],
      "text/plain": [
       "recommendations finished on 89000/122533 queries. users per second: 15925.8"
      ]
     },
     "metadata": {},
     "output_type": "display_data"
    },
    {
     "data": {
      "text/html": [
       "<pre>recommendations finished on 90000/122533 queries. users per second: 15927.1</pre>"
      ],
      "text/plain": [
       "recommendations finished on 90000/122533 queries. users per second: 15927.1"
      ]
     },
     "metadata": {},
     "output_type": "display_data"
    },
    {
     "data": {
      "text/html": [
       "<pre>recommendations finished on 91000/122533 queries. users per second: 15927.2</pre>"
      ],
      "text/plain": [
       "recommendations finished on 91000/122533 queries. users per second: 15927.2"
      ]
     },
     "metadata": {},
     "output_type": "display_data"
    },
    {
     "data": {
      "text/html": [
       "<pre>recommendations finished on 92000/122533 queries. users per second: 15928</pre>"
      ],
      "text/plain": [
       "recommendations finished on 92000/122533 queries. users per second: 15928"
      ]
     },
     "metadata": {},
     "output_type": "display_data"
    },
    {
     "data": {
      "text/html": [
       "<pre>recommendations finished on 93000/122533 queries. users per second: 15928.5</pre>"
      ],
      "text/plain": [
       "recommendations finished on 93000/122533 queries. users per second: 15928.5"
      ]
     },
     "metadata": {},
     "output_type": "display_data"
    },
    {
     "data": {
      "text/html": [
       "<pre>recommendations finished on 94000/122533 queries. users per second: 15928.7</pre>"
      ],
      "text/plain": [
       "recommendations finished on 94000/122533 queries. users per second: 15928.7"
      ]
     },
     "metadata": {},
     "output_type": "display_data"
    },
    {
     "data": {
      "text/html": [
       "<pre>recommendations finished on 95000/122533 queries. users per second: 15929.1</pre>"
      ],
      "text/plain": [
       "recommendations finished on 95000/122533 queries. users per second: 15929.1"
      ]
     },
     "metadata": {},
     "output_type": "display_data"
    },
    {
     "data": {
      "text/html": [
       "<pre>recommendations finished on 96000/122533 queries. users per second: 15929.1</pre>"
      ],
      "text/plain": [
       "recommendations finished on 96000/122533 queries. users per second: 15929.1"
      ]
     },
     "metadata": {},
     "output_type": "display_data"
    },
    {
     "data": {
      "text/html": [
       "<pre>recommendations finished on 97000/122533 queries. users per second: 15927.5</pre>"
      ],
      "text/plain": [
       "recommendations finished on 97000/122533 queries. users per second: 15927.5"
      ]
     },
     "metadata": {},
     "output_type": "display_data"
    },
    {
     "data": {
      "text/html": [
       "<pre>recommendations finished on 98000/122533 queries. users per second: 15928.7</pre>"
      ],
      "text/plain": [
       "recommendations finished on 98000/122533 queries. users per second: 15928.7"
      ]
     },
     "metadata": {},
     "output_type": "display_data"
    },
    {
     "data": {
      "text/html": [
       "<pre>recommendations finished on 99000/122533 queries. users per second: 15929.1</pre>"
      ],
      "text/plain": [
       "recommendations finished on 99000/122533 queries. users per second: 15929.1"
      ]
     },
     "metadata": {},
     "output_type": "display_data"
    },
    {
     "data": {
      "text/html": [
       "<pre>recommendations finished on 100000/122533 queries. users per second: 15928.6</pre>"
      ],
      "text/plain": [
       "recommendations finished on 100000/122533 queries. users per second: 15928.6"
      ]
     },
     "metadata": {},
     "output_type": "display_data"
    },
    {
     "data": {
      "text/html": [
       "<pre>recommendations finished on 101000/122533 queries. users per second: 15928.8</pre>"
      ],
      "text/plain": [
       "recommendations finished on 101000/122533 queries. users per second: 15928.8"
      ]
     },
     "metadata": {},
     "output_type": "display_data"
    },
    {
     "data": {
      "text/html": [
       "<pre>recommendations finished on 102000/122533 queries. users per second: 15929.9</pre>"
      ],
      "text/plain": [
       "recommendations finished on 102000/122533 queries. users per second: 15929.9"
      ]
     },
     "metadata": {},
     "output_type": "display_data"
    },
    {
     "data": {
      "text/html": [
       "<pre>recommendations finished on 103000/122533 queries. users per second: 15931.1</pre>"
      ],
      "text/plain": [
       "recommendations finished on 103000/122533 queries. users per second: 15931.1"
      ]
     },
     "metadata": {},
     "output_type": "display_data"
    },
    {
     "data": {
      "text/html": [
       "<pre>recommendations finished on 104000/122533 queries. users per second: 15931.6</pre>"
      ],
      "text/plain": [
       "recommendations finished on 104000/122533 queries. users per second: 15931.6"
      ]
     },
     "metadata": {},
     "output_type": "display_data"
    },
    {
     "data": {
      "text/html": [
       "<pre>recommendations finished on 105000/122533 queries. users per second: 15930.8</pre>"
      ],
      "text/plain": [
       "recommendations finished on 105000/122533 queries. users per second: 15930.8"
      ]
     },
     "metadata": {},
     "output_type": "display_data"
    },
    {
     "data": {
      "text/html": [
       "<pre>recommendations finished on 106000/122533 queries. users per second: 15930.1</pre>"
      ],
      "text/plain": [
       "recommendations finished on 106000/122533 queries. users per second: 15930.1"
      ]
     },
     "metadata": {},
     "output_type": "display_data"
    },
    {
     "data": {
      "text/html": [
       "<pre>recommendations finished on 107000/122533 queries. users per second: 15930.3</pre>"
      ],
      "text/plain": [
       "recommendations finished on 107000/122533 queries. users per second: 15930.3"
      ]
     },
     "metadata": {},
     "output_type": "display_data"
    },
    {
     "data": {
      "text/html": [
       "<pre>recommendations finished on 108000/122533 queries. users per second: 15931.3</pre>"
      ],
      "text/plain": [
       "recommendations finished on 108000/122533 queries. users per second: 15931.3"
      ]
     },
     "metadata": {},
     "output_type": "display_data"
    },
    {
     "data": {
      "text/html": [
       "<pre>recommendations finished on 109000/122533 queries. users per second: 15932.4</pre>"
      ],
      "text/plain": [
       "recommendations finished on 109000/122533 queries. users per second: 15932.4"
      ]
     },
     "metadata": {},
     "output_type": "display_data"
    },
    {
     "data": {
      "text/html": [
       "<pre>recommendations finished on 110000/122533 queries. users per second: 15932.9</pre>"
      ],
      "text/plain": [
       "recommendations finished on 110000/122533 queries. users per second: 15932.9"
      ]
     },
     "metadata": {},
     "output_type": "display_data"
    },
    {
     "data": {
      "text/html": [
       "<pre>recommendations finished on 111000/122533 queries. users per second: 15933.3</pre>"
      ],
      "text/plain": [
       "recommendations finished on 111000/122533 queries. users per second: 15933.3"
      ]
     },
     "metadata": {},
     "output_type": "display_data"
    },
    {
     "data": {
      "text/html": [
       "<pre>recommendations finished on 112000/122533 queries. users per second: 15933.4</pre>"
      ],
      "text/plain": [
       "recommendations finished on 112000/122533 queries. users per second: 15933.4"
      ]
     },
     "metadata": {},
     "output_type": "display_data"
    },
    {
     "data": {
      "text/html": [
       "<pre>recommendations finished on 113000/122533 queries. users per second: 15933.4</pre>"
      ],
      "text/plain": [
       "recommendations finished on 113000/122533 queries. users per second: 15933.4"
      ]
     },
     "metadata": {},
     "output_type": "display_data"
    },
    {
     "data": {
      "text/html": [
       "<pre>recommendations finished on 114000/122533 queries. users per second: 15932.9</pre>"
      ],
      "text/plain": [
       "recommendations finished on 114000/122533 queries. users per second: 15932.9"
      ]
     },
     "metadata": {},
     "output_type": "display_data"
    },
    {
     "data": {
      "text/html": [
       "<pre>recommendations finished on 115000/122533 queries. users per second: 15932.5</pre>"
      ],
      "text/plain": [
       "recommendations finished on 115000/122533 queries. users per second: 15932.5"
      ]
     },
     "metadata": {},
     "output_type": "display_data"
    },
    {
     "data": {
      "text/html": [
       "<pre>recommendations finished on 116000/122533 queries. users per second: 15931.9</pre>"
      ],
      "text/plain": [
       "recommendations finished on 116000/122533 queries. users per second: 15931.9"
      ]
     },
     "metadata": {},
     "output_type": "display_data"
    },
    {
     "data": {
      "text/html": [
       "<pre>recommendations finished on 117000/122533 queries. users per second: 15932.1</pre>"
      ],
      "text/plain": [
       "recommendations finished on 117000/122533 queries. users per second: 15932.1"
      ]
     },
     "metadata": {},
     "output_type": "display_data"
    },
    {
     "data": {
      "text/html": [
       "<pre>recommendations finished on 118000/122533 queries. users per second: 15931.6</pre>"
      ],
      "text/plain": [
       "recommendations finished on 118000/122533 queries. users per second: 15931.6"
      ]
     },
     "metadata": {},
     "output_type": "display_data"
    },
    {
     "data": {
      "text/html": [
       "<pre>recommendations finished on 119000/122533 queries. users per second: 15931.2</pre>"
      ],
      "text/plain": [
       "recommendations finished on 119000/122533 queries. users per second: 15931.2"
      ]
     },
     "metadata": {},
     "output_type": "display_data"
    },
    {
     "data": {
      "text/html": [
       "<pre>recommendations finished on 120000/122533 queries. users per second: 15931.2</pre>"
      ],
      "text/plain": [
       "recommendations finished on 120000/122533 queries. users per second: 15931.2"
      ]
     },
     "metadata": {},
     "output_type": "display_data"
    },
    {
     "data": {
      "text/html": [
       "<pre>recommendations finished on 121000/122533 queries. users per second: 15932.4</pre>"
      ],
      "text/plain": [
       "recommendations finished on 121000/122533 queries. users per second: 15932.4"
      ]
     },
     "metadata": {},
     "output_type": "display_data"
    },
    {
     "data": {
      "text/html": [
       "<pre>recommendations finished on 122000/122533 queries. users per second: 15932.4</pre>"
      ],
      "text/plain": [
       "recommendations finished on 122000/122533 queries. users per second: 15932.4"
      ]
     },
     "metadata": {},
     "output_type": "display_data"
    },
    {
     "name": "stdout",
     "output_type": "stream",
     "text": [
      "+------------+-----------+-----------------------+------+\n",
      "| customerId | productId |         score         | rank |\n",
      "+------------+-----------+-----------------------+------+\n",
      "|     1      |   17440   |  0.02777777115503947  |  1   |\n",
      "|     1      |   43977   |  0.02777777115503947  |  2   |\n",
      "|     1      |    6034   |  0.02222222089767456  |  3   |\n",
      "|     1      |   15145   |  0.02222222089767456  |  4   |\n",
      "|     1      |    595    |  0.020833333333333332 |  5   |\n",
      "|     2      |   23708   |  0.013550142447153727 |  1   |\n",
      "|     2      |   32738   |  0.006734013557434082 |  2   |\n",
      "|     2      |   22433   |  0.006472488244374593 |  3   |\n",
      "|     2      |   40050   |  0.00584795077641805  |  4   |\n",
      "|     2      |   24461   |  0.005108555157979329 |  5   |\n",
      "|     3      |    9861   | 0.0072921812534332275 |  1   |\n",
      "|     3      |   42787   |  0.007282644510269165 |  2   |\n",
      "|     3      |   19852   |  0.005385607481002808 |  3   |\n",
      "|     3      |   53642   |  0.004958689212799072 |  4   |\n",
      "|     3      |   50172   |  0.004638224840164185 |  5   |\n",
      "|     4      |   10277   |  0.013513505458831787 |  1   |\n",
      "|     4      |   51223   |  0.013513505458831787 |  2   |\n",
      "|     4      |   27126   |  0.013513505458831787 |  3   |\n",
      "|     4      |   58322   |  0.013513505458831787 |  4   |\n",
      "|     4      |   15330   |  0.013513505458831787 |  5   |\n",
      "|     5      |    5386   |   0.0555555522441864  |  1   |\n",
      "|     5      |   14798   |  0.04545453190803528  |  2   |\n",
      "|     5      |   45484   |  0.04545453190803528  |  3   |\n",
      "|     5      |   31795   |  0.041666656732559204 |  4   |\n",
      "|     5      |   15238   |  0.041666656732559204 |  5   |\n",
      "|     6      |    6808   |  0.030303028496828945 |  1   |\n",
      "|     6      |   33029   |  0.022727272727272728 |  2   |\n",
      "|     6      |   58456   |  0.022727272727272728 |  3   |\n",
      "|     6      |   56671   |  0.018181817098097366 |  4   |\n",
      "|     6      |   20593   |  0.015151516957716509 |  5   |\n",
      "+------------+-----------+-----------------------+------+\n",
      "[612665 rows x 4 columns]\n",
      "\n"
     ]
    }
   ],
   "source": [
    "# Jaccard\n",
    "name = 'jaccard'\n",
    "target = 'purchase_dummy'\n",
    "#target = 'purchase_count'\n",
    "jacc_dummy = model(train_data_dummy, name, user_id, item_id, target, users_to_recommend, n_rec, n_display)\n"
   ]
  },
  {
   "cell_type": "markdown",
   "metadata": {},
   "source": [
    "## 7. Model Evaluation\n",
    "For evaluating recommendation models, we will use the concept of precision-recall.\n",
    "\n",
    "* Precision\n",
    "    * Also called positive predictive value, is the fraction of relevant instances among the retrieved instances.  \n",
    "    * If 5 products were recommended to the customer out of which he buys 3 of them, then precision is 0.6\n",
    "\n",
    "* Recall\n",
    "    * Also known as sensitivity, is the fraction of the total amount of relevant instances that were actually retrieved.   \n",
    "    * If a customer buys 5 products and the recommendation decided to show 4 of them, then the recall is 0.8\n",
    "    \n",
    "Our aim is to optimize both precision and recall.  \n",
    "Lets compare the models we have built based on precision-recall:  "
   ]
  },
  {
   "cell_type": "code",
   "execution_count": 189,
   "metadata": {},
   "outputs": [],
   "source": [
    "models = [pop_dummy, cos_dummy, pear_dummy, jacc_dummy]\n",
    "names = ['Baseline Popularity Model', 'Cosine Similarity', 'Pearson Similarity', 'Jaccard Similarity']\n"
   ]
  },
  {
   "cell_type": "code",
   "execution_count": 190,
   "metadata": {
    "scrolled": false
   },
   "outputs": [
    {
     "name": "stdout",
     "output_type": "stream",
     "text": [
      "PROGRESS: Evaluate model Baseline Popularity Model\n"
     ]
    },
    {
     "data": {
      "text/html": [
       "<pre>recommendations finished on 1000/85842 queries. users per second: 15429.2</pre>"
      ],
      "text/plain": [
       "recommendations finished on 1000/85842 queries. users per second: 15429.2"
      ]
     },
     "metadata": {},
     "output_type": "display_data"
    },
    {
     "data": {
      "text/html": [
       "<pre>recommendations finished on 2000/85842 queries. users per second: 15949.9</pre>"
      ],
      "text/plain": [
       "recommendations finished on 2000/85842 queries. users per second: 15949.9"
      ]
     },
     "metadata": {},
     "output_type": "display_data"
    },
    {
     "data": {
      "text/html": [
       "<pre>recommendations finished on 3000/85842 queries. users per second: 16152</pre>"
      ],
      "text/plain": [
       "recommendations finished on 3000/85842 queries. users per second: 16152"
      ]
     },
     "metadata": {},
     "output_type": "display_data"
    },
    {
     "data": {
      "text/html": [
       "<pre>recommendations finished on 4000/85842 queries. users per second: 16277</pre>"
      ],
      "text/plain": [
       "recommendations finished on 4000/85842 queries. users per second: 16277"
      ]
     },
     "metadata": {},
     "output_type": "display_data"
    },
    {
     "data": {
      "text/html": [
       "<pre>recommendations finished on 5000/85842 queries. users per second: 16366.3</pre>"
      ],
      "text/plain": [
       "recommendations finished on 5000/85842 queries. users per second: 16366.3"
      ]
     },
     "metadata": {},
     "output_type": "display_data"
    },
    {
     "data": {
      "text/html": [
       "<pre>recommendations finished on 6000/85842 queries. users per second: 16380.2</pre>"
      ],
      "text/plain": [
       "recommendations finished on 6000/85842 queries. users per second: 16380.2"
      ]
     },
     "metadata": {},
     "output_type": "display_data"
    },
    {
     "data": {
      "text/html": [
       "<pre>recommendations finished on 7000/85842 queries. users per second: 16428.6</pre>"
      ],
      "text/plain": [
       "recommendations finished on 7000/85842 queries. users per second: 16428.6"
      ]
     },
     "metadata": {},
     "output_type": "display_data"
    },
    {
     "data": {
      "text/html": [
       "<pre>recommendations finished on 8000/85842 queries. users per second: 16469</pre>"
      ],
      "text/plain": [
       "recommendations finished on 8000/85842 queries. users per second: 16469"
      ]
     },
     "metadata": {},
     "output_type": "display_data"
    },
    {
     "data": {
      "text/html": [
       "<pre>recommendations finished on 9000/85842 queries. users per second: 16499.6</pre>"
      ],
      "text/plain": [
       "recommendations finished on 9000/85842 queries. users per second: 16499.6"
      ]
     },
     "metadata": {},
     "output_type": "display_data"
    },
    {
     "data": {
      "text/html": [
       "<pre>recommendations finished on 10000/85842 queries. users per second: 16522.5</pre>"
      ],
      "text/plain": [
       "recommendations finished on 10000/85842 queries. users per second: 16522.5"
      ]
     },
     "metadata": {},
     "output_type": "display_data"
    },
    {
     "data": {
      "text/html": [
       "<pre>recommendations finished on 11000/85842 queries. users per second: 16542</pre>"
      ],
      "text/plain": [
       "recommendations finished on 11000/85842 queries. users per second: 16542"
      ]
     },
     "metadata": {},
     "output_type": "display_data"
    },
    {
     "data": {
      "text/html": [
       "<pre>recommendations finished on 12000/85842 queries. users per second: 16511</pre>"
      ],
      "text/plain": [
       "recommendations finished on 12000/85842 queries. users per second: 16511"
      ]
     },
     "metadata": {},
     "output_type": "display_data"
    },
    {
     "data": {
      "text/html": [
       "<pre>recommendations finished on 13000/85842 queries. users per second: 16525.4</pre>"
      ],
      "text/plain": [
       "recommendations finished on 13000/85842 queries. users per second: 16525.4"
      ]
     },
     "metadata": {},
     "output_type": "display_data"
    },
    {
     "data": {
      "text/html": [
       "<pre>recommendations finished on 14000/85842 queries. users per second: 16538.5</pre>"
      ],
      "text/plain": [
       "recommendations finished on 14000/85842 queries. users per second: 16538.5"
      ]
     },
     "metadata": {},
     "output_type": "display_data"
    },
    {
     "data": {
      "text/html": [
       "<pre>recommendations finished on 15000/85842 queries. users per second: 16544.7</pre>"
      ],
      "text/plain": [
       "recommendations finished on 15000/85842 queries. users per second: 16544.7"
      ]
     },
     "metadata": {},
     "output_type": "display_data"
    },
    {
     "data": {
      "text/html": [
       "<pre>recommendations finished on 16000/85842 queries. users per second: 16549.5</pre>"
      ],
      "text/plain": [
       "recommendations finished on 16000/85842 queries. users per second: 16549.5"
      ]
     },
     "metadata": {},
     "output_type": "display_data"
    },
    {
     "data": {
      "text/html": [
       "<pre>recommendations finished on 17000/85842 queries. users per second: 16543.1</pre>"
      ],
      "text/plain": [
       "recommendations finished on 17000/85842 queries. users per second: 16543.1"
      ]
     },
     "metadata": {},
     "output_type": "display_data"
    },
    {
     "data": {
      "text/html": [
       "<pre>recommendations finished on 18000/85842 queries. users per second: 16551.7</pre>"
      ],
      "text/plain": [
       "recommendations finished on 18000/85842 queries. users per second: 16551.7"
      ]
     },
     "metadata": {},
     "output_type": "display_data"
    },
    {
     "data": {
      "text/html": [
       "<pre>recommendations finished on 19000/85842 queries. users per second: 16558.3</pre>"
      ],
      "text/plain": [
       "recommendations finished on 19000/85842 queries. users per second: 16558.3"
      ]
     },
     "metadata": {},
     "output_type": "display_data"
    },
    {
     "data": {
      "text/html": [
       "<pre>recommendations finished on 20000/85842 queries. users per second: 16565</pre>"
      ],
      "text/plain": [
       "recommendations finished on 20000/85842 queries. users per second: 16565"
      ]
     },
     "metadata": {},
     "output_type": "display_data"
    },
    {
     "data": {
      "text/html": [
       "<pre>recommendations finished on 21000/85842 queries. users per second: 16568.5</pre>"
      ],
      "text/plain": [
       "recommendations finished on 21000/85842 queries. users per second: 16568.5"
      ]
     },
     "metadata": {},
     "output_type": "display_data"
    },
    {
     "data": {
      "text/html": [
       "<pre>recommendations finished on 22000/85842 queries. users per second: 16575.7</pre>"
      ],
      "text/plain": [
       "recommendations finished on 22000/85842 queries. users per second: 16575.7"
      ]
     },
     "metadata": {},
     "output_type": "display_data"
    },
    {
     "data": {
      "text/html": [
       "<pre>recommendations finished on 23000/85842 queries. users per second: 16544.5</pre>"
      ],
      "text/plain": [
       "recommendations finished on 23000/85842 queries. users per second: 16544.5"
      ]
     },
     "metadata": {},
     "output_type": "display_data"
    },
    {
     "data": {
      "text/html": [
       "<pre>recommendations finished on 24000/85842 queries. users per second: 16549</pre>"
      ],
      "text/plain": [
       "recommendations finished on 24000/85842 queries. users per second: 16549"
      ]
     },
     "metadata": {},
     "output_type": "display_data"
    },
    {
     "data": {
      "text/html": [
       "<pre>recommendations finished on 25000/85842 queries. users per second: 16557</pre>"
      ],
      "text/plain": [
       "recommendations finished on 25000/85842 queries. users per second: 16557"
      ]
     },
     "metadata": {},
     "output_type": "display_data"
    },
    {
     "data": {
      "text/html": [
       "<pre>recommendations finished on 26000/85842 queries. users per second: 16567</pre>"
      ],
      "text/plain": [
       "recommendations finished on 26000/85842 queries. users per second: 16567"
      ]
     },
     "metadata": {},
     "output_type": "display_data"
    },
    {
     "data": {
      "text/html": [
       "<pre>recommendations finished on 27000/85842 queries. users per second: 16576.1</pre>"
      ],
      "text/plain": [
       "recommendations finished on 27000/85842 queries. users per second: 16576.1"
      ]
     },
     "metadata": {},
     "output_type": "display_data"
    },
    {
     "data": {
      "text/html": [
       "<pre>recommendations finished on 28000/85842 queries. users per second: 16575.5</pre>"
      ],
      "text/plain": [
       "recommendations finished on 28000/85842 queries. users per second: 16575.5"
      ]
     },
     "metadata": {},
     "output_type": "display_data"
    },
    {
     "data": {
      "text/html": [
       "<pre>recommendations finished on 29000/85842 queries. users per second: 16580.4</pre>"
      ],
      "text/plain": [
       "recommendations finished on 29000/85842 queries. users per second: 16580.4"
      ]
     },
     "metadata": {},
     "output_type": "display_data"
    },
    {
     "data": {
      "text/html": [
       "<pre>recommendations finished on 30000/85842 queries. users per second: 16586.4</pre>"
      ],
      "text/plain": [
       "recommendations finished on 30000/85842 queries. users per second: 16586.4"
      ]
     },
     "metadata": {},
     "output_type": "display_data"
    },
    {
     "data": {
      "text/html": [
       "<pre>recommendations finished on 31000/85842 queries. users per second: 16593</pre>"
      ],
      "text/plain": [
       "recommendations finished on 31000/85842 queries. users per second: 16593"
      ]
     },
     "metadata": {},
     "output_type": "display_data"
    },
    {
     "data": {
      "text/html": [
       "<pre>recommendations finished on 32000/85842 queries. users per second: 16595.1</pre>"
      ],
      "text/plain": [
       "recommendations finished on 32000/85842 queries. users per second: 16595.1"
      ]
     },
     "metadata": {},
     "output_type": "display_data"
    },
    {
     "data": {
      "text/html": [
       "<pre>recommendations finished on 33000/85842 queries. users per second: 16601.2</pre>"
      ],
      "text/plain": [
       "recommendations finished on 33000/85842 queries. users per second: 16601.2"
      ]
     },
     "metadata": {},
     "output_type": "display_data"
    },
    {
     "data": {
      "text/html": [
       "<pre>recommendations finished on 34000/85842 queries. users per second: 16605.5</pre>"
      ],
      "text/plain": [
       "recommendations finished on 34000/85842 queries. users per second: 16605.5"
      ]
     },
     "metadata": {},
     "output_type": "display_data"
    },
    {
     "data": {
      "text/html": [
       "<pre>recommendations finished on 35000/85842 queries. users per second: 16608</pre>"
      ],
      "text/plain": [
       "recommendations finished on 35000/85842 queries. users per second: 16608"
      ]
     },
     "metadata": {},
     "output_type": "display_data"
    },
    {
     "data": {
      "text/html": [
       "<pre>recommendations finished on 36000/85842 queries. users per second: 16612.3</pre>"
      ],
      "text/plain": [
       "recommendations finished on 36000/85842 queries. users per second: 16612.3"
      ]
     },
     "metadata": {},
     "output_type": "display_data"
    },
    {
     "data": {
      "text/html": [
       "<pre>recommendations finished on 37000/85842 queries. users per second: 16615</pre>"
      ],
      "text/plain": [
       "recommendations finished on 37000/85842 queries. users per second: 16615"
      ]
     },
     "metadata": {},
     "output_type": "display_data"
    },
    {
     "data": {
      "text/html": [
       "<pre>recommendations finished on 38000/85842 queries. users per second: 16617.7</pre>"
      ],
      "text/plain": [
       "recommendations finished on 38000/85842 queries. users per second: 16617.7"
      ]
     },
     "metadata": {},
     "output_type": "display_data"
    },
    {
     "data": {
      "text/html": [
       "<pre>recommendations finished on 39000/85842 queries. users per second: 16620</pre>"
      ],
      "text/plain": [
       "recommendations finished on 39000/85842 queries. users per second: 16620"
      ]
     },
     "metadata": {},
     "output_type": "display_data"
    },
    {
     "data": {
      "text/html": [
       "<pre>recommendations finished on 40000/85842 queries. users per second: 16621.1</pre>"
      ],
      "text/plain": [
       "recommendations finished on 40000/85842 queries. users per second: 16621.1"
      ]
     },
     "metadata": {},
     "output_type": "display_data"
    },
    {
     "data": {
      "text/html": [
       "<pre>recommendations finished on 41000/85842 queries. users per second: 16623.4</pre>"
      ],
      "text/plain": [
       "recommendations finished on 41000/85842 queries. users per second: 16623.4"
      ]
     },
     "metadata": {},
     "output_type": "display_data"
    },
    {
     "data": {
      "text/html": [
       "<pre>recommendations finished on 42000/85842 queries. users per second: 16624.7</pre>"
      ],
      "text/plain": [
       "recommendations finished on 42000/85842 queries. users per second: 16624.7"
      ]
     },
     "metadata": {},
     "output_type": "display_data"
    },
    {
     "data": {
      "text/html": [
       "<pre>recommendations finished on 43000/85842 queries. users per second: 16626.8</pre>"
      ],
      "text/plain": [
       "recommendations finished on 43000/85842 queries. users per second: 16626.8"
      ]
     },
     "metadata": {},
     "output_type": "display_data"
    },
    {
     "data": {
      "text/html": [
       "<pre>recommendations finished on 44000/85842 queries. users per second: 16629.3</pre>"
      ],
      "text/plain": [
       "recommendations finished on 44000/85842 queries. users per second: 16629.3"
      ]
     },
     "metadata": {},
     "output_type": "display_data"
    },
    {
     "data": {
      "text/html": [
       "<pre>recommendations finished on 45000/85842 queries. users per second: 16632</pre>"
      ],
      "text/plain": [
       "recommendations finished on 45000/85842 queries. users per second: 16632"
      ]
     },
     "metadata": {},
     "output_type": "display_data"
    },
    {
     "data": {
      "text/html": [
       "<pre>recommendations finished on 46000/85842 queries. users per second: 16583.2</pre>"
      ],
      "text/plain": [
       "recommendations finished on 46000/85842 queries. users per second: 16583.2"
      ]
     },
     "metadata": {},
     "output_type": "display_data"
    },
    {
     "data": {
      "text/html": [
       "<pre>recommendations finished on 47000/85842 queries. users per second: 16576.5</pre>"
      ],
      "text/plain": [
       "recommendations finished on 47000/85842 queries. users per second: 16576.5"
      ]
     },
     "metadata": {},
     "output_type": "display_data"
    },
    {
     "data": {
      "text/html": [
       "<pre>recommendations finished on 48000/85842 queries. users per second: 16579</pre>"
      ],
      "text/plain": [
       "recommendations finished on 48000/85842 queries. users per second: 16579"
      ]
     },
     "metadata": {},
     "output_type": "display_data"
    },
    {
     "data": {
      "text/html": [
       "<pre>recommendations finished on 49000/85842 queries. users per second: 16581.7</pre>"
      ],
      "text/plain": [
       "recommendations finished on 49000/85842 queries. users per second: 16581.7"
      ]
     },
     "metadata": {},
     "output_type": "display_data"
    },
    {
     "data": {
      "text/html": [
       "<pre>recommendations finished on 50000/85842 queries. users per second: 16583.2</pre>"
      ],
      "text/plain": [
       "recommendations finished on 50000/85842 queries. users per second: 16583.2"
      ]
     },
     "metadata": {},
     "output_type": "display_data"
    },
    {
     "data": {
      "text/html": [
       "<pre>recommendations finished on 51000/85842 queries. users per second: 16581.4</pre>"
      ],
      "text/plain": [
       "recommendations finished on 51000/85842 queries. users per second: 16581.4"
      ]
     },
     "metadata": {},
     "output_type": "display_data"
    },
    {
     "data": {
      "text/html": [
       "<pre>recommendations finished on 52000/85842 queries. users per second: 16580.7</pre>"
      ],
      "text/plain": [
       "recommendations finished on 52000/85842 queries. users per second: 16580.7"
      ]
     },
     "metadata": {},
     "output_type": "display_data"
    },
    {
     "data": {
      "text/html": [
       "<pre>recommendations finished on 53000/85842 queries. users per second: 16583.3</pre>"
      ],
      "text/plain": [
       "recommendations finished on 53000/85842 queries. users per second: 16583.3"
      ]
     },
     "metadata": {},
     "output_type": "display_data"
    },
    {
     "data": {
      "text/html": [
       "<pre>recommendations finished on 54000/85842 queries. users per second: 16586.1</pre>"
      ],
      "text/plain": [
       "recommendations finished on 54000/85842 queries. users per second: 16586.1"
      ]
     },
     "metadata": {},
     "output_type": "display_data"
    },
    {
     "data": {
      "text/html": [
       "<pre>recommendations finished on 55000/85842 queries. users per second: 16589.2</pre>"
      ],
      "text/plain": [
       "recommendations finished on 55000/85842 queries. users per second: 16589.2"
      ]
     },
     "metadata": {},
     "output_type": "display_data"
    },
    {
     "data": {
      "text/html": [
       "<pre>recommendations finished on 56000/85842 queries. users per second: 16593.6</pre>"
      ],
      "text/plain": [
       "recommendations finished on 56000/85842 queries. users per second: 16593.6"
      ]
     },
     "metadata": {},
     "output_type": "display_data"
    },
    {
     "data": {
      "text/html": [
       "<pre>recommendations finished on 57000/85842 queries. users per second: 16598.2</pre>"
      ],
      "text/plain": [
       "recommendations finished on 57000/85842 queries. users per second: 16598.2"
      ]
     },
     "metadata": {},
     "output_type": "display_data"
    },
    {
     "data": {
      "text/html": [
       "<pre>recommendations finished on 58000/85842 queries. users per second: 16602.5</pre>"
      ],
      "text/plain": [
       "recommendations finished on 58000/85842 queries. users per second: 16602.5"
      ]
     },
     "metadata": {},
     "output_type": "display_data"
    },
    {
     "data": {
      "text/html": [
       "<pre>recommendations finished on 59000/85842 queries. users per second: 16605.7</pre>"
      ],
      "text/plain": [
       "recommendations finished on 59000/85842 queries. users per second: 16605.7"
      ]
     },
     "metadata": {},
     "output_type": "display_data"
    },
    {
     "data": {
      "text/html": [
       "<pre>recommendations finished on 60000/85842 queries. users per second: 16608.4</pre>"
      ],
      "text/plain": [
       "recommendations finished on 60000/85842 queries. users per second: 16608.4"
      ]
     },
     "metadata": {},
     "output_type": "display_data"
    },
    {
     "data": {
      "text/html": [
       "<pre>recommendations finished on 61000/85842 queries. users per second: 16611.2</pre>"
      ],
      "text/plain": [
       "recommendations finished on 61000/85842 queries. users per second: 16611.2"
      ]
     },
     "metadata": {},
     "output_type": "display_data"
    },
    {
     "data": {
      "text/html": [
       "<pre>recommendations finished on 62000/85842 queries. users per second: 16612.4</pre>"
      ],
      "text/plain": [
       "recommendations finished on 62000/85842 queries. users per second: 16612.4"
      ]
     },
     "metadata": {},
     "output_type": "display_data"
    },
    {
     "data": {
      "text/html": [
       "<pre>recommendations finished on 63000/85842 queries. users per second: 16613.7</pre>"
      ],
      "text/plain": [
       "recommendations finished on 63000/85842 queries. users per second: 16613.7"
      ]
     },
     "metadata": {},
     "output_type": "display_data"
    },
    {
     "data": {
      "text/html": [
       "<pre>recommendations finished on 64000/85842 queries. users per second: 16615.4</pre>"
      ],
      "text/plain": [
       "recommendations finished on 64000/85842 queries. users per second: 16615.4"
      ]
     },
     "metadata": {},
     "output_type": "display_data"
    },
    {
     "data": {
      "text/html": [
       "<pre>recommendations finished on 65000/85842 queries. users per second: 16617.7</pre>"
      ],
      "text/plain": [
       "recommendations finished on 65000/85842 queries. users per second: 16617.7"
      ]
     },
     "metadata": {},
     "output_type": "display_data"
    },
    {
     "data": {
      "text/html": [
       "<pre>recommendations finished on 66000/85842 queries. users per second: 16618.5</pre>"
      ],
      "text/plain": [
       "recommendations finished on 66000/85842 queries. users per second: 16618.5"
      ]
     },
     "metadata": {},
     "output_type": "display_data"
    },
    {
     "data": {
      "text/html": [
       "<pre>recommendations finished on 67000/85842 queries. users per second: 16620.5</pre>"
      ],
      "text/plain": [
       "recommendations finished on 67000/85842 queries. users per second: 16620.5"
      ]
     },
     "metadata": {},
     "output_type": "display_data"
    },
    {
     "data": {
      "text/html": [
       "<pre>recommendations finished on 68000/85842 queries. users per second: 16621.4</pre>"
      ],
      "text/plain": [
       "recommendations finished on 68000/85842 queries. users per second: 16621.4"
      ]
     },
     "metadata": {},
     "output_type": "display_data"
    },
    {
     "data": {
      "text/html": [
       "<pre>recommendations finished on 69000/85842 queries. users per second: 16622.5</pre>"
      ],
      "text/plain": [
       "recommendations finished on 69000/85842 queries. users per second: 16622.5"
      ]
     },
     "metadata": {},
     "output_type": "display_data"
    },
    {
     "data": {
      "text/html": [
       "<pre>recommendations finished on 70000/85842 queries. users per second: 16620.9</pre>"
      ],
      "text/plain": [
       "recommendations finished on 70000/85842 queries. users per second: 16620.9"
      ]
     },
     "metadata": {},
     "output_type": "display_data"
    },
    {
     "data": {
      "text/html": [
       "<pre>recommendations finished on 71000/85842 queries. users per second: 16621.3</pre>"
      ],
      "text/plain": [
       "recommendations finished on 71000/85842 queries. users per second: 16621.3"
      ]
     },
     "metadata": {},
     "output_type": "display_data"
    },
    {
     "data": {
      "text/html": [
       "<pre>recommendations finished on 72000/85842 queries. users per second: 16623</pre>"
      ],
      "text/plain": [
       "recommendations finished on 72000/85842 queries. users per second: 16623"
      ]
     },
     "metadata": {},
     "output_type": "display_data"
    },
    {
     "data": {
      "text/html": [
       "<pre>recommendations finished on 73000/85842 queries. users per second: 16622.4</pre>"
      ],
      "text/plain": [
       "recommendations finished on 73000/85842 queries. users per second: 16622.4"
      ]
     },
     "metadata": {},
     "output_type": "display_data"
    },
    {
     "data": {
      "text/html": [
       "<pre>recommendations finished on 74000/85842 queries. users per second: 16623.5</pre>"
      ],
      "text/plain": [
       "recommendations finished on 74000/85842 queries. users per second: 16623.5"
      ]
     },
     "metadata": {},
     "output_type": "display_data"
    },
    {
     "data": {
      "text/html": [
       "<pre>recommendations finished on 75000/85842 queries. users per second: 16624.8</pre>"
      ],
      "text/plain": [
       "recommendations finished on 75000/85842 queries. users per second: 16624.8"
      ]
     },
     "metadata": {},
     "output_type": "display_data"
    },
    {
     "data": {
      "text/html": [
       "<pre>recommendations finished on 76000/85842 queries. users per second: 16626.1</pre>"
      ],
      "text/plain": [
       "recommendations finished on 76000/85842 queries. users per second: 16626.1"
      ]
     },
     "metadata": {},
     "output_type": "display_data"
    },
    {
     "data": {
      "text/html": [
       "<pre>recommendations finished on 77000/85842 queries. users per second: 16627</pre>"
      ],
      "text/plain": [
       "recommendations finished on 77000/85842 queries. users per second: 16627"
      ]
     },
     "metadata": {},
     "output_type": "display_data"
    },
    {
     "data": {
      "text/html": [
       "<pre>recommendations finished on 78000/85842 queries. users per second: 16625.8</pre>"
      ],
      "text/plain": [
       "recommendations finished on 78000/85842 queries. users per second: 16625.8"
      ]
     },
     "metadata": {},
     "output_type": "display_data"
    },
    {
     "data": {
      "text/html": [
       "<pre>recommendations finished on 79000/85842 queries. users per second: 16622.8</pre>"
      ],
      "text/plain": [
       "recommendations finished on 79000/85842 queries. users per second: 16622.8"
      ]
     },
     "metadata": {},
     "output_type": "display_data"
    },
    {
     "data": {
      "text/html": [
       "<pre>recommendations finished on 80000/85842 queries. users per second: 16623.4</pre>"
      ],
      "text/plain": [
       "recommendations finished on 80000/85842 queries. users per second: 16623.4"
      ]
     },
     "metadata": {},
     "output_type": "display_data"
    },
    {
     "data": {
      "text/html": [
       "<pre>recommendations finished on 81000/85842 queries. users per second: 16623.9</pre>"
      ],
      "text/plain": [
       "recommendations finished on 81000/85842 queries. users per second: 16623.9"
      ]
     },
     "metadata": {},
     "output_type": "display_data"
    },
    {
     "data": {
      "text/html": [
       "<pre>recommendations finished on 82000/85842 queries. users per second: 16625.5</pre>"
      ],
      "text/plain": [
       "recommendations finished on 82000/85842 queries. users per second: 16625.5"
      ]
     },
     "metadata": {},
     "output_type": "display_data"
    },
    {
     "data": {
      "text/html": [
       "<pre>recommendations finished on 83000/85842 queries. users per second: 16626.5</pre>"
      ],
      "text/plain": [
       "recommendations finished on 83000/85842 queries. users per second: 16626.5"
      ]
     },
     "metadata": {},
     "output_type": "display_data"
    },
    {
     "data": {
      "text/html": [
       "<pre>recommendations finished on 84000/85842 queries. users per second: 16627.1</pre>"
      ],
      "text/plain": [
       "recommendations finished on 84000/85842 queries. users per second: 16627.1"
      ]
     },
     "metadata": {},
     "output_type": "display_data"
    },
    {
     "data": {
      "text/html": [
       "<pre>recommendations finished on 85000/85842 queries. users per second: 16628</pre>"
      ],
      "text/plain": [
       "recommendations finished on 85000/85842 queries. users per second: 16628"
      ]
     },
     "metadata": {},
     "output_type": "display_data"
    },
    {
     "name": "stdout",
     "output_type": "stream",
     "text": [
      "\n",
      "Precision and recall summary statistics by cutoff\n",
      "+--------+------------------------+------------------------+\n",
      "| cutoff |     mean_precision     |      mean_recall       |\n",
      "+--------+------------------------+------------------------+\n",
      "|   1    | 2.3298618391929365e-05 | 9.707757663303904e-06  |\n",
      "|   2    | 1.1649309195964682e-05 | 9.707757663303908e-06  |\n",
      "|   3    | 1.164930919596466e-05  | 1.1371944691298866e-05 |\n",
      "|   4    | 8.736981896973541e-06  | 1.1371944691298809e-05 |\n",
      "|   5    | 6.989585517578789e-06  | 1.1371944691298826e-05 |\n",
      "|   6    | 9.707757663303904e-06  | 2.4186184806859962e-05 |\n",
      "|   7    | 1.1649309195964688e-05 | 3.971859706814611e-05  |\n",
      "|   8    | 1.3105472845460233e-05 | 4.5543251666128706e-05 |\n",
      "|   9    | 1.2943676884405236e-05 |  5.13679062641109e-05  |\n",
      "|   10   | 1.1649309195964667e-05 | 5.136790626411092e-05  |\n",
      "+--------+------------------------+------------------------+\n",
      "[10 rows x 3 columns]\n",
      "\n",
      "\n",
      "Overall RMSE: 0.0\n",
      "\n",
      "Per User RMSE (best)\n",
      "+------------+------+-------+\n",
      "| customerId | rmse | count |\n",
      "+------------+------+-------+\n",
      "|   78571    | 0.0  |   4   |\n",
      "+------------+------+-------+\n",
      "[1 rows x 3 columns]\n",
      "\n",
      "\n",
      "Per User RMSE (worst)\n",
      "+------------+------+-------+\n",
      "| customerId | rmse | count |\n",
      "+------------+------+-------+\n",
      "|   79732    | 0.0  |   5   |\n",
      "+------------+------+-------+\n",
      "[1 rows x 3 columns]\n",
      "\n",
      "\n",
      "Per Item RMSE (best)\n",
      "+-----------+------+-------+\n",
      "| productId | rmse | count |\n",
      "+-----------+------+-------+\n",
      "|   53363   | 0.0  |   1   |\n",
      "+-----------+------+-------+\n",
      "[1 rows x 3 columns]\n",
      "\n",
      "\n",
      "Per Item RMSE (worst)\n",
      "+-----------+------+-------+\n",
      "| productId | rmse | count |\n",
      "+-----------+------+-------+\n",
      "|    7899   | 0.0  |   1   |\n",
      "+-----------+------+-------+\n",
      "[1 rows x 3 columns]\n",
      "\n",
      "PROGRESS: Evaluate model Cosine Similarity\n"
     ]
    },
    {
     "data": {
      "text/html": [
       "<pre>recommendations finished on 1000/85842 queries. users per second: 12801.6</pre>"
      ],
      "text/plain": [
       "recommendations finished on 1000/85842 queries. users per second: 12801.6"
      ]
     },
     "metadata": {},
     "output_type": "display_data"
    },
    {
     "data": {
      "text/html": [
       "<pre>recommendations finished on 2000/85842 queries. users per second: 13197.1</pre>"
      ],
      "text/plain": [
       "recommendations finished on 2000/85842 queries. users per second: 13197.1"
      ]
     },
     "metadata": {},
     "output_type": "display_data"
    },
    {
     "data": {
      "text/html": [
       "<pre>recommendations finished on 3000/85842 queries. users per second: 13314.2</pre>"
      ],
      "text/plain": [
       "recommendations finished on 3000/85842 queries. users per second: 13314.2"
      ]
     },
     "metadata": {},
     "output_type": "display_data"
    },
    {
     "data": {
      "text/html": [
       "<pre>recommendations finished on 4000/85842 queries. users per second: 13387.9</pre>"
      ],
      "text/plain": [
       "recommendations finished on 4000/85842 queries. users per second: 13387.9"
      ]
     },
     "metadata": {},
     "output_type": "display_data"
    },
    {
     "data": {
      "text/html": [
       "<pre>recommendations finished on 5000/85842 queries. users per second: 13436.9</pre>"
      ],
      "text/plain": [
       "recommendations finished on 5000/85842 queries. users per second: 13436.9"
      ]
     },
     "metadata": {},
     "output_type": "display_data"
    },
    {
     "data": {
      "text/html": [
       "<pre>recommendations finished on 6000/85842 queries. users per second: 13418.4</pre>"
      ],
      "text/plain": [
       "recommendations finished on 6000/85842 queries. users per second: 13418.4"
      ]
     },
     "metadata": {},
     "output_type": "display_data"
    },
    {
     "data": {
      "text/html": [
       "<pre>recommendations finished on 7000/85842 queries. users per second: 13460</pre>"
      ],
      "text/plain": [
       "recommendations finished on 7000/85842 queries. users per second: 13460"
      ]
     },
     "metadata": {},
     "output_type": "display_data"
    },
    {
     "data": {
      "text/html": [
       "<pre>recommendations finished on 8000/85842 queries. users per second: 13494</pre>"
      ],
      "text/plain": [
       "recommendations finished on 8000/85842 queries. users per second: 13494"
      ]
     },
     "metadata": {},
     "output_type": "display_data"
    },
    {
     "data": {
      "text/html": [
       "<pre>recommendations finished on 9000/85842 queries. users per second: 13516.9</pre>"
      ],
      "text/plain": [
       "recommendations finished on 9000/85842 queries. users per second: 13516.9"
      ]
     },
     "metadata": {},
     "output_type": "display_data"
    },
    {
     "data": {
      "text/html": [
       "<pre>recommendations finished on 10000/85842 queries. users per second: 13534.2</pre>"
      ],
      "text/plain": [
       "recommendations finished on 10000/85842 queries. users per second: 13534.2"
      ]
     },
     "metadata": {},
     "output_type": "display_data"
    },
    {
     "data": {
      "text/html": [
       "<pre>recommendations finished on 11000/85842 queries. users per second: 13540.4</pre>"
      ],
      "text/plain": [
       "recommendations finished on 11000/85842 queries. users per second: 13540.4"
      ]
     },
     "metadata": {},
     "output_type": "display_data"
    },
    {
     "data": {
      "text/html": [
       "<pre>recommendations finished on 12000/85842 queries. users per second: 13532</pre>"
      ],
      "text/plain": [
       "recommendations finished on 12000/85842 queries. users per second: 13532"
      ]
     },
     "metadata": {},
     "output_type": "display_data"
    },
    {
     "data": {
      "text/html": [
       "<pre>recommendations finished on 13000/85842 queries. users per second: 13542.4</pre>"
      ],
      "text/plain": [
       "recommendations finished on 13000/85842 queries. users per second: 13542.4"
      ]
     },
     "metadata": {},
     "output_type": "display_data"
    },
    {
     "data": {
      "text/html": [
       "<pre>recommendations finished on 14000/85842 queries. users per second: 13554.1</pre>"
      ],
      "text/plain": [
       "recommendations finished on 14000/85842 queries. users per second: 13554.1"
      ]
     },
     "metadata": {},
     "output_type": "display_data"
    },
    {
     "data": {
      "text/html": [
       "<pre>recommendations finished on 15000/85842 queries. users per second: 13561.8</pre>"
      ],
      "text/plain": [
       "recommendations finished on 15000/85842 queries. users per second: 13561.8"
      ]
     },
     "metadata": {},
     "output_type": "display_data"
    },
    {
     "data": {
      "text/html": [
       "<pre>recommendations finished on 16000/85842 queries. users per second: 13570.7</pre>"
      ],
      "text/plain": [
       "recommendations finished on 16000/85842 queries. users per second: 13570.7"
      ]
     },
     "metadata": {},
     "output_type": "display_data"
    },
    {
     "data": {
      "text/html": [
       "<pre>recommendations finished on 17000/85842 queries. users per second: 13567.8</pre>"
      ],
      "text/plain": [
       "recommendations finished on 17000/85842 queries. users per second: 13567.8"
      ]
     },
     "metadata": {},
     "output_type": "display_data"
    },
    {
     "data": {
      "text/html": [
       "<pre>recommendations finished on 18000/85842 queries. users per second: 13571.5</pre>"
      ],
      "text/plain": [
       "recommendations finished on 18000/85842 queries. users per second: 13571.5"
      ]
     },
     "metadata": {},
     "output_type": "display_data"
    },
    {
     "data": {
      "text/html": [
       "<pre>recommendations finished on 19000/85842 queries. users per second: 13579.9</pre>"
      ],
      "text/plain": [
       "recommendations finished on 19000/85842 queries. users per second: 13579.9"
      ]
     },
     "metadata": {},
     "output_type": "display_data"
    },
    {
     "data": {
      "text/html": [
       "<pre>recommendations finished on 20000/85842 queries. users per second: 13582.9</pre>"
      ],
      "text/plain": [
       "recommendations finished on 20000/85842 queries. users per second: 13582.9"
      ]
     },
     "metadata": {},
     "output_type": "display_data"
    },
    {
     "data": {
      "text/html": [
       "<pre>recommendations finished on 21000/85842 queries. users per second: 13582.8</pre>"
      ],
      "text/plain": [
       "recommendations finished on 21000/85842 queries. users per second: 13582.8"
      ]
     },
     "metadata": {},
     "output_type": "display_data"
    },
    {
     "data": {
      "text/html": [
       "<pre>recommendations finished on 22000/85842 queries. users per second: 13583.2</pre>"
      ],
      "text/plain": [
       "recommendations finished on 22000/85842 queries. users per second: 13583.2"
      ]
     },
     "metadata": {},
     "output_type": "display_data"
    },
    {
     "data": {
      "text/html": [
       "<pre>recommendations finished on 23000/85842 queries. users per second: 13570.8</pre>"
      ],
      "text/plain": [
       "recommendations finished on 23000/85842 queries. users per second: 13570.8"
      ]
     },
     "metadata": {},
     "output_type": "display_data"
    },
    {
     "data": {
      "text/html": [
       "<pre>recommendations finished on 24000/85842 queries. users per second: 13571.7</pre>"
      ],
      "text/plain": [
       "recommendations finished on 24000/85842 queries. users per second: 13571.7"
      ]
     },
     "metadata": {},
     "output_type": "display_data"
    },
    {
     "data": {
      "text/html": [
       "<pre>recommendations finished on 25000/85842 queries. users per second: 13579.9</pre>"
      ],
      "text/plain": [
       "recommendations finished on 25000/85842 queries. users per second: 13579.9"
      ]
     },
     "metadata": {},
     "output_type": "display_data"
    },
    {
     "data": {
      "text/html": [
       "<pre>recommendations finished on 26000/85842 queries. users per second: 13584.6</pre>"
      ],
      "text/plain": [
       "recommendations finished on 26000/85842 queries. users per second: 13584.6"
      ]
     },
     "metadata": {},
     "output_type": "display_data"
    },
    {
     "data": {
      "text/html": [
       "<pre>recommendations finished on 27000/85842 queries. users per second: 13589.8</pre>"
      ],
      "text/plain": [
       "recommendations finished on 27000/85842 queries. users per second: 13589.8"
      ]
     },
     "metadata": {},
     "output_type": "display_data"
    },
    {
     "data": {
      "text/html": [
       "<pre>recommendations finished on 28000/85842 queries. users per second: 13588.1</pre>"
      ],
      "text/plain": [
       "recommendations finished on 28000/85842 queries. users per second: 13588.1"
      ]
     },
     "metadata": {},
     "output_type": "display_data"
    },
    {
     "data": {
      "text/html": [
       "<pre>recommendations finished on 29000/85842 queries. users per second: 13590.5</pre>"
      ],
      "text/plain": [
       "recommendations finished on 29000/85842 queries. users per second: 13590.5"
      ]
     },
     "metadata": {},
     "output_type": "display_data"
    },
    {
     "data": {
      "text/html": [
       "<pre>recommendations finished on 30000/85842 queries. users per second: 13594.5</pre>"
      ],
      "text/plain": [
       "recommendations finished on 30000/85842 queries. users per second: 13594.5"
      ]
     },
     "metadata": {},
     "output_type": "display_data"
    },
    {
     "data": {
      "text/html": [
       "<pre>recommendations finished on 31000/85842 queries. users per second: 13598.7</pre>"
      ],
      "text/plain": [
       "recommendations finished on 31000/85842 queries. users per second: 13598.7"
      ]
     },
     "metadata": {},
     "output_type": "display_data"
    },
    {
     "data": {
      "text/html": [
       "<pre>recommendations finished on 32000/85842 queries. users per second: 13600.9</pre>"
      ],
      "text/plain": [
       "recommendations finished on 32000/85842 queries. users per second: 13600.9"
      ]
     },
     "metadata": {},
     "output_type": "display_data"
    },
    {
     "data": {
      "text/html": [
       "<pre>recommendations finished on 33000/85842 queries. users per second: 13601.4</pre>"
      ],
      "text/plain": [
       "recommendations finished on 33000/85842 queries. users per second: 13601.4"
      ]
     },
     "metadata": {},
     "output_type": "display_data"
    },
    {
     "data": {
      "text/html": [
       "<pre>recommendations finished on 34000/85842 queries. users per second: 13603.5</pre>"
      ],
      "text/plain": [
       "recommendations finished on 34000/85842 queries. users per second: 13603.5"
      ]
     },
     "metadata": {},
     "output_type": "display_data"
    },
    {
     "data": {
      "text/html": [
       "<pre>recommendations finished on 35000/85842 queries. users per second: 13601.9</pre>"
      ],
      "text/plain": [
       "recommendations finished on 35000/85842 queries. users per second: 13601.9"
      ]
     },
     "metadata": {},
     "output_type": "display_data"
    },
    {
     "data": {
      "text/html": [
       "<pre>recommendations finished on 36000/85842 queries. users per second: 13605.4</pre>"
      ],
      "text/plain": [
       "recommendations finished on 36000/85842 queries. users per second: 13605.4"
      ]
     },
     "metadata": {},
     "output_type": "display_data"
    },
    {
     "data": {
      "text/html": [
       "<pre>recommendations finished on 37000/85842 queries. users per second: 13609.9</pre>"
      ],
      "text/plain": [
       "recommendations finished on 37000/85842 queries. users per second: 13609.9"
      ]
     },
     "metadata": {},
     "output_type": "display_data"
    },
    {
     "data": {
      "text/html": [
       "<pre>recommendations finished on 38000/85842 queries. users per second: 13611.7</pre>"
      ],
      "text/plain": [
       "recommendations finished on 38000/85842 queries. users per second: 13611.7"
      ]
     },
     "metadata": {},
     "output_type": "display_data"
    },
    {
     "data": {
      "text/html": [
       "<pre>recommendations finished on 39000/85842 queries. users per second: 13612.2</pre>"
      ],
      "text/plain": [
       "recommendations finished on 39000/85842 queries. users per second: 13612.2"
      ]
     },
     "metadata": {},
     "output_type": "display_data"
    },
    {
     "data": {
      "text/html": [
       "<pre>recommendations finished on 40000/85842 queries. users per second: 13612.4</pre>"
      ],
      "text/plain": [
       "recommendations finished on 40000/85842 queries. users per second: 13612.4"
      ]
     },
     "metadata": {},
     "output_type": "display_data"
    },
    {
     "data": {
      "text/html": [
       "<pre>recommendations finished on 41000/85842 queries. users per second: 13615</pre>"
      ],
      "text/plain": [
       "recommendations finished on 41000/85842 queries. users per second: 13615"
      ]
     },
     "metadata": {},
     "output_type": "display_data"
    },
    {
     "data": {
      "text/html": [
       "<pre>recommendations finished on 42000/85842 queries. users per second: 13616.7</pre>"
      ],
      "text/plain": [
       "recommendations finished on 42000/85842 queries. users per second: 13616.7"
      ]
     },
     "metadata": {},
     "output_type": "display_data"
    },
    {
     "data": {
      "text/html": [
       "<pre>recommendations finished on 43000/85842 queries. users per second: 13620.3</pre>"
      ],
      "text/plain": [
       "recommendations finished on 43000/85842 queries. users per second: 13620.3"
      ]
     },
     "metadata": {},
     "output_type": "display_data"
    },
    {
     "data": {
      "text/html": [
       "<pre>recommendations finished on 44000/85842 queries. users per second: 13618.6</pre>"
      ],
      "text/plain": [
       "recommendations finished on 44000/85842 queries. users per second: 13618.6"
      ]
     },
     "metadata": {},
     "output_type": "display_data"
    },
    {
     "data": {
      "text/html": [
       "<pre>recommendations finished on 45000/85842 queries. users per second: 13621.2</pre>"
      ],
      "text/plain": [
       "recommendations finished on 45000/85842 queries. users per second: 13621.2"
      ]
     },
     "metadata": {},
     "output_type": "display_data"
    },
    {
     "data": {
      "text/html": [
       "<pre>recommendations finished on 46000/85842 queries. users per second: 13609.8</pre>"
      ],
      "text/plain": [
       "recommendations finished on 46000/85842 queries. users per second: 13609.8"
      ]
     },
     "metadata": {},
     "output_type": "display_data"
    },
    {
     "data": {
      "text/html": [
       "<pre>recommendations finished on 47000/85842 queries. users per second: 13608.6</pre>"
      ],
      "text/plain": [
       "recommendations finished on 47000/85842 queries. users per second: 13608.6"
      ]
     },
     "metadata": {},
     "output_type": "display_data"
    },
    {
     "data": {
      "text/html": [
       "<pre>recommendations finished on 48000/85842 queries. users per second: 13610.6</pre>"
      ],
      "text/plain": [
       "recommendations finished on 48000/85842 queries. users per second: 13610.6"
      ]
     },
     "metadata": {},
     "output_type": "display_data"
    },
    {
     "data": {
      "text/html": [
       "<pre>recommendations finished on 49000/85842 queries. users per second: 13609.7</pre>"
      ],
      "text/plain": [
       "recommendations finished on 49000/85842 queries. users per second: 13609.7"
      ]
     },
     "metadata": {},
     "output_type": "display_data"
    },
    {
     "data": {
      "text/html": [
       "<pre>recommendations finished on 50000/85842 queries. users per second: 13609.6</pre>"
      ],
      "text/plain": [
       "recommendations finished on 50000/85842 queries. users per second: 13609.6"
      ]
     },
     "metadata": {},
     "output_type": "display_data"
    },
    {
     "data": {
      "text/html": [
       "<pre>recommendations finished on 51000/85842 queries. users per second: 13611.2</pre>"
      ],
      "text/plain": [
       "recommendations finished on 51000/85842 queries. users per second: 13611.2"
      ]
     },
     "metadata": {},
     "output_type": "display_data"
    },
    {
     "data": {
      "text/html": [
       "<pre>recommendations finished on 52000/85842 queries. users per second: 13612.7</pre>"
      ],
      "text/plain": [
       "recommendations finished on 52000/85842 queries. users per second: 13612.7"
      ]
     },
     "metadata": {},
     "output_type": "display_data"
    },
    {
     "data": {
      "text/html": [
       "<pre>recommendations finished on 53000/85842 queries. users per second: 13615.3</pre>"
      ],
      "text/plain": [
       "recommendations finished on 53000/85842 queries. users per second: 13615.3"
      ]
     },
     "metadata": {},
     "output_type": "display_data"
    },
    {
     "data": {
      "text/html": [
       "<pre>recommendations finished on 54000/85842 queries. users per second: 13616.3</pre>"
      ],
      "text/plain": [
       "recommendations finished on 54000/85842 queries. users per second: 13616.3"
      ]
     },
     "metadata": {},
     "output_type": "display_data"
    },
    {
     "data": {
      "text/html": [
       "<pre>recommendations finished on 55000/85842 queries. users per second: 13616.4</pre>"
      ],
      "text/plain": [
       "recommendations finished on 55000/85842 queries. users per second: 13616.4"
      ]
     },
     "metadata": {},
     "output_type": "display_data"
    },
    {
     "data": {
      "text/html": [
       "<pre>recommendations finished on 56000/85842 queries. users per second: 13617.5</pre>"
      ],
      "text/plain": [
       "recommendations finished on 56000/85842 queries. users per second: 13617.5"
      ]
     },
     "metadata": {},
     "output_type": "display_data"
    },
    {
     "data": {
      "text/html": [
       "<pre>recommendations finished on 57000/85842 queries. users per second: 13618.1</pre>"
      ],
      "text/plain": [
       "recommendations finished on 57000/85842 queries. users per second: 13618.1"
      ]
     },
     "metadata": {},
     "output_type": "display_data"
    },
    {
     "data": {
      "text/html": [
       "<pre>recommendations finished on 58000/85842 queries. users per second: 13618.3</pre>"
      ],
      "text/plain": [
       "recommendations finished on 58000/85842 queries. users per second: 13618.3"
      ]
     },
     "metadata": {},
     "output_type": "display_data"
    },
    {
     "data": {
      "text/html": [
       "<pre>recommendations finished on 59000/85842 queries. users per second: 13618.4</pre>"
      ],
      "text/plain": [
       "recommendations finished on 59000/85842 queries. users per second: 13618.4"
      ]
     },
     "metadata": {},
     "output_type": "display_data"
    },
    {
     "data": {
      "text/html": [
       "<pre>recommendations finished on 60000/85842 queries. users per second: 13618.8</pre>"
      ],
      "text/plain": [
       "recommendations finished on 60000/85842 queries. users per second: 13618.8"
      ]
     },
     "metadata": {},
     "output_type": "display_data"
    },
    {
     "data": {
      "text/html": [
       "<pre>recommendations finished on 61000/85842 queries. users per second: 13617.8</pre>"
      ],
      "text/plain": [
       "recommendations finished on 61000/85842 queries. users per second: 13617.8"
      ]
     },
     "metadata": {},
     "output_type": "display_data"
    },
    {
     "data": {
      "text/html": [
       "<pre>recommendations finished on 62000/85842 queries. users per second: 13619.1</pre>"
      ],
      "text/plain": [
       "recommendations finished on 62000/85842 queries. users per second: 13619.1"
      ]
     },
     "metadata": {},
     "output_type": "display_data"
    },
    {
     "data": {
      "text/html": [
       "<pre>recommendations finished on 63000/85842 queries. users per second: 13619.9</pre>"
      ],
      "text/plain": [
       "recommendations finished on 63000/85842 queries. users per second: 13619.9"
      ]
     },
     "metadata": {},
     "output_type": "display_data"
    },
    {
     "data": {
      "text/html": [
       "<pre>recommendations finished on 64000/85842 queries. users per second: 13620.5</pre>"
      ],
      "text/plain": [
       "recommendations finished on 64000/85842 queries. users per second: 13620.5"
      ]
     },
     "metadata": {},
     "output_type": "display_data"
    },
    {
     "data": {
      "text/html": [
       "<pre>recommendations finished on 65000/85842 queries. users per second: 13621.4</pre>"
      ],
      "text/plain": [
       "recommendations finished on 65000/85842 queries. users per second: 13621.4"
      ]
     },
     "metadata": {},
     "output_type": "display_data"
    },
    {
     "data": {
      "text/html": [
       "<pre>recommendations finished on 66000/85842 queries. users per second: 13622.3</pre>"
      ],
      "text/plain": [
       "recommendations finished on 66000/85842 queries. users per second: 13622.3"
      ]
     },
     "metadata": {},
     "output_type": "display_data"
    },
    {
     "data": {
      "text/html": [
       "<pre>recommendations finished on 67000/85842 queries. users per second: 13622.4</pre>"
      ],
      "text/plain": [
       "recommendations finished on 67000/85842 queries. users per second: 13622.4"
      ]
     },
     "metadata": {},
     "output_type": "display_data"
    },
    {
     "data": {
      "text/html": [
       "<pre>recommendations finished on 68000/85842 queries. users per second: 13623</pre>"
      ],
      "text/plain": [
       "recommendations finished on 68000/85842 queries. users per second: 13623"
      ]
     },
     "metadata": {},
     "output_type": "display_data"
    },
    {
     "data": {
      "text/html": [
       "<pre>recommendations finished on 69000/85842 queries. users per second: 13624.1</pre>"
      ],
      "text/plain": [
       "recommendations finished on 69000/85842 queries. users per second: 13624.1"
      ]
     },
     "metadata": {},
     "output_type": "display_data"
    },
    {
     "data": {
      "text/html": [
       "<pre>recommendations finished on 70000/85842 queries. users per second: 13625.5</pre>"
      ],
      "text/plain": [
       "recommendations finished on 70000/85842 queries. users per second: 13625.5"
      ]
     },
     "metadata": {},
     "output_type": "display_data"
    },
    {
     "data": {
      "text/html": [
       "<pre>recommendations finished on 71000/85842 queries. users per second: 13625.5</pre>"
      ],
      "text/plain": [
       "recommendations finished on 71000/85842 queries. users per second: 13625.5"
      ]
     },
     "metadata": {},
     "output_type": "display_data"
    },
    {
     "data": {
      "text/html": [
       "<pre>recommendations finished on 72000/85842 queries. users per second: 13626.6</pre>"
      ],
      "text/plain": [
       "recommendations finished on 72000/85842 queries. users per second: 13626.6"
      ]
     },
     "metadata": {},
     "output_type": "display_data"
    },
    {
     "data": {
      "text/html": [
       "<pre>recommendations finished on 73000/85842 queries. users per second: 13626.4</pre>"
      ],
      "text/plain": [
       "recommendations finished on 73000/85842 queries. users per second: 13626.4"
      ]
     },
     "metadata": {},
     "output_type": "display_data"
    },
    {
     "data": {
      "text/html": [
       "<pre>recommendations finished on 74000/85842 queries. users per second: 13627.3</pre>"
      ],
      "text/plain": [
       "recommendations finished on 74000/85842 queries. users per second: 13627.3"
      ]
     },
     "metadata": {},
     "output_type": "display_data"
    },
    {
     "data": {
      "text/html": [
       "<pre>recommendations finished on 75000/85842 queries. users per second: 13629.2</pre>"
      ],
      "text/plain": [
       "recommendations finished on 75000/85842 queries. users per second: 13629.2"
      ]
     },
     "metadata": {},
     "output_type": "display_data"
    },
    {
     "data": {
      "text/html": [
       "<pre>recommendations finished on 76000/85842 queries. users per second: 13630</pre>"
      ],
      "text/plain": [
       "recommendations finished on 76000/85842 queries. users per second: 13630"
      ]
     },
     "metadata": {},
     "output_type": "display_data"
    },
    {
     "data": {
      "text/html": [
       "<pre>recommendations finished on 77000/85842 queries. users per second: 13629.7</pre>"
      ],
      "text/plain": [
       "recommendations finished on 77000/85842 queries. users per second: 13629.7"
      ]
     },
     "metadata": {},
     "output_type": "display_data"
    },
    {
     "data": {
      "text/html": [
       "<pre>recommendations finished on 78000/85842 queries. users per second: 13629.5</pre>"
      ],
      "text/plain": [
       "recommendations finished on 78000/85842 queries. users per second: 13629.5"
      ]
     },
     "metadata": {},
     "output_type": "display_data"
    },
    {
     "data": {
      "text/html": [
       "<pre>recommendations finished on 79000/85842 queries. users per second: 13630</pre>"
      ],
      "text/plain": [
       "recommendations finished on 79000/85842 queries. users per second: 13630"
      ]
     },
     "metadata": {},
     "output_type": "display_data"
    },
    {
     "data": {
      "text/html": [
       "<pre>recommendations finished on 80000/85842 queries. users per second: 13631.3</pre>"
      ],
      "text/plain": [
       "recommendations finished on 80000/85842 queries. users per second: 13631.3"
      ]
     },
     "metadata": {},
     "output_type": "display_data"
    },
    {
     "data": {
      "text/html": [
       "<pre>recommendations finished on 81000/85842 queries. users per second: 13631.9</pre>"
      ],
      "text/plain": [
       "recommendations finished on 81000/85842 queries. users per second: 13631.9"
      ]
     },
     "metadata": {},
     "output_type": "display_data"
    },
    {
     "data": {
      "text/html": [
       "<pre>recommendations finished on 82000/85842 queries. users per second: 13631.3</pre>"
      ],
      "text/plain": [
       "recommendations finished on 82000/85842 queries. users per second: 13631.3"
      ]
     },
     "metadata": {},
     "output_type": "display_data"
    },
    {
     "data": {
      "text/html": [
       "<pre>recommendations finished on 83000/85842 queries. users per second: 13632.3</pre>"
      ],
      "text/plain": [
       "recommendations finished on 83000/85842 queries. users per second: 13632.3"
      ]
     },
     "metadata": {},
     "output_type": "display_data"
    },
    {
     "data": {
      "text/html": [
       "<pre>recommendations finished on 84000/85842 queries. users per second: 13633.3</pre>"
      ],
      "text/plain": [
       "recommendations finished on 84000/85842 queries. users per second: 13633.3"
      ]
     },
     "metadata": {},
     "output_type": "display_data"
    },
    {
     "data": {
      "text/html": [
       "<pre>recommendations finished on 85000/85842 queries. users per second: 13634.1</pre>"
      ],
      "text/plain": [
       "recommendations finished on 85000/85842 queries. users per second: 13634.1"
      ]
     },
     "metadata": {},
     "output_type": "display_data"
    },
    {
     "name": "stdout",
     "output_type": "stream",
     "text": [
      "\n",
      "Precision and recall summary statistics by cutoff\n",
      "+--------+-----------------------+-----------------------+\n",
      "| cutoff |     mean_precision    |      mean_recall      |\n",
      "+--------+-----------------------+-----------------------+\n",
      "|   1    |  0.001945434635726103 | 0.0012218835181370975 |\n",
      "|   2    | 0.0014969362316814617 | 0.0017647872631447136 |\n",
      "|   3    | 0.0013086057330133527 | 0.0022926528090084423 |\n",
      "|   4    | 0.0011794925560914256 | 0.0027142052514247937 |\n",
      "|   5    |  0.001129982992008575 |   0.0031683803823316  |\n",
      "|   6    | 0.0010600871368327846 | 0.0035387502484028658 |\n",
      "|   7    | 0.0009918554686849858 | 0.0038851558212709978 |\n",
      "|   8    | 0.0009421378812236443 |  0.00422210746702253  |\n",
      "|   9    | 0.0009021742788430556 | 0.0045778324872474616 |\n",
      "|   10   | 0.0008760280515365441 |  0.00493069561008328  |\n",
      "+--------+-----------------------+-----------------------+\n",
      "[10 rows x 3 columns]\n",
      "\n",
      "\n",
      "Overall RMSE: 0.9990383995416421\n",
      "\n",
      "Per User RMSE (best)\n",
      "+------------+------+-------+\n",
      "| customerId | rmse | count |\n",
      "+------------+------+-------+\n",
      "|   31179    | 0.75 |   1   |\n",
      "+------------+------+-------+\n",
      "[1 rows x 3 columns]\n",
      "\n",
      "\n",
      "Per User RMSE (worst)\n",
      "+------------+------+-------+\n",
      "| customerId | rmse | count |\n",
      "+------------+------+-------+\n",
      "|   79732    | 1.0  |   5   |\n",
      "+------------+------+-------+\n",
      "[1 rows x 3 columns]\n",
      "\n",
      "\n",
      "Per Item RMSE (best)\n",
      "+-----------+--------------------+-------+\n",
      "| productId |        rmse        | count |\n",
      "+-----------+--------------------+-------+\n",
      "|   23527   | 0.8174257874488831 |   1   |\n",
      "+-----------+--------------------+-------+\n",
      "[1 rows x 3 columns]\n",
      "\n",
      "\n",
      "Per Item RMSE (worst)\n",
      "+-----------+------+-------+\n",
      "| productId | rmse | count |\n",
      "+-----------+------+-------+\n",
      "|    7899   | 1.0  |   1   |\n",
      "+-----------+------+-------+\n",
      "[1 rows x 3 columns]\n",
      "\n",
      "PROGRESS: Evaluate model Pearson Similarity\n"
     ]
    },
    {
     "data": {
      "text/html": [
       "<pre>recommendations finished on 1000/85842 queries. users per second: 8977.22</pre>"
      ],
      "text/plain": [
       "recommendations finished on 1000/85842 queries. users per second: 8977.22"
      ]
     },
     "metadata": {},
     "output_type": "display_data"
    },
    {
     "data": {
      "text/html": [
       "<pre>recommendations finished on 2000/85842 queries. users per second: 9256</pre>"
      ],
      "text/plain": [
       "recommendations finished on 2000/85842 queries. users per second: 9256"
      ]
     },
     "metadata": {},
     "output_type": "display_data"
    },
    {
     "data": {
      "text/html": [
       "<pre>recommendations finished on 3000/85842 queries. users per second: 9344.8</pre>"
      ],
      "text/plain": [
       "recommendations finished on 3000/85842 queries. users per second: 9344.8"
      ]
     },
     "metadata": {},
     "output_type": "display_data"
    },
    {
     "data": {
      "text/html": [
       "<pre>recommendations finished on 4000/85842 queries. users per second: 9404.33</pre>"
      ],
      "text/plain": [
       "recommendations finished on 4000/85842 queries. users per second: 9404.33"
      ]
     },
     "metadata": {},
     "output_type": "display_data"
    },
    {
     "data": {
      "text/html": [
       "<pre>recommendations finished on 5000/85842 queries. users per second: 9435.07</pre>"
      ],
      "text/plain": [
       "recommendations finished on 5000/85842 queries. users per second: 9435.07"
      ]
     },
     "metadata": {},
     "output_type": "display_data"
    },
    {
     "data": {
      "text/html": [
       "<pre>recommendations finished on 6000/85842 queries. users per second: 9433.29</pre>"
      ],
      "text/plain": [
       "recommendations finished on 6000/85842 queries. users per second: 9433.29"
      ]
     },
     "metadata": {},
     "output_type": "display_data"
    },
    {
     "data": {
      "text/html": [
       "<pre>recommendations finished on 7000/85842 queries. users per second: 9446.11</pre>"
      ],
      "text/plain": [
       "recommendations finished on 7000/85842 queries. users per second: 9446.11"
      ]
     },
     "metadata": {},
     "output_type": "display_data"
    },
    {
     "data": {
      "text/html": [
       "<pre>recommendations finished on 8000/85842 queries. users per second: 9461.3</pre>"
      ],
      "text/plain": [
       "recommendations finished on 8000/85842 queries. users per second: 9461.3"
      ]
     },
     "metadata": {},
     "output_type": "display_data"
    },
    {
     "data": {
      "text/html": [
       "<pre>recommendations finished on 9000/85842 queries. users per second: 9471.53</pre>"
      ],
      "text/plain": [
       "recommendations finished on 9000/85842 queries. users per second: 9471.53"
      ]
     },
     "metadata": {},
     "output_type": "display_data"
    },
    {
     "data": {
      "text/html": [
       "<pre>recommendations finished on 10000/85842 queries. users per second: 9484.52</pre>"
      ],
      "text/plain": [
       "recommendations finished on 10000/85842 queries. users per second: 9484.52"
      ]
     },
     "metadata": {},
     "output_type": "display_data"
    },
    {
     "data": {
      "text/html": [
       "<pre>recommendations finished on 11000/85842 queries. users per second: 9493.7</pre>"
      ],
      "text/plain": [
       "recommendations finished on 11000/85842 queries. users per second: 9493.7"
      ]
     },
     "metadata": {},
     "output_type": "display_data"
    },
    {
     "data": {
      "text/html": [
       "<pre>recommendations finished on 12000/85842 queries. users per second: 9442.88</pre>"
      ],
      "text/plain": [
       "recommendations finished on 12000/85842 queries. users per second: 9442.88"
      ]
     },
     "metadata": {},
     "output_type": "display_data"
    },
    {
     "data": {
      "text/html": [
       "<pre>recommendations finished on 13000/85842 queries. users per second: 9450.98</pre>"
      ],
      "text/plain": [
       "recommendations finished on 13000/85842 queries. users per second: 9450.98"
      ]
     },
     "metadata": {},
     "output_type": "display_data"
    },
    {
     "data": {
      "text/html": [
       "<pre>recommendations finished on 14000/85842 queries. users per second: 9460.97</pre>"
      ],
      "text/plain": [
       "recommendations finished on 14000/85842 queries. users per second: 9460.97"
      ]
     },
     "metadata": {},
     "output_type": "display_data"
    },
    {
     "data": {
      "text/html": [
       "<pre>recommendations finished on 15000/85842 queries. users per second: 9469.34</pre>"
      ],
      "text/plain": [
       "recommendations finished on 15000/85842 queries. users per second: 9469.34"
      ]
     },
     "metadata": {},
     "output_type": "display_data"
    },
    {
     "data": {
      "text/html": [
       "<pre>recommendations finished on 16000/85842 queries. users per second: 9473.08</pre>"
      ],
      "text/plain": [
       "recommendations finished on 16000/85842 queries. users per second: 9473.08"
      ]
     },
     "metadata": {},
     "output_type": "display_data"
    },
    {
     "data": {
      "text/html": [
       "<pre>recommendations finished on 17000/85842 queries. users per second: 9478.37</pre>"
      ],
      "text/plain": [
       "recommendations finished on 17000/85842 queries. users per second: 9478.37"
      ]
     },
     "metadata": {},
     "output_type": "display_data"
    },
    {
     "data": {
      "text/html": [
       "<pre>recommendations finished on 18000/85842 queries. users per second: 9483.19</pre>"
      ],
      "text/plain": [
       "recommendations finished on 18000/85842 queries. users per second: 9483.19"
      ]
     },
     "metadata": {},
     "output_type": "display_data"
    },
    {
     "data": {
      "text/html": [
       "<pre>recommendations finished on 19000/85842 queries. users per second: 9487.08</pre>"
      ],
      "text/plain": [
       "recommendations finished on 19000/85842 queries. users per second: 9487.08"
      ]
     },
     "metadata": {},
     "output_type": "display_data"
    },
    {
     "data": {
      "text/html": [
       "<pre>recommendations finished on 20000/85842 queries. users per second: 9490.11</pre>"
      ],
      "text/plain": [
       "recommendations finished on 20000/85842 queries. users per second: 9490.11"
      ]
     },
     "metadata": {},
     "output_type": "display_data"
    },
    {
     "data": {
      "text/html": [
       "<pre>recommendations finished on 21000/85842 queries. users per second: 9495</pre>"
      ],
      "text/plain": [
       "recommendations finished on 21000/85842 queries. users per second: 9495"
      ]
     },
     "metadata": {},
     "output_type": "display_data"
    },
    {
     "data": {
      "text/html": [
       "<pre>recommendations finished on 22000/85842 queries. users per second: 9497.77</pre>"
      ],
      "text/plain": [
       "recommendations finished on 22000/85842 queries. users per second: 9497.77"
      ]
     },
     "metadata": {},
     "output_type": "display_data"
    },
    {
     "data": {
      "text/html": [
       "<pre>recommendations finished on 23000/85842 queries. users per second: 9485.24</pre>"
      ],
      "text/plain": [
       "recommendations finished on 23000/85842 queries. users per second: 9485.24"
      ]
     },
     "metadata": {},
     "output_type": "display_data"
    },
    {
     "data": {
      "text/html": [
       "<pre>recommendations finished on 24000/85842 queries. users per second: 9488.35</pre>"
      ],
      "text/plain": [
       "recommendations finished on 24000/85842 queries. users per second: 9488.35"
      ]
     },
     "metadata": {},
     "output_type": "display_data"
    },
    {
     "data": {
      "text/html": [
       "<pre>recommendations finished on 25000/85842 queries. users per second: 9489.88</pre>"
      ],
      "text/plain": [
       "recommendations finished on 25000/85842 queries. users per second: 9489.88"
      ]
     },
     "metadata": {},
     "output_type": "display_data"
    },
    {
     "data": {
      "text/html": [
       "<pre>recommendations finished on 26000/85842 queries. users per second: 9491.59</pre>"
      ],
      "text/plain": [
       "recommendations finished on 26000/85842 queries. users per second: 9491.59"
      ]
     },
     "metadata": {},
     "output_type": "display_data"
    },
    {
     "data": {
      "text/html": [
       "<pre>recommendations finished on 27000/85842 queries. users per second: 9494.16</pre>"
      ],
      "text/plain": [
       "recommendations finished on 27000/85842 queries. users per second: 9494.16"
      ]
     },
     "metadata": {},
     "output_type": "display_data"
    },
    {
     "data": {
      "text/html": [
       "<pre>recommendations finished on 28000/85842 queries. users per second: 9496.39</pre>"
      ],
      "text/plain": [
       "recommendations finished on 28000/85842 queries. users per second: 9496.39"
      ]
     },
     "metadata": {},
     "output_type": "display_data"
    },
    {
     "data": {
      "text/html": [
       "<pre>recommendations finished on 29000/85842 queries. users per second: 9498.48</pre>"
      ],
      "text/plain": [
       "recommendations finished on 29000/85842 queries. users per second: 9498.48"
      ]
     },
     "metadata": {},
     "output_type": "display_data"
    },
    {
     "data": {
      "text/html": [
       "<pre>recommendations finished on 30000/85842 queries. users per second: 9500.8</pre>"
      ],
      "text/plain": [
       "recommendations finished on 30000/85842 queries. users per second: 9500.8"
      ]
     },
     "metadata": {},
     "output_type": "display_data"
    },
    {
     "data": {
      "text/html": [
       "<pre>recommendations finished on 31000/85842 queries. users per second: 9502.01</pre>"
      ],
      "text/plain": [
       "recommendations finished on 31000/85842 queries. users per second: 9502.01"
      ]
     },
     "metadata": {},
     "output_type": "display_data"
    },
    {
     "data": {
      "text/html": [
       "<pre>recommendations finished on 32000/85842 queries. users per second: 9504.22</pre>"
      ],
      "text/plain": [
       "recommendations finished on 32000/85842 queries. users per second: 9504.22"
      ]
     },
     "metadata": {},
     "output_type": "display_data"
    },
    {
     "data": {
      "text/html": [
       "<pre>recommendations finished on 33000/85842 queries. users per second: 9505.58</pre>"
      ],
      "text/plain": [
       "recommendations finished on 33000/85842 queries. users per second: 9505.58"
      ]
     },
     "metadata": {},
     "output_type": "display_data"
    },
    {
     "data": {
      "text/html": [
       "<pre>recommendations finished on 34000/85842 queries. users per second: 9505.66</pre>"
      ],
      "text/plain": [
       "recommendations finished on 34000/85842 queries. users per second: 9505.66"
      ]
     },
     "metadata": {},
     "output_type": "display_data"
    },
    {
     "data": {
      "text/html": [
       "<pre>recommendations finished on 35000/85842 queries. users per second: 9507.36</pre>"
      ],
      "text/plain": [
       "recommendations finished on 35000/85842 queries. users per second: 9507.36"
      ]
     },
     "metadata": {},
     "output_type": "display_data"
    },
    {
     "data": {
      "text/html": [
       "<pre>recommendations finished on 36000/85842 queries. users per second: 9508.37</pre>"
      ],
      "text/plain": [
       "recommendations finished on 36000/85842 queries. users per second: 9508.37"
      ]
     },
     "metadata": {},
     "output_type": "display_data"
    },
    {
     "data": {
      "text/html": [
       "<pre>recommendations finished on 37000/85842 queries. users per second: 9509.44</pre>"
      ],
      "text/plain": [
       "recommendations finished on 37000/85842 queries. users per second: 9509.44"
      ]
     },
     "metadata": {},
     "output_type": "display_data"
    },
    {
     "data": {
      "text/html": [
       "<pre>recommendations finished on 38000/85842 queries. users per second: 9510.22</pre>"
      ],
      "text/plain": [
       "recommendations finished on 38000/85842 queries. users per second: 9510.22"
      ]
     },
     "metadata": {},
     "output_type": "display_data"
    },
    {
     "data": {
      "text/html": [
       "<pre>recommendations finished on 39000/85842 queries. users per second: 9511.5</pre>"
      ],
      "text/plain": [
       "recommendations finished on 39000/85842 queries. users per second: 9511.5"
      ]
     },
     "metadata": {},
     "output_type": "display_data"
    },
    {
     "data": {
      "text/html": [
       "<pre>recommendations finished on 40000/85842 queries. users per second: 9512.4</pre>"
      ],
      "text/plain": [
       "recommendations finished on 40000/85842 queries. users per second: 9512.4"
      ]
     },
     "metadata": {},
     "output_type": "display_data"
    },
    {
     "data": {
      "text/html": [
       "<pre>recommendations finished on 41000/85842 queries. users per second: 9514.82</pre>"
      ],
      "text/plain": [
       "recommendations finished on 41000/85842 queries. users per second: 9514.82"
      ]
     },
     "metadata": {},
     "output_type": "display_data"
    },
    {
     "data": {
      "text/html": [
       "<pre>recommendations finished on 42000/85842 queries. users per second: 9516.03</pre>"
      ],
      "text/plain": [
       "recommendations finished on 42000/85842 queries. users per second: 9516.03"
      ]
     },
     "metadata": {},
     "output_type": "display_data"
    },
    {
     "data": {
      "text/html": [
       "<pre>recommendations finished on 43000/85842 queries. users per second: 9517.42</pre>"
      ],
      "text/plain": [
       "recommendations finished on 43000/85842 queries. users per second: 9517.42"
      ]
     },
     "metadata": {},
     "output_type": "display_data"
    },
    {
     "data": {
      "text/html": [
       "<pre>recommendations finished on 44000/85842 queries. users per second: 9519.2</pre>"
      ],
      "text/plain": [
       "recommendations finished on 44000/85842 queries. users per second: 9519.2"
      ]
     },
     "metadata": {},
     "output_type": "display_data"
    },
    {
     "data": {
      "text/html": [
       "<pre>recommendations finished on 45000/85842 queries. users per second: 9519.71</pre>"
      ],
      "text/plain": [
       "recommendations finished on 45000/85842 queries. users per second: 9519.71"
      ]
     },
     "metadata": {},
     "output_type": "display_data"
    },
    {
     "data": {
      "text/html": [
       "<pre>recommendations finished on 46000/85842 queries. users per second: 9502.2</pre>"
      ],
      "text/plain": [
       "recommendations finished on 46000/85842 queries. users per second: 9502.2"
      ]
     },
     "metadata": {},
     "output_type": "display_data"
    },
    {
     "data": {
      "text/html": [
       "<pre>recommendations finished on 47000/85842 queries. users per second: 9500.35</pre>"
      ],
      "text/plain": [
       "recommendations finished on 47000/85842 queries. users per second: 9500.35"
      ]
     },
     "metadata": {},
     "output_type": "display_data"
    },
    {
     "data": {
      "text/html": [
       "<pre>recommendations finished on 48000/85842 queries. users per second: 9500.36</pre>"
      ],
      "text/plain": [
       "recommendations finished on 48000/85842 queries. users per second: 9500.36"
      ]
     },
     "metadata": {},
     "output_type": "display_data"
    },
    {
     "data": {
      "text/html": [
       "<pre>recommendations finished on 49000/85842 queries. users per second: 9502.2</pre>"
      ],
      "text/plain": [
       "recommendations finished on 49000/85842 queries. users per second: 9502.2"
      ]
     },
     "metadata": {},
     "output_type": "display_data"
    },
    {
     "data": {
      "text/html": [
       "<pre>recommendations finished on 50000/85842 queries. users per second: 9502.4</pre>"
      ],
      "text/plain": [
       "recommendations finished on 50000/85842 queries. users per second: 9502.4"
      ]
     },
     "metadata": {},
     "output_type": "display_data"
    },
    {
     "data": {
      "text/html": [
       "<pre>recommendations finished on 51000/85842 queries. users per second: 9503.83</pre>"
      ],
      "text/plain": [
       "recommendations finished on 51000/85842 queries. users per second: 9503.83"
      ]
     },
     "metadata": {},
     "output_type": "display_data"
    },
    {
     "data": {
      "text/html": [
       "<pre>recommendations finished on 52000/85842 queries. users per second: 9504.96</pre>"
      ],
      "text/plain": [
       "recommendations finished on 52000/85842 queries. users per second: 9504.96"
      ]
     },
     "metadata": {},
     "output_type": "display_data"
    },
    {
     "data": {
      "text/html": [
       "<pre>recommendations finished on 53000/85842 queries. users per second: 9506.18</pre>"
      ],
      "text/plain": [
       "recommendations finished on 53000/85842 queries. users per second: 9506.18"
      ]
     },
     "metadata": {},
     "output_type": "display_data"
    },
    {
     "data": {
      "text/html": [
       "<pre>recommendations finished on 54000/85842 queries. users per second: 9507.34</pre>"
      ],
      "text/plain": [
       "recommendations finished on 54000/85842 queries. users per second: 9507.34"
      ]
     },
     "metadata": {},
     "output_type": "display_data"
    },
    {
     "data": {
      "text/html": [
       "<pre>recommendations finished on 55000/85842 queries. users per second: 9508.09</pre>"
      ],
      "text/plain": [
       "recommendations finished on 55000/85842 queries. users per second: 9508.09"
      ]
     },
     "metadata": {},
     "output_type": "display_data"
    },
    {
     "data": {
      "text/html": [
       "<pre>recommendations finished on 56000/85842 queries. users per second: 9508.63</pre>"
      ],
      "text/plain": [
       "recommendations finished on 56000/85842 queries. users per second: 9508.63"
      ]
     },
     "metadata": {},
     "output_type": "display_data"
    },
    {
     "data": {
      "text/html": [
       "<pre>recommendations finished on 57000/85842 queries. users per second: 9509.48</pre>"
      ],
      "text/plain": [
       "recommendations finished on 57000/85842 queries. users per second: 9509.48"
      ]
     },
     "metadata": {},
     "output_type": "display_data"
    },
    {
     "data": {
      "text/html": [
       "<pre>recommendations finished on 58000/85842 queries. users per second: 9510.83</pre>"
      ],
      "text/plain": [
       "recommendations finished on 58000/85842 queries. users per second: 9510.83"
      ]
     },
     "metadata": {},
     "output_type": "display_data"
    },
    {
     "data": {
      "text/html": [
       "<pre>recommendations finished on 59000/85842 queries. users per second: 9511.44</pre>"
      ],
      "text/plain": [
       "recommendations finished on 59000/85842 queries. users per second: 9511.44"
      ]
     },
     "metadata": {},
     "output_type": "display_data"
    },
    {
     "data": {
      "text/html": [
       "<pre>recommendations finished on 60000/85842 queries. users per second: 9512.11</pre>"
      ],
      "text/plain": [
       "recommendations finished on 60000/85842 queries. users per second: 9512.11"
      ]
     },
     "metadata": {},
     "output_type": "display_data"
    },
    {
     "data": {
      "text/html": [
       "<pre>recommendations finished on 61000/85842 queries. users per second: 9513.1</pre>"
      ],
      "text/plain": [
       "recommendations finished on 61000/85842 queries. users per second: 9513.1"
      ]
     },
     "metadata": {},
     "output_type": "display_data"
    },
    {
     "data": {
      "text/html": [
       "<pre>recommendations finished on 62000/85842 queries. users per second: 9513.31</pre>"
      ],
      "text/plain": [
       "recommendations finished on 62000/85842 queries. users per second: 9513.31"
      ]
     },
     "metadata": {},
     "output_type": "display_data"
    },
    {
     "data": {
      "text/html": [
       "<pre>recommendations finished on 63000/85842 queries. users per second: 9513.97</pre>"
      ],
      "text/plain": [
       "recommendations finished on 63000/85842 queries. users per second: 9513.97"
      ]
     },
     "metadata": {},
     "output_type": "display_data"
    },
    {
     "data": {
      "text/html": [
       "<pre>recommendations finished on 64000/85842 queries. users per second: 9514.38</pre>"
      ],
      "text/plain": [
       "recommendations finished on 64000/85842 queries. users per second: 9514.38"
      ]
     },
     "metadata": {},
     "output_type": "display_data"
    },
    {
     "data": {
      "text/html": [
       "<pre>recommendations finished on 65000/85842 queries. users per second: 9515.08</pre>"
      ],
      "text/plain": [
       "recommendations finished on 65000/85842 queries. users per second: 9515.08"
      ]
     },
     "metadata": {},
     "output_type": "display_data"
    },
    {
     "data": {
      "text/html": [
       "<pre>recommendations finished on 66000/85842 queries. users per second: 9515.3</pre>"
      ],
      "text/plain": [
       "recommendations finished on 66000/85842 queries. users per second: 9515.3"
      ]
     },
     "metadata": {},
     "output_type": "display_data"
    },
    {
     "data": {
      "text/html": [
       "<pre>recommendations finished on 67000/85842 queries. users per second: 9515.54</pre>"
      ],
      "text/plain": [
       "recommendations finished on 67000/85842 queries. users per second: 9515.54"
      ]
     },
     "metadata": {},
     "output_type": "display_data"
    },
    {
     "data": {
      "text/html": [
       "<pre>recommendations finished on 68000/85842 queries. users per second: 9516.38</pre>"
      ],
      "text/plain": [
       "recommendations finished on 68000/85842 queries. users per second: 9516.38"
      ]
     },
     "metadata": {},
     "output_type": "display_data"
    },
    {
     "data": {
      "text/html": [
       "<pre>recommendations finished on 69000/85842 queries. users per second: 9517.15</pre>"
      ],
      "text/plain": [
       "recommendations finished on 69000/85842 queries. users per second: 9517.15"
      ]
     },
     "metadata": {},
     "output_type": "display_data"
    },
    {
     "data": {
      "text/html": [
       "<pre>recommendations finished on 70000/85842 queries. users per second: 9518.24</pre>"
      ],
      "text/plain": [
       "recommendations finished on 70000/85842 queries. users per second: 9518.24"
      ]
     },
     "metadata": {},
     "output_type": "display_data"
    },
    {
     "data": {
      "text/html": [
       "<pre>recommendations finished on 71000/85842 queries. users per second: 9519.52</pre>"
      ],
      "text/plain": [
       "recommendations finished on 71000/85842 queries. users per second: 9519.52"
      ]
     },
     "metadata": {},
     "output_type": "display_data"
    },
    {
     "data": {
      "text/html": [
       "<pre>recommendations finished on 72000/85842 queries. users per second: 9521.09</pre>"
      ],
      "text/plain": [
       "recommendations finished on 72000/85842 queries. users per second: 9521.09"
      ]
     },
     "metadata": {},
     "output_type": "display_data"
    },
    {
     "data": {
      "text/html": [
       "<pre>recommendations finished on 73000/85842 queries. users per second: 9522.16</pre>"
      ],
      "text/plain": [
       "recommendations finished on 73000/85842 queries. users per second: 9522.16"
      ]
     },
     "metadata": {},
     "output_type": "display_data"
    },
    {
     "data": {
      "text/html": [
       "<pre>recommendations finished on 74000/85842 queries. users per second: 9522.96</pre>"
      ],
      "text/plain": [
       "recommendations finished on 74000/85842 queries. users per second: 9522.96"
      ]
     },
     "metadata": {},
     "output_type": "display_data"
    },
    {
     "data": {
      "text/html": [
       "<pre>recommendations finished on 75000/85842 queries. users per second: 9522.93</pre>"
      ],
      "text/plain": [
       "recommendations finished on 75000/85842 queries. users per second: 9522.93"
      ]
     },
     "metadata": {},
     "output_type": "display_data"
    },
    {
     "data": {
      "text/html": [
       "<pre>recommendations finished on 76000/85842 queries. users per second: 9523.72</pre>"
      ],
      "text/plain": [
       "recommendations finished on 76000/85842 queries. users per second: 9523.72"
      ]
     },
     "metadata": {},
     "output_type": "display_data"
    },
    {
     "data": {
      "text/html": [
       "<pre>recommendations finished on 77000/85842 queries. users per second: 9523.4</pre>"
      ],
      "text/plain": [
       "recommendations finished on 77000/85842 queries. users per second: 9523.4"
      ]
     },
     "metadata": {},
     "output_type": "display_data"
    },
    {
     "data": {
      "text/html": [
       "<pre>recommendations finished on 78000/85842 queries. users per second: 9523.87</pre>"
      ],
      "text/plain": [
       "recommendations finished on 78000/85842 queries. users per second: 9523.87"
      ]
     },
     "metadata": {},
     "output_type": "display_data"
    },
    {
     "data": {
      "text/html": [
       "<pre>recommendations finished on 79000/85842 queries. users per second: 9524.01</pre>"
      ],
      "text/plain": [
       "recommendations finished on 79000/85842 queries. users per second: 9524.01"
      ]
     },
     "metadata": {},
     "output_type": "display_data"
    },
    {
     "data": {
      "text/html": [
       "<pre>recommendations finished on 80000/85842 queries. users per second: 9523.84</pre>"
      ],
      "text/plain": [
       "recommendations finished on 80000/85842 queries. users per second: 9523.84"
      ]
     },
     "metadata": {},
     "output_type": "display_data"
    },
    {
     "data": {
      "text/html": [
       "<pre>recommendations finished on 81000/85842 queries. users per second: 9524.26</pre>"
      ],
      "text/plain": [
       "recommendations finished on 81000/85842 queries. users per second: 9524.26"
      ]
     },
     "metadata": {},
     "output_type": "display_data"
    },
    {
     "data": {
      "text/html": [
       "<pre>recommendations finished on 82000/85842 queries. users per second: 9525.04</pre>"
      ],
      "text/plain": [
       "recommendations finished on 82000/85842 queries. users per second: 9525.04"
      ]
     },
     "metadata": {},
     "output_type": "display_data"
    },
    {
     "data": {
      "text/html": [
       "<pre>recommendations finished on 83000/85842 queries. users per second: 9525.45</pre>"
      ],
      "text/plain": [
       "recommendations finished on 83000/85842 queries. users per second: 9525.45"
      ]
     },
     "metadata": {},
     "output_type": "display_data"
    },
    {
     "data": {
      "text/html": [
       "<pre>recommendations finished on 84000/85842 queries. users per second: 9525.94</pre>"
      ],
      "text/plain": [
       "recommendations finished on 84000/85842 queries. users per second: 9525.94"
      ]
     },
     "metadata": {},
     "output_type": "display_data"
    },
    {
     "data": {
      "text/html": [
       "<pre>recommendations finished on 85000/85842 queries. users per second: 9526.22</pre>"
      ],
      "text/plain": [
       "recommendations finished on 85000/85842 queries. users per second: 9526.22"
      ]
     },
     "metadata": {},
     "output_type": "display_data"
    },
    {
     "name": "stdout",
     "output_type": "stream",
     "text": [
      "\n",
      "Precision and recall summary statistics by cutoff\n",
      "+--------+------------------------+------------------------+\n",
      "| cutoff |     mean_precision     |      mean_recall       |\n",
      "+--------+------------------------+------------------------+\n",
      "|   1    | 3.4947927587893936e-05 | 1.0484378276368205e-05 |\n",
      "|   2    | 1.7473963793947042e-05 | 1.0484378276368188e-05 |\n",
      "|   3    | 1.1649309195964621e-05 | 1.0484378276368206e-05 |\n",
      "|   4    | 8.736981896973535e-06  | 1.0484378276368205e-05 |\n",
      "|   5    | 6.989585517578765e-06  | 1.0484378276368196e-05 |\n",
      "|   6    | 5.824654597982333e-06  | 1.0484378276368201e-05 |\n",
      "|   7    | 6.656748111979829e-06  | 1.6309032874350556e-05 |\n",
      "|   8    | 5.824654597982331e-06  | 1.630903287435065e-05  |\n",
      "|   9    | 1.035494150752416e-05  | 4.640308163059274e-05  |\n",
      "|   10   | 9.319447356771752e-06  | 4.640308163059276e-05  |\n",
      "+--------+------------------------+------------------------+\n",
      "[10 rows x 3 columns]\n",
      "\n",
      "\n",
      "Overall RMSE: 1.0\n",
      "\n",
      "Per User RMSE (best)\n",
      "+------------+------+-------+\n",
      "| customerId | rmse | count |\n",
      "+------------+------+-------+\n",
      "|   78571    | 1.0  |   4   |\n",
      "+------------+------+-------+\n",
      "[1 rows x 3 columns]\n",
      "\n",
      "\n",
      "Per User RMSE (worst)\n",
      "+------------+------+-------+\n",
      "| customerId | rmse | count |\n",
      "+------------+------+-------+\n",
      "|   79732    | 1.0  |   5   |\n",
      "+------------+------+-------+\n",
      "[1 rows x 3 columns]\n",
      "\n",
      "\n",
      "Per Item RMSE (best)\n",
      "+-----------+------+-------+\n",
      "| productId | rmse | count |\n",
      "+-----------+------+-------+\n",
      "|   53363   | 1.0  |   1   |\n",
      "+-----------+------+-------+\n",
      "[1 rows x 3 columns]\n",
      "\n",
      "\n",
      "Per Item RMSE (worst)\n",
      "+-----------+------+-------+\n",
      "| productId | rmse | count |\n",
      "+-----------+------+-------+\n",
      "|    7899   | 1.0  |   1   |\n",
      "+-----------+------+-------+\n",
      "[1 rows x 3 columns]\n",
      "\n",
      "PROGRESS: Evaluate model Jaccard Similarity\n"
     ]
    },
    {
     "data": {
      "text/html": [
       "<pre>recommendations finished on 1000/85842 queries. users per second: 12080.2</pre>"
      ],
      "text/plain": [
       "recommendations finished on 1000/85842 queries. users per second: 12080.2"
      ]
     },
     "metadata": {},
     "output_type": "display_data"
    },
    {
     "data": {
      "text/html": [
       "<pre>recommendations finished on 2000/85842 queries. users per second: 12683.2</pre>"
      ],
      "text/plain": [
       "recommendations finished on 2000/85842 queries. users per second: 12683.2"
      ]
     },
     "metadata": {},
     "output_type": "display_data"
    },
    {
     "data": {
      "text/html": [
       "<pre>recommendations finished on 3000/85842 queries. users per second: 12898.8</pre>"
      ],
      "text/plain": [
       "recommendations finished on 3000/85842 queries. users per second: 12898.8"
      ]
     },
     "metadata": {},
     "output_type": "display_data"
    },
    {
     "data": {
      "text/html": [
       "<pre>recommendations finished on 4000/85842 queries. users per second: 13026.6</pre>"
      ],
      "text/plain": [
       "recommendations finished on 4000/85842 queries. users per second: 13026.6"
      ]
     },
     "metadata": {},
     "output_type": "display_data"
    },
    {
     "data": {
      "text/html": [
       "<pre>recommendations finished on 5000/85842 queries. users per second: 13084.3</pre>"
      ],
      "text/plain": [
       "recommendations finished on 5000/85842 queries. users per second: 13084.3"
      ]
     },
     "metadata": {},
     "output_type": "display_data"
    },
    {
     "data": {
      "text/html": [
       "<pre>recommendations finished on 6000/85842 queries. users per second: 12577.5</pre>"
      ],
      "text/plain": [
       "recommendations finished on 6000/85842 queries. users per second: 12577.5"
      ]
     },
     "metadata": {},
     "output_type": "display_data"
    },
    {
     "data": {
      "text/html": [
       "<pre>recommendations finished on 7000/85842 queries. users per second: 12687.7</pre>"
      ],
      "text/plain": [
       "recommendations finished on 7000/85842 queries. users per second: 12687.7"
      ]
     },
     "metadata": {},
     "output_type": "display_data"
    },
    {
     "data": {
      "text/html": [
       "<pre>recommendations finished on 8000/85842 queries. users per second: 12767.9</pre>"
      ],
      "text/plain": [
       "recommendations finished on 8000/85842 queries. users per second: 12767.9"
      ]
     },
     "metadata": {},
     "output_type": "display_data"
    },
    {
     "data": {
      "text/html": [
       "<pre>recommendations finished on 9000/85842 queries. users per second: 12821.1</pre>"
      ],
      "text/plain": [
       "recommendations finished on 9000/85842 queries. users per second: 12821.1"
      ]
     },
     "metadata": {},
     "output_type": "display_data"
    },
    {
     "data": {
      "text/html": [
       "<pre>recommendations finished on 10000/85842 queries. users per second: 12878.3</pre>"
      ],
      "text/plain": [
       "recommendations finished on 10000/85842 queries. users per second: 12878.3"
      ]
     },
     "metadata": {},
     "output_type": "display_data"
    },
    {
     "data": {
      "text/html": [
       "<pre>recommendations finished on 11000/85842 queries. users per second: 12921</pre>"
      ],
      "text/plain": [
       "recommendations finished on 11000/85842 queries. users per second: 12921"
      ]
     },
     "metadata": {},
     "output_type": "display_data"
    },
    {
     "data": {
      "text/html": [
       "<pre>recommendations finished on 12000/85842 queries. users per second: 12945.7</pre>"
      ],
      "text/plain": [
       "recommendations finished on 12000/85842 queries. users per second: 12945.7"
      ]
     },
     "metadata": {},
     "output_type": "display_data"
    },
    {
     "data": {
      "text/html": [
       "<pre>recommendations finished on 13000/85842 queries. users per second: 12971.6</pre>"
      ],
      "text/plain": [
       "recommendations finished on 13000/85842 queries. users per second: 12971.6"
      ]
     },
     "metadata": {},
     "output_type": "display_data"
    },
    {
     "data": {
      "text/html": [
       "<pre>recommendations finished on 14000/85842 queries. users per second: 12994.4</pre>"
      ],
      "text/plain": [
       "recommendations finished on 14000/85842 queries. users per second: 12994.4"
      ]
     },
     "metadata": {},
     "output_type": "display_data"
    },
    {
     "data": {
      "text/html": [
       "<pre>recommendations finished on 15000/85842 queries. users per second: 13005.7</pre>"
      ],
      "text/plain": [
       "recommendations finished on 15000/85842 queries. users per second: 13005.7"
      ]
     },
     "metadata": {},
     "output_type": "display_data"
    },
    {
     "data": {
      "text/html": [
       "<pre>recommendations finished on 16000/85842 queries. users per second: 13027.3</pre>"
      ],
      "text/plain": [
       "recommendations finished on 16000/85842 queries. users per second: 13027.3"
      ]
     },
     "metadata": {},
     "output_type": "display_data"
    },
    {
     "data": {
      "text/html": [
       "<pre>recommendations finished on 17000/85842 queries. users per second: 13047.1</pre>"
      ],
      "text/plain": [
       "recommendations finished on 17000/85842 queries. users per second: 13047.1"
      ]
     },
     "metadata": {},
     "output_type": "display_data"
    },
    {
     "data": {
      "text/html": [
       "<pre>recommendations finished on 18000/85842 queries. users per second: 13062.5</pre>"
      ],
      "text/plain": [
       "recommendations finished on 18000/85842 queries. users per second: 13062.5"
      ]
     },
     "metadata": {},
     "output_type": "display_data"
    },
    {
     "data": {
      "text/html": [
       "<pre>recommendations finished on 19000/85842 queries. users per second: 13082.6</pre>"
      ],
      "text/plain": [
       "recommendations finished on 19000/85842 queries. users per second: 13082.6"
      ]
     },
     "metadata": {},
     "output_type": "display_data"
    },
    {
     "data": {
      "text/html": [
       "<pre>recommendations finished on 20000/85842 queries. users per second: 13096.6</pre>"
      ],
      "text/plain": [
       "recommendations finished on 20000/85842 queries. users per second: 13096.6"
      ]
     },
     "metadata": {},
     "output_type": "display_data"
    },
    {
     "data": {
      "text/html": [
       "<pre>recommendations finished on 21000/85842 queries. users per second: 13106.5</pre>"
      ],
      "text/plain": [
       "recommendations finished on 21000/85842 queries. users per second: 13106.5"
      ]
     },
     "metadata": {},
     "output_type": "display_data"
    },
    {
     "data": {
      "text/html": [
       "<pre>recommendations finished on 22000/85842 queries. users per second: 13114.3</pre>"
      ],
      "text/plain": [
       "recommendations finished on 22000/85842 queries. users per second: 13114.3"
      ]
     },
     "metadata": {},
     "output_type": "display_data"
    },
    {
     "data": {
      "text/html": [
       "<pre>recommendations finished on 23000/85842 queries. users per second: 13109</pre>"
      ],
      "text/plain": [
       "recommendations finished on 23000/85842 queries. users per second: 13109"
      ]
     },
     "metadata": {},
     "output_type": "display_data"
    },
    {
     "data": {
      "text/html": [
       "<pre>recommendations finished on 24000/85842 queries. users per second: 13115.4</pre>"
      ],
      "text/plain": [
       "recommendations finished on 24000/85842 queries. users per second: 13115.4"
      ]
     },
     "metadata": {},
     "output_type": "display_data"
    },
    {
     "data": {
      "text/html": [
       "<pre>recommendations finished on 25000/85842 queries. users per second: 13124.5</pre>"
      ],
      "text/plain": [
       "recommendations finished on 25000/85842 queries. users per second: 13124.5"
      ]
     },
     "metadata": {},
     "output_type": "display_data"
    },
    {
     "data": {
      "text/html": [
       "<pre>recommendations finished on 26000/85842 queries. users per second: 13129.4</pre>"
      ],
      "text/plain": [
       "recommendations finished on 26000/85842 queries. users per second: 13129.4"
      ]
     },
     "metadata": {},
     "output_type": "display_data"
    },
    {
     "data": {
      "text/html": [
       "<pre>recommendations finished on 27000/85842 queries. users per second: 13135.5</pre>"
      ],
      "text/plain": [
       "recommendations finished on 27000/85842 queries. users per second: 13135.5"
      ]
     },
     "metadata": {},
     "output_type": "display_data"
    },
    {
     "data": {
      "text/html": [
       "<pre>recommendations finished on 28000/85842 queries. users per second: 13142.3</pre>"
      ],
      "text/plain": [
       "recommendations finished on 28000/85842 queries. users per second: 13142.3"
      ]
     },
     "metadata": {},
     "output_type": "display_data"
    },
    {
     "data": {
      "text/html": [
       "<pre>recommendations finished on 29000/85842 queries. users per second: 13126.9</pre>"
      ],
      "text/plain": [
       "recommendations finished on 29000/85842 queries. users per second: 13126.9"
      ]
     },
     "metadata": {},
     "output_type": "display_data"
    },
    {
     "data": {
      "text/html": [
       "<pre>recommendations finished on 30000/85842 queries. users per second: 13101.6</pre>"
      ],
      "text/plain": [
       "recommendations finished on 30000/85842 queries. users per second: 13101.6"
      ]
     },
     "metadata": {},
     "output_type": "display_data"
    },
    {
     "data": {
      "text/html": [
       "<pre>recommendations finished on 31000/85842 queries. users per second: 13088.9</pre>"
      ],
      "text/plain": [
       "recommendations finished on 31000/85842 queries. users per second: 13088.9"
      ]
     },
     "metadata": {},
     "output_type": "display_data"
    },
    {
     "data": {
      "text/html": [
       "<pre>recommendations finished on 32000/85842 queries. users per second: 13071.9</pre>"
      ],
      "text/plain": [
       "recommendations finished on 32000/85842 queries. users per second: 13071.9"
      ]
     },
     "metadata": {},
     "output_type": "display_data"
    },
    {
     "data": {
      "text/html": [
       "<pre>recommendations finished on 33000/85842 queries. users per second: 13054.5</pre>"
      ],
      "text/plain": [
       "recommendations finished on 33000/85842 queries. users per second: 13054.5"
      ]
     },
     "metadata": {},
     "output_type": "display_data"
    },
    {
     "data": {
      "text/html": [
       "<pre>recommendations finished on 34000/85842 queries. users per second: 13035.3</pre>"
      ],
      "text/plain": [
       "recommendations finished on 34000/85842 queries. users per second: 13035.3"
      ]
     },
     "metadata": {},
     "output_type": "display_data"
    },
    {
     "data": {
      "text/html": [
       "<pre>recommendations finished on 35000/85842 queries. users per second: 13023.3</pre>"
      ],
      "text/plain": [
       "recommendations finished on 35000/85842 queries. users per second: 13023.3"
      ]
     },
     "metadata": {},
     "output_type": "display_data"
    },
    {
     "data": {
      "text/html": [
       "<pre>recommendations finished on 36000/85842 queries. users per second: 12989.9</pre>"
      ],
      "text/plain": [
       "recommendations finished on 36000/85842 queries. users per second: 12989.9"
      ]
     },
     "metadata": {},
     "output_type": "display_data"
    },
    {
     "data": {
      "text/html": [
       "<pre>recommendations finished on 37000/85842 queries. users per second: 12976.3</pre>"
      ],
      "text/plain": [
       "recommendations finished on 37000/85842 queries. users per second: 12976.3"
      ]
     },
     "metadata": {},
     "output_type": "display_data"
    },
    {
     "data": {
      "text/html": [
       "<pre>recommendations finished on 38000/85842 queries. users per second: 12961.7</pre>"
      ],
      "text/plain": [
       "recommendations finished on 38000/85842 queries. users per second: 12961.7"
      ]
     },
     "metadata": {},
     "output_type": "display_data"
    },
    {
     "data": {
      "text/html": [
       "<pre>recommendations finished on 39000/85842 queries. users per second: 12941.9</pre>"
      ],
      "text/plain": [
       "recommendations finished on 39000/85842 queries. users per second: 12941.9"
      ]
     },
     "metadata": {},
     "output_type": "display_data"
    },
    {
     "data": {
      "text/html": [
       "<pre>recommendations finished on 40000/85842 queries. users per second: 12907.3</pre>"
      ],
      "text/plain": [
       "recommendations finished on 40000/85842 queries. users per second: 12907.3"
      ]
     },
     "metadata": {},
     "output_type": "display_data"
    },
    {
     "data": {
      "text/html": [
       "<pre>recommendations finished on 41000/85842 queries. users per second: 12912.4</pre>"
      ],
      "text/plain": [
       "recommendations finished on 41000/85842 queries. users per second: 12912.4"
      ]
     },
     "metadata": {},
     "output_type": "display_data"
    },
    {
     "data": {
      "text/html": [
       "<pre>recommendations finished on 42000/85842 queries. users per second: 12921.7</pre>"
      ],
      "text/plain": [
       "recommendations finished on 42000/85842 queries. users per second: 12921.7"
      ]
     },
     "metadata": {},
     "output_type": "display_data"
    },
    {
     "data": {
      "text/html": [
       "<pre>recommendations finished on 43000/85842 queries. users per second: 12931.3</pre>"
      ],
      "text/plain": [
       "recommendations finished on 43000/85842 queries. users per second: 12931.3"
      ]
     },
     "metadata": {},
     "output_type": "display_data"
    },
    {
     "data": {
      "text/html": [
       "<pre>recommendations finished on 44000/85842 queries. users per second: 12942.4</pre>"
      ],
      "text/plain": [
       "recommendations finished on 44000/85842 queries. users per second: 12942.4"
      ]
     },
     "metadata": {},
     "output_type": "display_data"
    },
    {
     "data": {
      "text/html": [
       "<pre>recommendations finished on 45000/85842 queries. users per second: 12943.1</pre>"
      ],
      "text/plain": [
       "recommendations finished on 45000/85842 queries. users per second: 12943.1"
      ]
     },
     "metadata": {},
     "output_type": "display_data"
    },
    {
     "data": {
      "text/html": [
       "<pre>recommendations finished on 46000/85842 queries. users per second: 12945.9</pre>"
      ],
      "text/plain": [
       "recommendations finished on 46000/85842 queries. users per second: 12945.9"
      ]
     },
     "metadata": {},
     "output_type": "display_data"
    },
    {
     "data": {
      "text/html": [
       "<pre>recommendations finished on 47000/85842 queries. users per second: 12952.3</pre>"
      ],
      "text/plain": [
       "recommendations finished on 47000/85842 queries. users per second: 12952.3"
      ]
     },
     "metadata": {},
     "output_type": "display_data"
    },
    {
     "data": {
      "text/html": [
       "<pre>recommendations finished on 48000/85842 queries. users per second: 12960.9</pre>"
      ],
      "text/plain": [
       "recommendations finished on 48000/85842 queries. users per second: 12960.9"
      ]
     },
     "metadata": {},
     "output_type": "display_data"
    },
    {
     "data": {
      "text/html": [
       "<pre>recommendations finished on 49000/85842 queries. users per second: 12969.8</pre>"
      ],
      "text/plain": [
       "recommendations finished on 49000/85842 queries. users per second: 12969.8"
      ]
     },
     "metadata": {},
     "output_type": "display_data"
    },
    {
     "data": {
      "text/html": [
       "<pre>recommendations finished on 50000/85842 queries. users per second: 12977</pre>"
      ],
      "text/plain": [
       "recommendations finished on 50000/85842 queries. users per second: 12977"
      ]
     },
     "metadata": {},
     "output_type": "display_data"
    },
    {
     "data": {
      "text/html": [
       "<pre>recommendations finished on 51000/85842 queries. users per second: 12983.8</pre>"
      ],
      "text/plain": [
       "recommendations finished on 51000/85842 queries. users per second: 12983.8"
      ]
     },
     "metadata": {},
     "output_type": "display_data"
    },
    {
     "data": {
      "text/html": [
       "<pre>recommendations finished on 52000/85842 queries. users per second: 12988.3</pre>"
      ],
      "text/plain": [
       "recommendations finished on 52000/85842 queries. users per second: 12988.3"
      ]
     },
     "metadata": {},
     "output_type": "display_data"
    },
    {
     "data": {
      "text/html": [
       "<pre>recommendations finished on 53000/85842 queries. users per second: 12995.2</pre>"
      ],
      "text/plain": [
       "recommendations finished on 53000/85842 queries. users per second: 12995.2"
      ]
     },
     "metadata": {},
     "output_type": "display_data"
    },
    {
     "data": {
      "text/html": [
       "<pre>recommendations finished on 54000/85842 queries. users per second: 13001.9</pre>"
      ],
      "text/plain": [
       "recommendations finished on 54000/85842 queries. users per second: 13001.9"
      ]
     },
     "metadata": {},
     "output_type": "display_data"
    },
    {
     "data": {
      "text/html": [
       "<pre>recommendations finished on 55000/85842 queries. users per second: 13006.8</pre>"
      ],
      "text/plain": [
       "recommendations finished on 55000/85842 queries. users per second: 13006.8"
      ]
     },
     "metadata": {},
     "output_type": "display_data"
    },
    {
     "data": {
      "text/html": [
       "<pre>recommendations finished on 56000/85842 queries. users per second: 13012.1</pre>"
      ],
      "text/plain": [
       "recommendations finished on 56000/85842 queries. users per second: 13012.1"
      ]
     },
     "metadata": {},
     "output_type": "display_data"
    },
    {
     "data": {
      "text/html": [
       "<pre>recommendations finished on 57000/85842 queries. users per second: 13016.2</pre>"
      ],
      "text/plain": [
       "recommendations finished on 57000/85842 queries. users per second: 13016.2"
      ]
     },
     "metadata": {},
     "output_type": "display_data"
    },
    {
     "data": {
      "text/html": [
       "<pre>recommendations finished on 58000/85842 queries. users per second: 13021.3</pre>"
      ],
      "text/plain": [
       "recommendations finished on 58000/85842 queries. users per second: 13021.3"
      ]
     },
     "metadata": {},
     "output_type": "display_data"
    },
    {
     "data": {
      "text/html": [
       "<pre>recommendations finished on 59000/85842 queries. users per second: 13025.4</pre>"
      ],
      "text/plain": [
       "recommendations finished on 59000/85842 queries. users per second: 13025.4"
      ]
     },
     "metadata": {},
     "output_type": "display_data"
    },
    {
     "data": {
      "text/html": [
       "<pre>recommendations finished on 60000/85842 queries. users per second: 13029.3</pre>"
      ],
      "text/plain": [
       "recommendations finished on 60000/85842 queries. users per second: 13029.3"
      ]
     },
     "metadata": {},
     "output_type": "display_data"
    },
    {
     "data": {
      "text/html": [
       "<pre>recommendations finished on 61000/85842 queries. users per second: 13035</pre>"
      ],
      "text/plain": [
       "recommendations finished on 61000/85842 queries. users per second: 13035"
      ]
     },
     "metadata": {},
     "output_type": "display_data"
    },
    {
     "data": {
      "text/html": [
       "<pre>recommendations finished on 62000/85842 queries. users per second: 13040.2</pre>"
      ],
      "text/plain": [
       "recommendations finished on 62000/85842 queries. users per second: 13040.2"
      ]
     },
     "metadata": {},
     "output_type": "display_data"
    },
    {
     "data": {
      "text/html": [
       "<pre>recommendations finished on 63000/85842 queries. users per second: 13044.5</pre>"
      ],
      "text/plain": [
       "recommendations finished on 63000/85842 queries. users per second: 13044.5"
      ]
     },
     "metadata": {},
     "output_type": "display_data"
    },
    {
     "data": {
      "text/html": [
       "<pre>recommendations finished on 64000/85842 queries. users per second: 13047.5</pre>"
      ],
      "text/plain": [
       "recommendations finished on 64000/85842 queries. users per second: 13047.5"
      ]
     },
     "metadata": {},
     "output_type": "display_data"
    },
    {
     "data": {
      "text/html": [
       "<pre>recommendations finished on 65000/85842 queries. users per second: 13049.1</pre>"
      ],
      "text/plain": [
       "recommendations finished on 65000/85842 queries. users per second: 13049.1"
      ]
     },
     "metadata": {},
     "output_type": "display_data"
    },
    {
     "data": {
      "text/html": [
       "<pre>recommendations finished on 66000/85842 queries. users per second: 13050.5</pre>"
      ],
      "text/plain": [
       "recommendations finished on 66000/85842 queries. users per second: 13050.5"
      ]
     },
     "metadata": {},
     "output_type": "display_data"
    },
    {
     "data": {
      "text/html": [
       "<pre>recommendations finished on 67000/85842 queries. users per second: 13053.2</pre>"
      ],
      "text/plain": [
       "recommendations finished on 67000/85842 queries. users per second: 13053.2"
      ]
     },
     "metadata": {},
     "output_type": "display_data"
    },
    {
     "data": {
      "text/html": [
       "<pre>recommendations finished on 68000/85842 queries. users per second: 13052.5</pre>"
      ],
      "text/plain": [
       "recommendations finished on 68000/85842 queries. users per second: 13052.5"
      ]
     },
     "metadata": {},
     "output_type": "display_data"
    },
    {
     "data": {
      "text/html": [
       "<pre>recommendations finished on 69000/85842 queries. users per second: 13056.2</pre>"
      ],
      "text/plain": [
       "recommendations finished on 69000/85842 queries. users per second: 13056.2"
      ]
     },
     "metadata": {},
     "output_type": "display_data"
    },
    {
     "data": {
      "text/html": [
       "<pre>recommendations finished on 70000/85842 queries. users per second: 13058.6</pre>"
      ],
      "text/plain": [
       "recommendations finished on 70000/85842 queries. users per second: 13058.6"
      ]
     },
     "metadata": {},
     "output_type": "display_data"
    },
    {
     "data": {
      "text/html": [
       "<pre>recommendations finished on 71000/85842 queries. users per second: 13061.1</pre>"
      ],
      "text/plain": [
       "recommendations finished on 71000/85842 queries. users per second: 13061.1"
      ]
     },
     "metadata": {},
     "output_type": "display_data"
    },
    {
     "data": {
      "text/html": [
       "<pre>recommendations finished on 72000/85842 queries. users per second: 13062.1</pre>"
      ],
      "text/plain": [
       "recommendations finished on 72000/85842 queries. users per second: 13062.1"
      ]
     },
     "metadata": {},
     "output_type": "display_data"
    },
    {
     "data": {
      "text/html": [
       "<pre>recommendations finished on 73000/85842 queries. users per second: 13065</pre>"
      ],
      "text/plain": [
       "recommendations finished on 73000/85842 queries. users per second: 13065"
      ]
     },
     "metadata": {},
     "output_type": "display_data"
    },
    {
     "data": {
      "text/html": [
       "<pre>recommendations finished on 74000/85842 queries. users per second: 13068.2</pre>"
      ],
      "text/plain": [
       "recommendations finished on 74000/85842 queries. users per second: 13068.2"
      ]
     },
     "metadata": {},
     "output_type": "display_data"
    },
    {
     "data": {
      "text/html": [
       "<pre>recommendations finished on 75000/85842 queries. users per second: 13072.9</pre>"
      ],
      "text/plain": [
       "recommendations finished on 75000/85842 queries. users per second: 13072.9"
      ]
     },
     "metadata": {},
     "output_type": "display_data"
    },
    {
     "data": {
      "text/html": [
       "<pre>recommendations finished on 76000/85842 queries. users per second: 13076.2</pre>"
      ],
      "text/plain": [
       "recommendations finished on 76000/85842 queries. users per second: 13076.2"
      ]
     },
     "metadata": {},
     "output_type": "display_data"
    },
    {
     "data": {
      "text/html": [
       "<pre>recommendations finished on 77000/85842 queries. users per second: 13079.3</pre>"
      ],
      "text/plain": [
       "recommendations finished on 77000/85842 queries. users per second: 13079.3"
      ]
     },
     "metadata": {},
     "output_type": "display_data"
    },
    {
     "data": {
      "text/html": [
       "<pre>recommendations finished on 78000/85842 queries. users per second: 13082.9</pre>"
      ],
      "text/plain": [
       "recommendations finished on 78000/85842 queries. users per second: 13082.9"
      ]
     },
     "metadata": {},
     "output_type": "display_data"
    },
    {
     "data": {
      "text/html": [
       "<pre>recommendations finished on 79000/85842 queries. users per second: 13087</pre>"
      ],
      "text/plain": [
       "recommendations finished on 79000/85842 queries. users per second: 13087"
      ]
     },
     "metadata": {},
     "output_type": "display_data"
    },
    {
     "data": {
      "text/html": [
       "<pre>recommendations finished on 80000/85842 queries. users per second: 13089.5</pre>"
      ],
      "text/plain": [
       "recommendations finished on 80000/85842 queries. users per second: 13089.5"
      ]
     },
     "metadata": {},
     "output_type": "display_data"
    },
    {
     "data": {
      "text/html": [
       "<pre>recommendations finished on 81000/85842 queries. users per second: 13093.2</pre>"
      ],
      "text/plain": [
       "recommendations finished on 81000/85842 queries. users per second: 13093.2"
      ]
     },
     "metadata": {},
     "output_type": "display_data"
    },
    {
     "data": {
      "text/html": [
       "<pre>recommendations finished on 82000/85842 queries. users per second: 13097</pre>"
      ],
      "text/plain": [
       "recommendations finished on 82000/85842 queries. users per second: 13097"
      ]
     },
     "metadata": {},
     "output_type": "display_data"
    },
    {
     "data": {
      "text/html": [
       "<pre>recommendations finished on 83000/85842 queries. users per second: 13100.3</pre>"
      ],
      "text/plain": [
       "recommendations finished on 83000/85842 queries. users per second: 13100.3"
      ]
     },
     "metadata": {},
     "output_type": "display_data"
    },
    {
     "data": {
      "text/html": [
       "<pre>recommendations finished on 84000/85842 queries. users per second: 13103.8</pre>"
      ],
      "text/plain": [
       "recommendations finished on 84000/85842 queries. users per second: 13103.8"
      ]
     },
     "metadata": {},
     "output_type": "display_data"
    },
    {
     "data": {
      "text/html": [
       "<pre>recommendations finished on 85000/85842 queries. users per second: 13029.3</pre>"
      ],
      "text/plain": [
       "recommendations finished on 85000/85842 queries. users per second: 13029.3"
      ]
     },
     "metadata": {},
     "output_type": "display_data"
    },
    {
     "name": "stdout",
     "output_type": "stream",
     "text": [
      "\n",
      "Precision and recall summary statistics by cutoff\n",
      "+--------+-----------------------+----------------------+\n",
      "| cutoff |     mean_precision    |     mean_recall      |\n",
      "+--------+-----------------------+----------------------+\n",
      "|   1    |  0.006139185946273366 | 0.003906332051645545 |\n",
      "|   2    |  0.004980079681274885 | 0.00614822353569121  |\n",
      "|   3    |  0.004244231650396437 | 0.007688942842138102 |\n",
      "|   4    | 0.0038500966892663106 | 0.009013848782791597 |\n",
      "|   5    |  0.003476153864075791 | 0.009989765167249262 |\n",
      "|   6    | 0.0031996769258249343 | 0.010960763794989371 |\n",
      "|   7    |  0.002975566406054933 | 0.011818273143097713 |\n",
      "|   8    | 0.0028016588616295093 | 0.012702136741891029 |\n",
      "|   9    | 0.0026741636443181685 | 0.013547687057106557 |\n",
      "|   10   | 0.0025488688520769877 | 0.014351992559287234 |\n",
      "+--------+-----------------------+----------------------+\n",
      "[10 rows x 3 columns]\n",
      "\n",
      "\n",
      "Overall RMSE: 0.9993991692398976\n",
      "\n",
      "Per User RMSE (best)\n",
      "+------------+--------------------+-------+\n",
      "| customerId |        rmse        | count |\n",
      "+------------+--------------------+-------+\n",
      "|   107862   | 0.8333333333333334 |   1   |\n",
      "+------------+--------------------+-------+\n",
      "[1 rows x 3 columns]\n",
      "\n",
      "\n",
      "Per User RMSE (worst)\n",
      "+------------+------+-------+\n",
      "| customerId | rmse | count |\n",
      "+------------+------+-------+\n",
      "|   79732    | 1.0  |   5   |\n",
      "+------------+------+-------+\n",
      "[1 rows x 3 columns]\n",
      "\n",
      "\n",
      "Per Item RMSE (best)\n",
      "+-----------+--------------------+-------+\n",
      "| productId |        rmse        | count |\n",
      "+-----------+--------------------+-------+\n",
      "|   23527   | 0.9166666865348816 |   1   |\n",
      "+-----------+--------------------+-------+\n",
      "[1 rows x 3 columns]\n",
      "\n",
      "\n",
      "Per Item RMSE (worst)\n",
      "+-----------+------+-------+\n",
      "| productId | rmse | count |\n",
      "+-----------+------+-------+\n",
      "|    7899   | 1.0  |   1   |\n",
      "+-----------+------+-------+\n",
      "[1 rows x 3 columns]\n",
      "\n"
     ]
    }
   ],
   "source": [
    "eval_dummy = tc.recommender.util.compare_models(test_data_dummy, models, model_names=names)"
   ]
  },
  {
   "cell_type": "markdown",
   "metadata": {},
   "source": [
    "## 8. Model Selection\n",
    "### 8.1. Evaluation summary\n",
    "* Precision and Recall\n",
    "![](../images/model_comparisons.png)\n",
    "\n",
    "\n",
    "* Looking at the evaluation summary, we see that the precision and recall for Collaborative Filtering models > Baseline Popularity model, and we choose Jaccard Similarity.  \n",
    "* Evaluating these kind of models is difficult and I would say it is normal to obtain low values for precision and recall.  \n",
    "* This is becuase we actually are not trying to predict what porducts the customer is going to buy, but to give the customer recommendations based on her own previous purchases.    \n",
    "* This evaluation give us an idea of model performance but not a final word.    \n",
    "* It is importan to understand that every recommendation given by the model is joint with a similarity score.    \n",
    "* This score gives us the support of this recommendation.    \n",
    "* The higher the score the bigger the chance that the recommendation is a good one.  \n",
    "* I would only suggest recommendations if scores are sufficiently large.  \n",
    "\n"
   ]
  },
  {
   "cell_type": "markdown",
   "metadata": {},
   "source": [
    "## 9. Output\n",
    "\n",
    "### 9.1 Re-build the model using winner similarity type (jaccard) and all data\n"
   ]
  },
  {
   "cell_type": "code",
   "execution_count": 191,
   "metadata": {},
   "outputs": [
    {
     "data": {
      "text/html": [
       "<pre>Warning: Ignoring columns purchase_count;</pre>"
      ],
      "text/plain": [
       "Warning: Ignoring columns purchase_count;"
      ]
     },
     "metadata": {},
     "output_type": "display_data"
    },
    {
     "data": {
      "text/html": [
       "<pre>    To use these columns in scoring predictions, use a model that allows the use of additional features.</pre>"
      ],
      "text/plain": [
       "    To use these columns in scoring predictions, use a model that allows the use of additional features."
      ]
     },
     "metadata": {},
     "output_type": "display_data"
    },
    {
     "data": {
      "text/html": [
       "<pre>Preparing data set.</pre>"
      ],
      "text/plain": [
       "Preparing data set."
      ]
     },
     "metadata": {},
     "output_type": "display_data"
    },
    {
     "data": {
      "text/html": [
       "<pre>    Data has 565725 observations with 122533 users and 58928 items.</pre>"
      ],
      "text/plain": [
       "    Data has 565725 observations with 122533 users and 58928 items."
      ]
     },
     "metadata": {},
     "output_type": "display_data"
    },
    {
     "data": {
      "text/html": [
       "<pre>    Data prepared in: 0.262237s</pre>"
      ],
      "text/plain": [
       "    Data prepared in: 0.262237s"
      ]
     },
     "metadata": {},
     "output_type": "display_data"
    },
    {
     "data": {
      "text/html": [
       "<pre>Training model from provided data.</pre>"
      ],
      "text/plain": [
       "Training model from provided data."
      ]
     },
     "metadata": {},
     "output_type": "display_data"
    },
    {
     "data": {
      "text/html": [
       "<pre>Gathering per-item and per-user statistics.</pre>"
      ],
      "text/plain": [
       "Gathering per-item and per-user statistics."
      ]
     },
     "metadata": {},
     "output_type": "display_data"
    },
    {
     "data": {
      "text/html": [
       "<pre>+--------------------------------+------------+</pre>"
      ],
      "text/plain": [
       "+--------------------------------+------------+"
      ]
     },
     "metadata": {},
     "output_type": "display_data"
    },
    {
     "data": {
      "text/html": [
       "<pre>| Elapsed Time (Item Statistics) | % Complete |</pre>"
      ],
      "text/plain": [
       "| Elapsed Time (Item Statistics) | % Complete |"
      ]
     },
     "metadata": {},
     "output_type": "display_data"
    },
    {
     "data": {
      "text/html": [
       "<pre>+--------------------------------+------------+</pre>"
      ],
      "text/plain": [
       "+--------------------------------+------------+"
      ]
     },
     "metadata": {},
     "output_type": "display_data"
    },
    {
     "data": {
      "text/html": [
       "<pre>| 810us                          | 0.75       |</pre>"
      ],
      "text/plain": [
       "| 810us                          | 0.75       |"
      ]
     },
     "metadata": {},
     "output_type": "display_data"
    },
    {
     "data": {
      "text/html": [
       "<pre>| 30.51ms                        | 100        |</pre>"
      ],
      "text/plain": [
       "| 30.51ms                        | 100        |"
      ]
     },
     "metadata": {},
     "output_type": "display_data"
    },
    {
     "data": {
      "text/html": [
       "<pre>+--------------------------------+------------+</pre>"
      ],
      "text/plain": [
       "+--------------------------------+------------+"
      ]
     },
     "metadata": {},
     "output_type": "display_data"
    },
    {
     "data": {
      "text/html": [
       "<pre>Setting up lookup tables.</pre>"
      ],
      "text/plain": [
       "Setting up lookup tables."
      ]
     },
     "metadata": {},
     "output_type": "display_data"
    },
    {
     "data": {
      "text/html": [
       "<pre>Processing data in 2 passes using dense lookup tables.</pre>"
      ],
      "text/plain": [
       "Processing data in 2 passes using dense lookup tables."
      ]
     },
     "metadata": {},
     "output_type": "display_data"
    },
    {
     "data": {
      "text/html": [
       "<pre>+-------------------------------------+------------------+-----------------+</pre>"
      ],
      "text/plain": [
       "+-------------------------------------+------------------+-----------------+"
      ]
     },
     "metadata": {},
     "output_type": "display_data"
    },
    {
     "data": {
      "text/html": [
       "<pre>| Elapsed Time (Constructing Lookups) | Total % Complete | Items Processed |</pre>"
      ],
      "text/plain": [
       "| Elapsed Time (Constructing Lookups) | Total % Complete | Items Processed |"
      ]
     },
     "metadata": {},
     "output_type": "display_data"
    },
    {
     "data": {
      "text/html": [
       "<pre>+-------------------------------------+------------------+-----------------+</pre>"
      ],
      "text/plain": [
       "+-------------------------------------+------------------+-----------------+"
      ]
     },
     "metadata": {},
     "output_type": "display_data"
    },
    {
     "data": {
      "text/html": [
       "<pre>| 4.77s                               | 0                | 0               |</pre>"
      ],
      "text/plain": [
       "| 4.77s                               | 0                | 0               |"
      ]
     },
     "metadata": {},
     "output_type": "display_data"
    },
    {
     "data": {
      "text/html": [
       "<pre>| 10.54s                              | 49.75            | 29463           |</pre>"
      ],
      "text/plain": [
       "| 10.54s                              | 49.75            | 29463           |"
      ]
     },
     "metadata": {},
     "output_type": "display_data"
    },
    {
     "data": {
      "text/html": [
       "<pre>| 12.50s                              | 100              | 58928           |</pre>"
      ],
      "text/plain": [
       "| 12.50s                              | 100              | 58928           |"
      ]
     },
     "metadata": {},
     "output_type": "display_data"
    },
    {
     "data": {
      "text/html": [
       "<pre>+-------------------------------------+------------------+-----------------+</pre>"
      ],
      "text/plain": [
       "+-------------------------------------+------------------+-----------------+"
      ]
     },
     "metadata": {},
     "output_type": "display_data"
    },
    {
     "data": {
      "text/html": [
       "<pre>Finalizing lookup tables.</pre>"
      ],
      "text/plain": [
       "Finalizing lookup tables."
      ]
     },
     "metadata": {},
     "output_type": "display_data"
    },
    {
     "data": {
      "text/html": [
       "<pre>Generating candidate set for working with new users.</pre>"
      ],
      "text/plain": [
       "Generating candidate set for working with new users."
      ]
     },
     "metadata": {},
     "output_type": "display_data"
    },
    {
     "data": {
      "text/html": [
       "<pre>Finished training in 12.5432s</pre>"
      ],
      "text/plain": [
       "Finished training in 12.5432s"
      ]
     },
     "metadata": {},
     "output_type": "display_data"
    },
    {
     "data": {
      "text/html": [
       "<pre>recommendations finished on 1000/122533 queries. users per second: 13984.8</pre>"
      ],
      "text/plain": [
       "recommendations finished on 1000/122533 queries. users per second: 13984.8"
      ]
     },
     "metadata": {},
     "output_type": "display_data"
    },
    {
     "data": {
      "text/html": [
       "<pre>recommendations finished on 2000/122533 queries. users per second: 14124.7</pre>"
      ],
      "text/plain": [
       "recommendations finished on 2000/122533 queries. users per second: 14124.7"
      ]
     },
     "metadata": {},
     "output_type": "display_data"
    },
    {
     "data": {
      "text/html": [
       "<pre>recommendations finished on 3000/122533 queries. users per second: 14173.7</pre>"
      ],
      "text/plain": [
       "recommendations finished on 3000/122533 queries. users per second: 14173.7"
      ]
     },
     "metadata": {},
     "output_type": "display_data"
    },
    {
     "data": {
      "text/html": [
       "<pre>recommendations finished on 4000/122533 queries. users per second: 14172.9</pre>"
      ],
      "text/plain": [
       "recommendations finished on 4000/122533 queries. users per second: 14172.9"
      ]
     },
     "metadata": {},
     "output_type": "display_data"
    },
    {
     "data": {
      "text/html": [
       "<pre>recommendations finished on 5000/122533 queries. users per second: 14183.1</pre>"
      ],
      "text/plain": [
       "recommendations finished on 5000/122533 queries. users per second: 14183.1"
      ]
     },
     "metadata": {},
     "output_type": "display_data"
    },
    {
     "data": {
      "text/html": [
       "<pre>recommendations finished on 6000/122533 queries. users per second: 14188.6</pre>"
      ],
      "text/plain": [
       "recommendations finished on 6000/122533 queries. users per second: 14188.6"
      ]
     },
     "metadata": {},
     "output_type": "display_data"
    },
    {
     "data": {
      "text/html": [
       "<pre>recommendations finished on 7000/122533 queries. users per second: 14186.7</pre>"
      ],
      "text/plain": [
       "recommendations finished on 7000/122533 queries. users per second: 14186.7"
      ]
     },
     "metadata": {},
     "output_type": "display_data"
    },
    {
     "data": {
      "text/html": [
       "<pre>recommendations finished on 8000/122533 queries. users per second: 14182.8</pre>"
      ],
      "text/plain": [
       "recommendations finished on 8000/122533 queries. users per second: 14182.8"
      ]
     },
     "metadata": {},
     "output_type": "display_data"
    },
    {
     "data": {
      "text/html": [
       "<pre>recommendations finished on 9000/122533 queries. users per second: 14185.7</pre>"
      ],
      "text/plain": [
       "recommendations finished on 9000/122533 queries. users per second: 14185.7"
      ]
     },
     "metadata": {},
     "output_type": "display_data"
    },
    {
     "data": {
      "text/html": [
       "<pre>recommendations finished on 10000/122533 queries. users per second: 14182.7</pre>"
      ],
      "text/plain": [
       "recommendations finished on 10000/122533 queries. users per second: 14182.7"
      ]
     },
     "metadata": {},
     "output_type": "display_data"
    },
    {
     "data": {
      "text/html": [
       "<pre>recommendations finished on 11000/122533 queries. users per second: 14181.2</pre>"
      ],
      "text/plain": [
       "recommendations finished on 11000/122533 queries. users per second: 14181.2"
      ]
     },
     "metadata": {},
     "output_type": "display_data"
    },
    {
     "data": {
      "text/html": [
       "<pre>recommendations finished on 12000/122533 queries. users per second: 14182.7</pre>"
      ],
      "text/plain": [
       "recommendations finished on 12000/122533 queries. users per second: 14182.7"
      ]
     },
     "metadata": {},
     "output_type": "display_data"
    },
    {
     "data": {
      "text/html": [
       "<pre>recommendations finished on 13000/122533 queries. users per second: 14179.4</pre>"
      ],
      "text/plain": [
       "recommendations finished on 13000/122533 queries. users per second: 14179.4"
      ]
     },
     "metadata": {},
     "output_type": "display_data"
    },
    {
     "data": {
      "text/html": [
       "<pre>recommendations finished on 14000/122533 queries. users per second: 14175.9</pre>"
      ],
      "text/plain": [
       "recommendations finished on 14000/122533 queries. users per second: 14175.9"
      ]
     },
     "metadata": {},
     "output_type": "display_data"
    },
    {
     "data": {
      "text/html": [
       "<pre>recommendations finished on 15000/122533 queries. users per second: 14179.1</pre>"
      ],
      "text/plain": [
       "recommendations finished on 15000/122533 queries. users per second: 14179.1"
      ]
     },
     "metadata": {},
     "output_type": "display_data"
    },
    {
     "data": {
      "text/html": [
       "<pre>recommendations finished on 16000/122533 queries. users per second: 14184.3</pre>"
      ],
      "text/plain": [
       "recommendations finished on 16000/122533 queries. users per second: 14184.3"
      ]
     },
     "metadata": {},
     "output_type": "display_data"
    },
    {
     "data": {
      "text/html": [
       "<pre>recommendations finished on 17000/122533 queries. users per second: 14190.1</pre>"
      ],
      "text/plain": [
       "recommendations finished on 17000/122533 queries. users per second: 14190.1"
      ]
     },
     "metadata": {},
     "output_type": "display_data"
    },
    {
     "data": {
      "text/html": [
       "<pre>recommendations finished on 18000/122533 queries. users per second: 14187.8</pre>"
      ],
      "text/plain": [
       "recommendations finished on 18000/122533 queries. users per second: 14187.8"
      ]
     },
     "metadata": {},
     "output_type": "display_data"
    },
    {
     "data": {
      "text/html": [
       "<pre>recommendations finished on 19000/122533 queries. users per second: 14192.5</pre>"
      ],
      "text/plain": [
       "recommendations finished on 19000/122533 queries. users per second: 14192.5"
      ]
     },
     "metadata": {},
     "output_type": "display_data"
    },
    {
     "data": {
      "text/html": [
       "<pre>recommendations finished on 20000/122533 queries. users per second: 14196.5</pre>"
      ],
      "text/plain": [
       "recommendations finished on 20000/122533 queries. users per second: 14196.5"
      ]
     },
     "metadata": {},
     "output_type": "display_data"
    },
    {
     "data": {
      "text/html": [
       "<pre>recommendations finished on 21000/122533 queries. users per second: 14196.8</pre>"
      ],
      "text/plain": [
       "recommendations finished on 21000/122533 queries. users per second: 14196.8"
      ]
     },
     "metadata": {},
     "output_type": "display_data"
    },
    {
     "data": {
      "text/html": [
       "<pre>recommendations finished on 22000/122533 queries. users per second: 14199.1</pre>"
      ],
      "text/plain": [
       "recommendations finished on 22000/122533 queries. users per second: 14199.1"
      ]
     },
     "metadata": {},
     "output_type": "display_data"
    },
    {
     "data": {
      "text/html": [
       "<pre>recommendations finished on 23000/122533 queries. users per second: 14202.5</pre>"
      ],
      "text/plain": [
       "recommendations finished on 23000/122533 queries. users per second: 14202.5"
      ]
     },
     "metadata": {},
     "output_type": "display_data"
    },
    {
     "data": {
      "text/html": [
       "<pre>recommendations finished on 24000/122533 queries. users per second: 14203.4</pre>"
      ],
      "text/plain": [
       "recommendations finished on 24000/122533 queries. users per second: 14203.4"
      ]
     },
     "metadata": {},
     "output_type": "display_data"
    },
    {
     "data": {
      "text/html": [
       "<pre>recommendations finished on 25000/122533 queries. users per second: 14196.9</pre>"
      ],
      "text/plain": [
       "recommendations finished on 25000/122533 queries. users per second: 14196.9"
      ]
     },
     "metadata": {},
     "output_type": "display_data"
    },
    {
     "data": {
      "text/html": [
       "<pre>recommendations finished on 26000/122533 queries. users per second: 14197</pre>"
      ],
      "text/plain": [
       "recommendations finished on 26000/122533 queries. users per second: 14197"
      ]
     },
     "metadata": {},
     "output_type": "display_data"
    },
    {
     "data": {
      "text/html": [
       "<pre>recommendations finished on 27000/122533 queries. users per second: 14180.3</pre>"
      ],
      "text/plain": [
       "recommendations finished on 27000/122533 queries. users per second: 14180.3"
      ]
     },
     "metadata": {},
     "output_type": "display_data"
    },
    {
     "data": {
      "text/html": [
       "<pre>recommendations finished on 28000/122533 queries. users per second: 14182.3</pre>"
      ],
      "text/plain": [
       "recommendations finished on 28000/122533 queries. users per second: 14182.3"
      ]
     },
     "metadata": {},
     "output_type": "display_data"
    },
    {
     "data": {
      "text/html": [
       "<pre>recommendations finished on 29000/122533 queries. users per second: 14179.7</pre>"
      ],
      "text/plain": [
       "recommendations finished on 29000/122533 queries. users per second: 14179.7"
      ]
     },
     "metadata": {},
     "output_type": "display_data"
    },
    {
     "data": {
      "text/html": [
       "<pre>recommendations finished on 30000/122533 queries. users per second: 14177.7</pre>"
      ],
      "text/plain": [
       "recommendations finished on 30000/122533 queries. users per second: 14177.7"
      ]
     },
     "metadata": {},
     "output_type": "display_data"
    },
    {
     "data": {
      "text/html": [
       "<pre>recommendations finished on 31000/122533 queries. users per second: 14177.3</pre>"
      ],
      "text/plain": [
       "recommendations finished on 31000/122533 queries. users per second: 14177.3"
      ]
     },
     "metadata": {},
     "output_type": "display_data"
    },
    {
     "data": {
      "text/html": [
       "<pre>recommendations finished on 32000/122533 queries. users per second: 14175.1</pre>"
      ],
      "text/plain": [
       "recommendations finished on 32000/122533 queries. users per second: 14175.1"
      ]
     },
     "metadata": {},
     "output_type": "display_data"
    },
    {
     "data": {
      "text/html": [
       "<pre>recommendations finished on 33000/122533 queries. users per second: 14174.8</pre>"
      ],
      "text/plain": [
       "recommendations finished on 33000/122533 queries. users per second: 14174.8"
      ]
     },
     "metadata": {},
     "output_type": "display_data"
    },
    {
     "data": {
      "text/html": [
       "<pre>recommendations finished on 34000/122533 queries. users per second: 14171</pre>"
      ],
      "text/plain": [
       "recommendations finished on 34000/122533 queries. users per second: 14171"
      ]
     },
     "metadata": {},
     "output_type": "display_data"
    },
    {
     "data": {
      "text/html": [
       "<pre>recommendations finished on 35000/122533 queries. users per second: 14165.6</pre>"
      ],
      "text/plain": [
       "recommendations finished on 35000/122533 queries. users per second: 14165.6"
      ]
     },
     "metadata": {},
     "output_type": "display_data"
    },
    {
     "data": {
      "text/html": [
       "<pre>recommendations finished on 36000/122533 queries. users per second: 14159.3</pre>"
      ],
      "text/plain": [
       "recommendations finished on 36000/122533 queries. users per second: 14159.3"
      ]
     },
     "metadata": {},
     "output_type": "display_data"
    },
    {
     "data": {
      "text/html": [
       "<pre>recommendations finished on 37000/122533 queries. users per second: 14159.7</pre>"
      ],
      "text/plain": [
       "recommendations finished on 37000/122533 queries. users per second: 14159.7"
      ]
     },
     "metadata": {},
     "output_type": "display_data"
    },
    {
     "data": {
      "text/html": [
       "<pre>recommendations finished on 38000/122533 queries. users per second: 14159.7</pre>"
      ],
      "text/plain": [
       "recommendations finished on 38000/122533 queries. users per second: 14159.7"
      ]
     },
     "metadata": {},
     "output_type": "display_data"
    },
    {
     "data": {
      "text/html": [
       "<pre>recommendations finished on 39000/122533 queries. users per second: 14158.5</pre>"
      ],
      "text/plain": [
       "recommendations finished on 39000/122533 queries. users per second: 14158.5"
      ]
     },
     "metadata": {},
     "output_type": "display_data"
    },
    {
     "data": {
      "text/html": [
       "<pre>recommendations finished on 40000/122533 queries. users per second: 14156.6</pre>"
      ],
      "text/plain": [
       "recommendations finished on 40000/122533 queries. users per second: 14156.6"
      ]
     },
     "metadata": {},
     "output_type": "display_data"
    },
    {
     "data": {
      "text/html": [
       "<pre>recommendations finished on 41000/122533 queries. users per second: 14156.4</pre>"
      ],
      "text/plain": [
       "recommendations finished on 41000/122533 queries. users per second: 14156.4"
      ]
     },
     "metadata": {},
     "output_type": "display_data"
    },
    {
     "data": {
      "text/html": [
       "<pre>recommendations finished on 42000/122533 queries. users per second: 14156.8</pre>"
      ],
      "text/plain": [
       "recommendations finished on 42000/122533 queries. users per second: 14156.8"
      ]
     },
     "metadata": {},
     "output_type": "display_data"
    },
    {
     "data": {
      "text/html": [
       "<pre>recommendations finished on 43000/122533 queries. users per second: 14155.9</pre>"
      ],
      "text/plain": [
       "recommendations finished on 43000/122533 queries. users per second: 14155.9"
      ]
     },
     "metadata": {},
     "output_type": "display_data"
    },
    {
     "data": {
      "text/html": [
       "<pre>recommendations finished on 44000/122533 queries. users per second: 14155.6</pre>"
      ],
      "text/plain": [
       "recommendations finished on 44000/122533 queries. users per second: 14155.6"
      ]
     },
     "metadata": {},
     "output_type": "display_data"
    },
    {
     "data": {
      "text/html": [
       "<pre>recommendations finished on 45000/122533 queries. users per second: 14155.4</pre>"
      ],
      "text/plain": [
       "recommendations finished on 45000/122533 queries. users per second: 14155.4"
      ]
     },
     "metadata": {},
     "output_type": "display_data"
    },
    {
     "data": {
      "text/html": [
       "<pre>recommendations finished on 46000/122533 queries. users per second: 14153</pre>"
      ],
      "text/plain": [
       "recommendations finished on 46000/122533 queries. users per second: 14153"
      ]
     },
     "metadata": {},
     "output_type": "display_data"
    },
    {
     "data": {
      "text/html": [
       "<pre>recommendations finished on 47000/122533 queries. users per second: 14149.7</pre>"
      ],
      "text/plain": [
       "recommendations finished on 47000/122533 queries. users per second: 14149.7"
      ]
     },
     "metadata": {},
     "output_type": "display_data"
    },
    {
     "data": {
      "text/html": [
       "<pre>recommendations finished on 48000/122533 queries. users per second: 14150.7</pre>"
      ],
      "text/plain": [
       "recommendations finished on 48000/122533 queries. users per second: 14150.7"
      ]
     },
     "metadata": {},
     "output_type": "display_data"
    },
    {
     "data": {
      "text/html": [
       "<pre>recommendations finished on 49000/122533 queries. users per second: 14152.5</pre>"
      ],
      "text/plain": [
       "recommendations finished on 49000/122533 queries. users per second: 14152.5"
      ]
     },
     "metadata": {},
     "output_type": "display_data"
    },
    {
     "data": {
      "text/html": [
       "<pre>recommendations finished on 50000/122533 queries. users per second: 14142.1</pre>"
      ],
      "text/plain": [
       "recommendations finished on 50000/122533 queries. users per second: 14142.1"
      ]
     },
     "metadata": {},
     "output_type": "display_data"
    },
    {
     "data": {
      "text/html": [
       "<pre>recommendations finished on 51000/122533 queries. users per second: 14140.4</pre>"
      ],
      "text/plain": [
       "recommendations finished on 51000/122533 queries. users per second: 14140.4"
      ]
     },
     "metadata": {},
     "output_type": "display_data"
    },
    {
     "data": {
      "text/html": [
       "<pre>recommendations finished on 52000/122533 queries. users per second: 14139.6</pre>"
      ],
      "text/plain": [
       "recommendations finished on 52000/122533 queries. users per second: 14139.6"
      ]
     },
     "metadata": {},
     "output_type": "display_data"
    },
    {
     "data": {
      "text/html": [
       "<pre>recommendations finished on 53000/122533 queries. users per second: 14134.2</pre>"
      ],
      "text/plain": [
       "recommendations finished on 53000/122533 queries. users per second: 14134.2"
      ]
     },
     "metadata": {},
     "output_type": "display_data"
    },
    {
     "data": {
      "text/html": [
       "<pre>recommendations finished on 54000/122533 queries. users per second: 14131</pre>"
      ],
      "text/plain": [
       "recommendations finished on 54000/122533 queries. users per second: 14131"
      ]
     },
     "metadata": {},
     "output_type": "display_data"
    },
    {
     "data": {
      "text/html": [
       "<pre>recommendations finished on 55000/122533 queries. users per second: 14129</pre>"
      ],
      "text/plain": [
       "recommendations finished on 55000/122533 queries. users per second: 14129"
      ]
     },
     "metadata": {},
     "output_type": "display_data"
    },
    {
     "data": {
      "text/html": [
       "<pre>recommendations finished on 56000/122533 queries. users per second: 14128.1</pre>"
      ],
      "text/plain": [
       "recommendations finished on 56000/122533 queries. users per second: 14128.1"
      ]
     },
     "metadata": {},
     "output_type": "display_data"
    },
    {
     "data": {
      "text/html": [
       "<pre>recommendations finished on 57000/122533 queries. users per second: 14128</pre>"
      ],
      "text/plain": [
       "recommendations finished on 57000/122533 queries. users per second: 14128"
      ]
     },
     "metadata": {},
     "output_type": "display_data"
    },
    {
     "data": {
      "text/html": [
       "<pre>recommendations finished on 58000/122533 queries. users per second: 14128.3</pre>"
      ],
      "text/plain": [
       "recommendations finished on 58000/122533 queries. users per second: 14128.3"
      ]
     },
     "metadata": {},
     "output_type": "display_data"
    },
    {
     "data": {
      "text/html": [
       "<pre>recommendations finished on 59000/122533 queries. users per second: 14127.1</pre>"
      ],
      "text/plain": [
       "recommendations finished on 59000/122533 queries. users per second: 14127.1"
      ]
     },
     "metadata": {},
     "output_type": "display_data"
    },
    {
     "data": {
      "text/html": [
       "<pre>recommendations finished on 60000/122533 queries. users per second: 14115.4</pre>"
      ],
      "text/plain": [
       "recommendations finished on 60000/122533 queries. users per second: 14115.4"
      ]
     },
     "metadata": {},
     "output_type": "display_data"
    },
    {
     "data": {
      "text/html": [
       "<pre>recommendations finished on 61000/122533 queries. users per second: 14096.9</pre>"
      ],
      "text/plain": [
       "recommendations finished on 61000/122533 queries. users per second: 14096.9"
      ]
     },
     "metadata": {},
     "output_type": "display_data"
    },
    {
     "data": {
      "text/html": [
       "<pre>recommendations finished on 62000/122533 queries. users per second: 14086</pre>"
      ],
      "text/plain": [
       "recommendations finished on 62000/122533 queries. users per second: 14086"
      ]
     },
     "metadata": {},
     "output_type": "display_data"
    },
    {
     "data": {
      "text/html": [
       "<pre>recommendations finished on 63000/122533 queries. users per second: 14070.7</pre>"
      ],
      "text/plain": [
       "recommendations finished on 63000/122533 queries. users per second: 14070.7"
      ]
     },
     "metadata": {},
     "output_type": "display_data"
    },
    {
     "data": {
      "text/html": [
       "<pre>recommendations finished on 64000/122533 queries. users per second: 14056.4</pre>"
      ],
      "text/plain": [
       "recommendations finished on 64000/122533 queries. users per second: 14056.4"
      ]
     },
     "metadata": {},
     "output_type": "display_data"
    },
    {
     "data": {
      "text/html": [
       "<pre>recommendations finished on 65000/122533 queries. users per second: 14027.4</pre>"
      ],
      "text/plain": [
       "recommendations finished on 65000/122533 queries. users per second: 14027.4"
      ]
     },
     "metadata": {},
     "output_type": "display_data"
    },
    {
     "data": {
      "text/html": [
       "<pre>recommendations finished on 66000/122533 queries. users per second: 13998.2</pre>"
      ],
      "text/plain": [
       "recommendations finished on 66000/122533 queries. users per second: 13998.2"
      ]
     },
     "metadata": {},
     "output_type": "display_data"
    },
    {
     "data": {
      "text/html": [
       "<pre>recommendations finished on 67000/122533 queries. users per second: 13981.7</pre>"
      ],
      "text/plain": [
       "recommendations finished on 67000/122533 queries. users per second: 13981.7"
      ]
     },
     "metadata": {},
     "output_type": "display_data"
    },
    {
     "data": {
      "text/html": [
       "<pre>recommendations finished on 68000/122533 queries. users per second: 13970.8</pre>"
      ],
      "text/plain": [
       "recommendations finished on 68000/122533 queries. users per second: 13970.8"
      ]
     },
     "metadata": {},
     "output_type": "display_data"
    },
    {
     "data": {
      "text/html": [
       "<pre>recommendations finished on 69000/122533 queries. users per second: 13947</pre>"
      ],
      "text/plain": [
       "recommendations finished on 69000/122533 queries. users per second: 13947"
      ]
     },
     "metadata": {},
     "output_type": "display_data"
    },
    {
     "data": {
      "text/html": [
       "<pre>recommendations finished on 70000/122533 queries. users per second: 13922</pre>"
      ],
      "text/plain": [
       "recommendations finished on 70000/122533 queries. users per second: 13922"
      ]
     },
     "metadata": {},
     "output_type": "display_data"
    },
    {
     "data": {
      "text/html": [
       "<pre>recommendations finished on 71000/122533 queries. users per second: 13921.4</pre>"
      ],
      "text/plain": [
       "recommendations finished on 71000/122533 queries. users per second: 13921.4"
      ]
     },
     "metadata": {},
     "output_type": "display_data"
    },
    {
     "data": {
      "text/html": [
       "<pre>recommendations finished on 72000/122533 queries. users per second: 13923.7</pre>"
      ],
      "text/plain": [
       "recommendations finished on 72000/122533 queries. users per second: 13923.7"
      ]
     },
     "metadata": {},
     "output_type": "display_data"
    },
    {
     "data": {
      "text/html": [
       "<pre>recommendations finished on 73000/122533 queries. users per second: 13926.4</pre>"
      ],
      "text/plain": [
       "recommendations finished on 73000/122533 queries. users per second: 13926.4"
      ]
     },
     "metadata": {},
     "output_type": "display_data"
    },
    {
     "data": {
      "text/html": [
       "<pre>recommendations finished on 74000/122533 queries. users per second: 13926.6</pre>"
      ],
      "text/plain": [
       "recommendations finished on 74000/122533 queries. users per second: 13926.6"
      ]
     },
     "metadata": {},
     "output_type": "display_data"
    },
    {
     "data": {
      "text/html": [
       "<pre>recommendations finished on 75000/122533 queries. users per second: 13926.1</pre>"
      ],
      "text/plain": [
       "recommendations finished on 75000/122533 queries. users per second: 13926.1"
      ]
     },
     "metadata": {},
     "output_type": "display_data"
    },
    {
     "data": {
      "text/html": [
       "<pre>recommendations finished on 76000/122533 queries. users per second: 13927.2</pre>"
      ],
      "text/plain": [
       "recommendations finished on 76000/122533 queries. users per second: 13927.2"
      ]
     },
     "metadata": {},
     "output_type": "display_data"
    },
    {
     "data": {
      "text/html": [
       "<pre>recommendations finished on 77000/122533 queries. users per second: 13929.8</pre>"
      ],
      "text/plain": [
       "recommendations finished on 77000/122533 queries. users per second: 13929.8"
      ]
     },
     "metadata": {},
     "output_type": "display_data"
    },
    {
     "data": {
      "text/html": [
       "<pre>recommendations finished on 78000/122533 queries. users per second: 13932.5</pre>"
      ],
      "text/plain": [
       "recommendations finished on 78000/122533 queries. users per second: 13932.5"
      ]
     },
     "metadata": {},
     "output_type": "display_data"
    },
    {
     "data": {
      "text/html": [
       "<pre>recommendations finished on 79000/122533 queries. users per second: 13932.5</pre>"
      ],
      "text/plain": [
       "recommendations finished on 79000/122533 queries. users per second: 13932.5"
      ]
     },
     "metadata": {},
     "output_type": "display_data"
    },
    {
     "data": {
      "text/html": [
       "<pre>recommendations finished on 80000/122533 queries. users per second: 13931.9</pre>"
      ],
      "text/plain": [
       "recommendations finished on 80000/122533 queries. users per second: 13931.9"
      ]
     },
     "metadata": {},
     "output_type": "display_data"
    },
    {
     "data": {
      "text/html": [
       "<pre>recommendations finished on 81000/122533 queries. users per second: 13933.6</pre>"
      ],
      "text/plain": [
       "recommendations finished on 81000/122533 queries. users per second: 13933.6"
      ]
     },
     "metadata": {},
     "output_type": "display_data"
    },
    {
     "data": {
      "text/html": [
       "<pre>recommendations finished on 82000/122533 queries. users per second: 13935.6</pre>"
      ],
      "text/plain": [
       "recommendations finished on 82000/122533 queries. users per second: 13935.6"
      ]
     },
     "metadata": {},
     "output_type": "display_data"
    },
    {
     "data": {
      "text/html": [
       "<pre>recommendations finished on 83000/122533 queries. users per second: 13936.7</pre>"
      ],
      "text/plain": [
       "recommendations finished on 83000/122533 queries. users per second: 13936.7"
      ]
     },
     "metadata": {},
     "output_type": "display_data"
    },
    {
     "data": {
      "text/html": [
       "<pre>recommendations finished on 84000/122533 queries. users per second: 13939.3</pre>"
      ],
      "text/plain": [
       "recommendations finished on 84000/122533 queries. users per second: 13939.3"
      ]
     },
     "metadata": {},
     "output_type": "display_data"
    },
    {
     "data": {
      "text/html": [
       "<pre>recommendations finished on 85000/122533 queries. users per second: 13940.5</pre>"
      ],
      "text/plain": [
       "recommendations finished on 85000/122533 queries. users per second: 13940.5"
      ]
     },
     "metadata": {},
     "output_type": "display_data"
    },
    {
     "data": {
      "text/html": [
       "<pre>recommendations finished on 86000/122533 queries. users per second: 13941.7</pre>"
      ],
      "text/plain": [
       "recommendations finished on 86000/122533 queries. users per second: 13941.7"
      ]
     },
     "metadata": {},
     "output_type": "display_data"
    },
    {
     "data": {
      "text/html": [
       "<pre>recommendations finished on 87000/122533 queries. users per second: 13942.8</pre>"
      ],
      "text/plain": [
       "recommendations finished on 87000/122533 queries. users per second: 13942.8"
      ]
     },
     "metadata": {},
     "output_type": "display_data"
    },
    {
     "data": {
      "text/html": [
       "<pre>recommendations finished on 88000/122533 queries. users per second: 13944</pre>"
      ],
      "text/plain": [
       "recommendations finished on 88000/122533 queries. users per second: 13944"
      ]
     },
     "metadata": {},
     "output_type": "display_data"
    },
    {
     "data": {
      "text/html": [
       "<pre>recommendations finished on 89000/122533 queries. users per second: 13945.7</pre>"
      ],
      "text/plain": [
       "recommendations finished on 89000/122533 queries. users per second: 13945.7"
      ]
     },
     "metadata": {},
     "output_type": "display_data"
    },
    {
     "data": {
      "text/html": [
       "<pre>recommendations finished on 90000/122533 queries. users per second: 13947.9</pre>"
      ],
      "text/plain": [
       "recommendations finished on 90000/122533 queries. users per second: 13947.9"
      ]
     },
     "metadata": {},
     "output_type": "display_data"
    },
    {
     "data": {
      "text/html": [
       "<pre>recommendations finished on 91000/122533 queries. users per second: 13949.6</pre>"
      ],
      "text/plain": [
       "recommendations finished on 91000/122533 queries. users per second: 13949.6"
      ]
     },
     "metadata": {},
     "output_type": "display_data"
    },
    {
     "data": {
      "text/html": [
       "<pre>recommendations finished on 92000/122533 queries. users per second: 13951.9</pre>"
      ],
      "text/plain": [
       "recommendations finished on 92000/122533 queries. users per second: 13951.9"
      ]
     },
     "metadata": {},
     "output_type": "display_data"
    },
    {
     "data": {
      "text/html": [
       "<pre>recommendations finished on 93000/122533 queries. users per second: 13952.3</pre>"
      ],
      "text/plain": [
       "recommendations finished on 93000/122533 queries. users per second: 13952.3"
      ]
     },
     "metadata": {},
     "output_type": "display_data"
    },
    {
     "data": {
      "text/html": [
       "<pre>recommendations finished on 94000/122533 queries. users per second: 13954.3</pre>"
      ],
      "text/plain": [
       "recommendations finished on 94000/122533 queries. users per second: 13954.3"
      ]
     },
     "metadata": {},
     "output_type": "display_data"
    },
    {
     "data": {
      "text/html": [
       "<pre>recommendations finished on 95000/122533 queries. users per second: 13955.6</pre>"
      ],
      "text/plain": [
       "recommendations finished on 95000/122533 queries. users per second: 13955.6"
      ]
     },
     "metadata": {},
     "output_type": "display_data"
    },
    {
     "data": {
      "text/html": [
       "<pre>recommendations finished on 96000/122533 queries. users per second: 13956.9</pre>"
      ],
      "text/plain": [
       "recommendations finished on 96000/122533 queries. users per second: 13956.9"
      ]
     },
     "metadata": {},
     "output_type": "display_data"
    },
    {
     "data": {
      "text/html": [
       "<pre>recommendations finished on 97000/122533 queries. users per second: 13957.7</pre>"
      ],
      "text/plain": [
       "recommendations finished on 97000/122533 queries. users per second: 13957.7"
      ]
     },
     "metadata": {},
     "output_type": "display_data"
    },
    {
     "data": {
      "text/html": [
       "<pre>recommendations finished on 98000/122533 queries. users per second: 13957</pre>"
      ],
      "text/plain": [
       "recommendations finished on 98000/122533 queries. users per second: 13957"
      ]
     },
     "metadata": {},
     "output_type": "display_data"
    },
    {
     "data": {
      "text/html": [
       "<pre>recommendations finished on 99000/122533 queries. users per second: 13958</pre>"
      ],
      "text/plain": [
       "recommendations finished on 99000/122533 queries. users per second: 13958"
      ]
     },
     "metadata": {},
     "output_type": "display_data"
    },
    {
     "data": {
      "text/html": [
       "<pre>recommendations finished on 100000/122533 queries. users per second: 13958.7</pre>"
      ],
      "text/plain": [
       "recommendations finished on 100000/122533 queries. users per second: 13958.7"
      ]
     },
     "metadata": {},
     "output_type": "display_data"
    },
    {
     "data": {
      "text/html": [
       "<pre>recommendations finished on 101000/122533 queries. users per second: 13959.7</pre>"
      ],
      "text/plain": [
       "recommendations finished on 101000/122533 queries. users per second: 13959.7"
      ]
     },
     "metadata": {},
     "output_type": "display_data"
    },
    {
     "data": {
      "text/html": [
       "<pre>recommendations finished on 102000/122533 queries. users per second: 13960.7</pre>"
      ],
      "text/plain": [
       "recommendations finished on 102000/122533 queries. users per second: 13960.7"
      ]
     },
     "metadata": {},
     "output_type": "display_data"
    },
    {
     "data": {
      "text/html": [
       "<pre>recommendations finished on 103000/122533 queries. users per second: 13961.9</pre>"
      ],
      "text/plain": [
       "recommendations finished on 103000/122533 queries. users per second: 13961.9"
      ]
     },
     "metadata": {},
     "output_type": "display_data"
    },
    {
     "data": {
      "text/html": [
       "<pre>recommendations finished on 104000/122533 queries. users per second: 13961.6</pre>"
      ],
      "text/plain": [
       "recommendations finished on 104000/122533 queries. users per second: 13961.6"
      ]
     },
     "metadata": {},
     "output_type": "display_data"
    },
    {
     "data": {
      "text/html": [
       "<pre>recommendations finished on 105000/122533 queries. users per second: 13960.4</pre>"
      ],
      "text/plain": [
       "recommendations finished on 105000/122533 queries. users per second: 13960.4"
      ]
     },
     "metadata": {},
     "output_type": "display_data"
    },
    {
     "data": {
      "text/html": [
       "<pre>recommendations finished on 106000/122533 queries. users per second: 13958.8</pre>"
      ],
      "text/plain": [
       "recommendations finished on 106000/122533 queries. users per second: 13958.8"
      ]
     },
     "metadata": {},
     "output_type": "display_data"
    },
    {
     "data": {
      "text/html": [
       "<pre>recommendations finished on 107000/122533 queries. users per second: 13958.2</pre>"
      ],
      "text/plain": [
       "recommendations finished on 107000/122533 queries. users per second: 13958.2"
      ]
     },
     "metadata": {},
     "output_type": "display_data"
    },
    {
     "data": {
      "text/html": [
       "<pre>recommendations finished on 108000/122533 queries. users per second: 13958.1</pre>"
      ],
      "text/plain": [
       "recommendations finished on 108000/122533 queries. users per second: 13958.1"
      ]
     },
     "metadata": {},
     "output_type": "display_data"
    },
    {
     "data": {
      "text/html": [
       "<pre>recommendations finished on 109000/122533 queries. users per second: 13959.1</pre>"
      ],
      "text/plain": [
       "recommendations finished on 109000/122533 queries. users per second: 13959.1"
      ]
     },
     "metadata": {},
     "output_type": "display_data"
    },
    {
     "data": {
      "text/html": [
       "<pre>recommendations finished on 110000/122533 queries. users per second: 13959</pre>"
      ],
      "text/plain": [
       "recommendations finished on 110000/122533 queries. users per second: 13959"
      ]
     },
     "metadata": {},
     "output_type": "display_data"
    },
    {
     "data": {
      "text/html": [
       "<pre>recommendations finished on 111000/122533 queries. users per second: 13959.6</pre>"
      ],
      "text/plain": [
       "recommendations finished on 111000/122533 queries. users per second: 13959.6"
      ]
     },
     "metadata": {},
     "output_type": "display_data"
    },
    {
     "data": {
      "text/html": [
       "<pre>recommendations finished on 112000/122533 queries. users per second: 13960.5</pre>"
      ],
      "text/plain": [
       "recommendations finished on 112000/122533 queries. users per second: 13960.5"
      ]
     },
     "metadata": {},
     "output_type": "display_data"
    },
    {
     "data": {
      "text/html": [
       "<pre>recommendations finished on 113000/122533 queries. users per second: 13961.2</pre>"
      ],
      "text/plain": [
       "recommendations finished on 113000/122533 queries. users per second: 13961.2"
      ]
     },
     "metadata": {},
     "output_type": "display_data"
    },
    {
     "data": {
      "text/html": [
       "<pre>recommendations finished on 114000/122533 queries. users per second: 13963.2</pre>"
      ],
      "text/plain": [
       "recommendations finished on 114000/122533 queries. users per second: 13963.2"
      ]
     },
     "metadata": {},
     "output_type": "display_data"
    },
    {
     "data": {
      "text/html": [
       "<pre>recommendations finished on 115000/122533 queries. users per second: 13965.2</pre>"
      ],
      "text/plain": [
       "recommendations finished on 115000/122533 queries. users per second: 13965.2"
      ]
     },
     "metadata": {},
     "output_type": "display_data"
    },
    {
     "data": {
      "text/html": [
       "<pre>recommendations finished on 116000/122533 queries. users per second: 13966.2</pre>"
      ],
      "text/plain": [
       "recommendations finished on 116000/122533 queries. users per second: 13966.2"
      ]
     },
     "metadata": {},
     "output_type": "display_data"
    },
    {
     "data": {
      "text/html": [
       "<pre>recommendations finished on 117000/122533 queries. users per second: 13968.4</pre>"
      ],
      "text/plain": [
       "recommendations finished on 117000/122533 queries. users per second: 13968.4"
      ]
     },
     "metadata": {},
     "output_type": "display_data"
    },
    {
     "data": {
      "text/html": [
       "<pre>recommendations finished on 118000/122533 queries. users per second: 13970.5</pre>"
      ],
      "text/plain": [
       "recommendations finished on 118000/122533 queries. users per second: 13970.5"
      ]
     },
     "metadata": {},
     "output_type": "display_data"
    },
    {
     "data": {
      "text/html": [
       "<pre>recommendations finished on 119000/122533 queries. users per second: 13971.9</pre>"
      ],
      "text/plain": [
       "recommendations finished on 119000/122533 queries. users per second: 13971.9"
      ]
     },
     "metadata": {},
     "output_type": "display_data"
    },
    {
     "data": {
      "text/html": [
       "<pre>recommendations finished on 120000/122533 queries. users per second: 13973.3</pre>"
      ],
      "text/plain": [
       "recommendations finished on 120000/122533 queries. users per second: 13973.3"
      ]
     },
     "metadata": {},
     "output_type": "display_data"
    },
    {
     "data": {
      "text/html": [
       "<pre>recommendations finished on 121000/122533 queries. users per second: 13969.7</pre>"
      ],
      "text/plain": [
       "recommendations finished on 121000/122533 queries. users per second: 13969.7"
      ]
     },
     "metadata": {},
     "output_type": "display_data"
    },
    {
     "data": {
      "text/html": [
       "<pre>recommendations finished on 122000/122533 queries. users per second: 13793.9</pre>"
      ],
      "text/plain": [
       "recommendations finished on 122000/122533 queries. users per second: 13793.9"
      ]
     },
     "metadata": {},
     "output_type": "display_data"
    },
    {
     "name": "stdout",
     "output_type": "stream",
     "text": [
      "+------------+-----------+-----------------------+------+\n",
      "| customerId | productId |         score         | rank |\n",
      "+------------+-----------+-----------------------+------+\n",
      "|     1      |   46978   |   0.0555555522441864  |  1   |\n",
      "|     1      |   51614   |   0.0370370348294576  |  2   |\n",
      "|     1      |    2684   |  0.02777778108914693  |  3   |\n",
      "|     1      |    740    |  0.02777778108914693  |  4   |\n",
      "|     1      |   11726   |  0.02777778108914693  |  5   |\n",
      "|     2      |   23708   |  0.014981269836425781 |  1   |\n",
      "|     2      |   54554   |  0.008572399616241455 |  2   |\n",
      "|     2      |   42978   |  0.006504058837890625 |  3   |\n",
      "|     2      |   48866   |  0.006097555160522461 |  4   |\n",
      "|     2      |   25737   | 0.0054200490315755205 |  5   |\n",
      "|     3      |    7407   |   0.0416666716337204  |  1   |\n",
      "|     3      |    6470   |   0.0416666716337204  |  2   |\n",
      "|     3      |   56973   |   0.0357142835855484  |  3   |\n",
      "|     3      |    4209   |   0.0357142835855484  |  4   |\n",
      "|     3      |   31999   |   0.0357142835855484  |  5   |\n",
      "|     4      |   21977   |  0.009090915322303772 |  1   |\n",
      "|     4      |   14682   |  0.008720934391021729 |  2   |\n",
      "|     4      |   25803   |   0.0079365074634552  |  3   |\n",
      "|     4      |   37638   |  0.007462680339813232 |  4   |\n",
      "|     4      |   10712   |  0.007462680339813232 |  5   |\n",
      "|     5      |    1184   |  0.035714298486709595 |  1   |\n",
      "|     5      |    5386   |  0.035714298486709595 |  2   |\n",
      "|     5      |   40133   |  0.035714298486709595 |  3   |\n",
      "|     5      |   45484   |  0.03333333134651184  |  4   |\n",
      "|     5      |   38017   |  0.03333333134651184  |  5   |\n",
      "|     6      |    2980   |   0.0104166679084301  |  1   |\n",
      "|     6      |    6808   |   0.0104166679084301  |  2   |\n",
      "|     6      |   43991   |   0.0089285708963871  |  3   |\n",
      "|     6      |   38589   |   0.0089285708963871  |  4   |\n",
      "|     6      |   33029   |   0.0089285708963871  |  5   |\n",
      "+------------+-----------+-----------------------+------+\n",
      "[612665 rows x 4 columns]\n",
      "\n"
     ]
    }
   ],
   "source": [
    "users_to_recommend = list(customers[user_id])\n",
    "\n",
    "final_model = tc.item_similarity_recommender.create(tc.SFrame(data_dummy), \n",
    "                                            user_id=user_id, \n",
    "                                            item_id=item_id, \n",
    "                                            target='purchase_dummy', \n",
    "                                            similarity_type='jaccard')\n",
    "\n",
    "recom = final_model.recommend(users=users_to_recommend, k=5)\n",
    "recom.print_rows(n_display)"
   ]
  },
  {
   "cell_type": "markdown",
   "metadata": {},
   "source": [
    "### 9.1. CSV output file with all recommendations"
   ]
  },
  {
   "cell_type": "code",
   "execution_count": 192,
   "metadata": {},
   "outputs": [],
   "source": [
    "df_rec = recom.to_dataframe()\n",
    "df_rec.to_csv('recommendation.csv')\n"
   ]
  },
  {
   "cell_type": "markdown",
   "metadata": {},
   "source": [
    "### 9.2. Customer recommendation function"
   ]
  },
  {
   "cell_type": "code",
   "execution_count": 193,
   "metadata": {},
   "outputs": [],
   "source": [
    "df_rec['recommendedProducts'] = df_rec.groupby([user_id])[item_id].transform(lambda x: '|'.join(x.astype(str)))\n",
    "df_output = df_rec[['customerId', 'recommendedProducts']].drop_duplicates().sort_values('customerId').set_index('customerId')\n",
    "\n",
    "def customer_recomendation(customer_id):\n",
    "    if customer_id not in df_output.index:\n",
    "        print('Customer not found.')\n",
    "        return customer_id\n",
    "    return df_output.loc[customer_id]"
   ]
  },
  {
   "cell_type": "code",
   "execution_count": 194,
   "metadata": {},
   "outputs": [
    {
     "data": {
      "text/plain": [
       "recommendedProducts    11685|51032|49437|55977|36001\n",
       "Name: 101, dtype: object"
      ]
     },
     "execution_count": 194,
     "metadata": {},
     "output_type": "execute_result"
    }
   ],
   "source": [
    "customer_recomendation(101)"
   ]
  },
  {
   "cell_type": "markdown",
   "metadata": {
    "collapsed": true
   },
   "source": [
    "## Summary\n",
    "We were able to create a recommendation system for making recommendations to customers.   \n",
    "We used Collaborative Filtering approaches with cosine, pearson and jaccard measure and compare the models with our baseline popularity model.   \n",
    "We evaluated our models using precision and recall and realized the impact of personalization.   \n",
    "Finally, we selected the best approach, exported the recommendations and created a recommendation function.  \n"
   ]
  },
  {
   "cell_type": "code",
   "execution_count": null,
   "metadata": {
    "collapsed": true
   },
   "outputs": [],
   "source": []
  }
 ],
 "metadata": {
  "kernelspec": {
   "display_name": "conda_python3",
   "language": "python",
   "name": "conda_python3"
  },
  "language_info": {
   "codemirror_mode": {
    "name": "ipython",
    "version": 3
   },
   "file_extension": ".py",
   "mimetype": "text/x-python",
   "name": "python",
   "nbconvert_exporter": "python",
   "pygments_lexer": "ipython3",
   "version": "3.6.5"
  }
 },
 "nbformat": 4,
 "nbformat_minor": 2
}
